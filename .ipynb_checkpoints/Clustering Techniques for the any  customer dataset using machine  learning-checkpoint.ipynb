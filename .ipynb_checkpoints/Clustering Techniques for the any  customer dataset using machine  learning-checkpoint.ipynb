{
 "cells": [
  {
   "cell_type": "code",
   "execution_count": 1,
   "id": "0c2f41cc-c69d-4dd5-ac8d-53082e56596d",
   "metadata": {},
   "outputs": [],
   "source": [
    "import pandas as pd\n",
    "import numpy as np\n",
    "import matplotlib.pyplot as plt\n",
    "%matplotlib inline\n",
    "import seaborn as sns\n",
    "import plotly.express as px\n",
    "from sklearn.preprocessing import StandardScaler, LabelEncoder\n",
    "from sklearn.cluster import KMeans, DBSCAN, AgglomerativeClustering\n",
    "from sklearn.metrics import davies_bouldin_score, silhouette_score\n",
    "from flask import Flask , jsonify, request, render_template\n",
    "import warnings\n",
    "warnings.filterwarnings('ignore')\n",
    "np.random.seed(7)\n"
   ]
  },
  {
   "cell_type": "code",
   "execution_count": 9,
   "id": "8d989cc9-30ea-4e14-a040-e712afc7b5ee",
   "metadata": {},
   "outputs": [],
   "source": [
    "plt.rcParams['figure.figsize'] = (10, 6)\n",
    "# to change default colormap\n",
    "sns.set(style=\"darkgrid\")\n",
    "sns.set_palette(\"pastel\")"
   ]
  },
  {
   "cell_type": "code",
   "execution_count": 4,
   "id": "70c35ac7-692e-4dfa-9606-d84c7ede228e",
   "metadata": {},
   "outputs": [
    {
     "name": "stdout",
     "output_type": "stream",
     "text": [
      "<class 'pandas.core.frame.DataFrame'>\n",
      "RangeIndex: 200 entries, 0 to 199\n",
      "Data columns (total 5 columns):\n",
      " #   Column                  Non-Null Count  Dtype \n",
      "---  ------                  --------------  ----- \n",
      " 0   CustomerID              200 non-null    int64 \n",
      " 1   Gender                  200 non-null    object\n",
      " 2   Age                     200 non-null    int64 \n",
      " 3   Annual Income (k$)      200 non-null    int64 \n",
      " 4   Spending Score (1-100)  200 non-null    int64 \n",
      "dtypes: int64(4), object(1)\n",
      "memory usage: 7.9+ KB\n"
     ]
    }
   ],
   "source": [
    "data = pd.read_csv(r\"C:\\Users\\AJAYRAJ\\Downloads\\mall\\Mall_Customers.csv\")\n",
    "data.info()"
   ]
  },
  {
   "cell_type": "code",
   "execution_count": 14,
   "id": "ac7bfd34-d9e9-4c7f-86bd-3422362d857c",
   "metadata": {},
   "outputs": [
    {
     "data": {
      "text/plain": [
       "(200, 5)"
      ]
     },
     "execution_count": 14,
     "metadata": {},
     "output_type": "execute_result"
    }
   ],
   "source": [
    "data.shape"
   ]
  },
  {
   "cell_type": "code",
   "execution_count": 31,
   "id": "81fec22f-7218-4489-a372-21b9cc5e04d8",
   "metadata": {},
   "outputs": [
    {
     "data": {
      "text/plain": [
       "Gender                    object\n",
       "Age                        int64\n",
       "Annual Income (k$)         int64\n",
       "Spending Score (1-100)     int64\n",
       "dtype: object"
      ]
     },
     "execution_count": 31,
     "metadata": {},
     "output_type": "execute_result"
    }
   ],
   "source": [
    "data.dtypes"
   ]
  },
  {
   "cell_type": "code",
   "execution_count": 49,
   "id": "e9c51c69-a84c-4a33-ae4d-efa83568d648",
   "metadata": {},
   "outputs": [
    {
     "data": {
      "text/html": [
       "<div>\n",
       "<style scoped>\n",
       "    .dataframe tbody tr th:only-of-type {\n",
       "        vertical-align: middle;\n",
       "    }\n",
       "\n",
       "    .dataframe tbody tr th {\n",
       "        vertical-align: top;\n",
       "    }\n",
       "\n",
       "    .dataframe thead th {\n",
       "        text-align: right;\n",
       "    }\n",
       "</style>\n",
       "<table border=\"1\" class=\"dataframe\">\n",
       "  <thead>\n",
       "    <tr style=\"text-align: right;\">\n",
       "      <th></th>\n",
       "      <th>Age</th>\n",
       "      <th>Annual Income (k$)</th>\n",
       "      <th>Spending Score (1-100)</th>\n",
       "    </tr>\n",
       "  </thead>\n",
       "  <tbody>\n",
       "    <tr>\n",
       "      <th>count</th>\n",
       "      <td>200.000000</td>\n",
       "      <td>200.000000</td>\n",
       "      <td>200.000000</td>\n",
       "    </tr>\n",
       "    <tr>\n",
       "      <th>mean</th>\n",
       "      <td>38.850000</td>\n",
       "      <td>60.560000</td>\n",
       "      <td>50.200000</td>\n",
       "    </tr>\n",
       "    <tr>\n",
       "      <th>std</th>\n",
       "      <td>13.969007</td>\n",
       "      <td>26.264721</td>\n",
       "      <td>25.823522</td>\n",
       "    </tr>\n",
       "    <tr>\n",
       "      <th>min</th>\n",
       "      <td>18.000000</td>\n",
       "      <td>15.000000</td>\n",
       "      <td>1.000000</td>\n",
       "    </tr>\n",
       "    <tr>\n",
       "      <th>25%</th>\n",
       "      <td>28.750000</td>\n",
       "      <td>41.500000</td>\n",
       "      <td>34.750000</td>\n",
       "    </tr>\n",
       "    <tr>\n",
       "      <th>50%</th>\n",
       "      <td>36.000000</td>\n",
       "      <td>61.500000</td>\n",
       "      <td>50.000000</td>\n",
       "    </tr>\n",
       "    <tr>\n",
       "      <th>75%</th>\n",
       "      <td>49.000000</td>\n",
       "      <td>78.000000</td>\n",
       "      <td>73.000000</td>\n",
       "    </tr>\n",
       "    <tr>\n",
       "      <th>max</th>\n",
       "      <td>70.000000</td>\n",
       "      <td>137.000000</td>\n",
       "      <td>99.000000</td>\n",
       "    </tr>\n",
       "  </tbody>\n",
       "</table>\n",
       "</div>"
      ],
      "text/plain": [
       "              Age  Annual Income (k$)  Spending Score (1-100)\n",
       "count  200.000000          200.000000              200.000000\n",
       "mean    38.850000           60.560000               50.200000\n",
       "std     13.969007           26.264721               25.823522\n",
       "min     18.000000           15.000000                1.000000\n",
       "25%     28.750000           41.500000               34.750000\n",
       "50%     36.000000           61.500000               50.000000\n",
       "75%     49.000000           78.000000               73.000000\n",
       "max     70.000000          137.000000               99.000000"
      ]
     },
     "execution_count": 49,
     "metadata": {},
     "output_type": "execute_result"
    }
   ],
   "source": [
    "data.describe()"
   ]
  },
  {
   "cell_type": "code",
   "execution_count": 5,
   "id": "797feca7-aeec-4ae2-9b36-f4386799667e",
   "metadata": {},
   "outputs": [
    {
     "data": {
      "text/plain": [
       "Index(['CustomerID', 'Gender', 'Age', 'Annual Income (k$)',\n",
       "       'Spending Score (1-100)'],\n",
       "      dtype='object')"
      ]
     },
     "execution_count": 5,
     "metadata": {},
     "output_type": "execute_result"
    }
   ],
   "source": [
    "data.columns\n"
   ]
  },
  {
   "cell_type": "code",
   "execution_count": 44,
   "id": "ee5229d6-7b27-463b-a49e-e7034bf85824",
   "metadata": {},
   "outputs": [
    {
     "data": {
      "text/html": [
       "<div>\n",
       "<style scoped>\n",
       "    .dataframe tbody tr th:only-of-type {\n",
       "        vertical-align: middle;\n",
       "    }\n",
       "\n",
       "    .dataframe tbody tr th {\n",
       "        vertical-align: top;\n",
       "    }\n",
       "\n",
       "    .dataframe thead th {\n",
       "        text-align: right;\n",
       "    }\n",
       "</style>\n",
       "<table border=\"1\" class=\"dataframe\">\n",
       "  <thead>\n",
       "    <tr style=\"text-align: right;\">\n",
       "      <th></th>\n",
       "      <th>Gender</th>\n",
       "      <th>Age</th>\n",
       "      <th>Annual Income (k$)</th>\n",
       "      <th>Spending Score (1-100)</th>\n",
       "    </tr>\n",
       "  </thead>\n",
       "  <tbody>\n",
       "    <tr>\n",
       "      <th>0</th>\n",
       "      <td>Male</td>\n",
       "      <td>19</td>\n",
       "      <td>15</td>\n",
       "      <td>39</td>\n",
       "    </tr>\n",
       "    <tr>\n",
       "      <th>1</th>\n",
       "      <td>Male</td>\n",
       "      <td>21</td>\n",
       "      <td>15</td>\n",
       "      <td>81</td>\n",
       "    </tr>\n",
       "    <tr>\n",
       "      <th>2</th>\n",
       "      <td>Female</td>\n",
       "      <td>20</td>\n",
       "      <td>16</td>\n",
       "      <td>6</td>\n",
       "    </tr>\n",
       "    <tr>\n",
       "      <th>3</th>\n",
       "      <td>Female</td>\n",
       "      <td>23</td>\n",
       "      <td>16</td>\n",
       "      <td>77</td>\n",
       "    </tr>\n",
       "    <tr>\n",
       "      <th>4</th>\n",
       "      <td>Female</td>\n",
       "      <td>31</td>\n",
       "      <td>17</td>\n",
       "      <td>40</td>\n",
       "    </tr>\n",
       "    <tr>\n",
       "      <th>5</th>\n",
       "      <td>Female</td>\n",
       "      <td>22</td>\n",
       "      <td>17</td>\n",
       "      <td>76</td>\n",
       "    </tr>\n",
       "    <tr>\n",
       "      <th>6</th>\n",
       "      <td>Female</td>\n",
       "      <td>35</td>\n",
       "      <td>18</td>\n",
       "      <td>6</td>\n",
       "    </tr>\n",
       "    <tr>\n",
       "      <th>7</th>\n",
       "      <td>Female</td>\n",
       "      <td>23</td>\n",
       "      <td>18</td>\n",
       "      <td>94</td>\n",
       "    </tr>\n",
       "    <tr>\n",
       "      <th>8</th>\n",
       "      <td>Male</td>\n",
       "      <td>64</td>\n",
       "      <td>19</td>\n",
       "      <td>3</td>\n",
       "    </tr>\n",
       "    <tr>\n",
       "      <th>9</th>\n",
       "      <td>Female</td>\n",
       "      <td>30</td>\n",
       "      <td>19</td>\n",
       "      <td>72</td>\n",
       "    </tr>\n",
       "  </tbody>\n",
       "</table>\n",
       "</div>"
      ],
      "text/plain": [
       "   Gender  Age  Annual Income (k$)  Spending Score (1-100)\n",
       "0    Male   19                  15                      39\n",
       "1    Male   21                  15                      81\n",
       "2  Female   20                  16                       6\n",
       "3  Female   23                  16                      77\n",
       "4  Female   31                  17                      40\n",
       "5  Female   22                  17                      76\n",
       "6  Female   35                  18                       6\n",
       "7  Female   23                  18                      94\n",
       "8    Male   64                  19                       3\n",
       "9  Female   30                  19                      72"
      ]
     },
     "execution_count": 44,
     "metadata": {},
     "output_type": "execute_result"
    }
   ],
   "source": [
    "data.head(10)"
   ]
  },
  {
   "cell_type": "code",
   "execution_count": 5,
   "id": "a2d1234c-da87-4893-aab6-f8412b023c2b",
   "metadata": {},
   "outputs": [],
   "source": [
    "data1 = data.copy()"
   ]
  },
  {
   "cell_type": "code",
   "execution_count": 7,
   "id": "1f4199e1-db3e-4060-b201-7041775587ed",
   "metadata": {},
   "outputs": [
    {
     "data": {
      "text/html": [
       "<div>\n",
       "<style scoped>\n",
       "    .dataframe tbody tr th:only-of-type {\n",
       "        vertical-align: middle;\n",
       "    }\n",
       "\n",
       "    .dataframe tbody tr th {\n",
       "        vertical-align: top;\n",
       "    }\n",
       "\n",
       "    .dataframe thead th {\n",
       "        text-align: right;\n",
       "    }\n",
       "</style>\n",
       "<table border=\"1\" class=\"dataframe\">\n",
       "  <thead>\n",
       "    <tr style=\"text-align: right;\">\n",
       "      <th></th>\n",
       "      <th>CustomerID</th>\n",
       "      <th>Gender</th>\n",
       "      <th>Age</th>\n",
       "      <th>Annual Income (k$)</th>\n",
       "      <th>Spending Score (1-100)</th>\n",
       "    </tr>\n",
       "  </thead>\n",
       "  <tbody>\n",
       "    <tr>\n",
       "      <th>0</th>\n",
       "      <td>1</td>\n",
       "      <td>1</td>\n",
       "      <td>19</td>\n",
       "      <td>15</td>\n",
       "      <td>39</td>\n",
       "    </tr>\n",
       "    <tr>\n",
       "      <th>1</th>\n",
       "      <td>2</td>\n",
       "      <td>1</td>\n",
       "      <td>21</td>\n",
       "      <td>15</td>\n",
       "      <td>81</td>\n",
       "    </tr>\n",
       "    <tr>\n",
       "      <th>2</th>\n",
       "      <td>3</td>\n",
       "      <td>0</td>\n",
       "      <td>20</td>\n",
       "      <td>16</td>\n",
       "      <td>6</td>\n",
       "    </tr>\n",
       "    <tr>\n",
       "      <th>3</th>\n",
       "      <td>4</td>\n",
       "      <td>0</td>\n",
       "      <td>23</td>\n",
       "      <td>16</td>\n",
       "      <td>77</td>\n",
       "    </tr>\n",
       "    <tr>\n",
       "      <th>4</th>\n",
       "      <td>5</td>\n",
       "      <td>0</td>\n",
       "      <td>31</td>\n",
       "      <td>17</td>\n",
       "      <td>40</td>\n",
       "    </tr>\n",
       "    <tr>\n",
       "      <th>5</th>\n",
       "      <td>6</td>\n",
       "      <td>0</td>\n",
       "      <td>22</td>\n",
       "      <td>17</td>\n",
       "      <td>76</td>\n",
       "    </tr>\n",
       "    <tr>\n",
       "      <th>6</th>\n",
       "      <td>7</td>\n",
       "      <td>0</td>\n",
       "      <td>35</td>\n",
       "      <td>18</td>\n",
       "      <td>6</td>\n",
       "    </tr>\n",
       "    <tr>\n",
       "      <th>7</th>\n",
       "      <td>8</td>\n",
       "      <td>0</td>\n",
       "      <td>23</td>\n",
       "      <td>18</td>\n",
       "      <td>94</td>\n",
       "    </tr>\n",
       "    <tr>\n",
       "      <th>8</th>\n",
       "      <td>9</td>\n",
       "      <td>1</td>\n",
       "      <td>64</td>\n",
       "      <td>19</td>\n",
       "      <td>3</td>\n",
       "    </tr>\n",
       "    <tr>\n",
       "      <th>9</th>\n",
       "      <td>10</td>\n",
       "      <td>0</td>\n",
       "      <td>30</td>\n",
       "      <td>19</td>\n",
       "      <td>72</td>\n",
       "    </tr>\n",
       "  </tbody>\n",
       "</table>\n",
       "</div>"
      ],
      "text/plain": [
       "   CustomerID  Gender  Age  Annual Income (k$)  Spending Score (1-100)\n",
       "0           1       1   19                  15                      39\n",
       "1           2       1   21                  15                      81\n",
       "2           3       0   20                  16                       6\n",
       "3           4       0   23                  16                      77\n",
       "4           5       0   31                  17                      40\n",
       "5           6       0   22                  17                      76\n",
       "6           7       0   35                  18                       6\n",
       "7           8       0   23                  18                      94\n",
       "8           9       1   64                  19                       3\n",
       "9          10       0   30                  19                      72"
      ]
     },
     "execution_count": 7,
     "metadata": {},
     "output_type": "execute_result"
    }
   ],
   "source": [
    "# label Encoding\n",
    "encoder = LabelEncoder()\n",
    "#Looping for columns\n",
    "for i in data1.columns[1:]:\n",
    "    if(data1[i].dtype=='object'):\n",
    "        data1[i] = encoder.fit_transform(data1[i])\n",
    "    else:\n",
    "        data1[i] = data1[i]\n",
    "data1.head(10)\n",
    "        "
   ]
  },
  {
   "cell_type": "code",
   "execution_count": 8,
   "id": "8396fec7-3d6f-4cc1-b2ca-dbdf43b97b96",
   "metadata": {},
   "outputs": [],
   "source": [
    "# scaling\n",
    "scaler = StandardScaler()\n",
    "scaled_data = pd.DataFrame(scaler.fit_transform(data1), \n",
    "                           columns = data1.columns)"
   ]
  },
  {
   "cell_type": "code",
   "execution_count": 39,
   "id": "580ba0ab-caf6-4472-a911-064025d9d59e",
   "metadata": {},
   "outputs": [
    {
     "data": {
      "image/png": "[encoded data removed]",
      "text/plain": [
       "<Figure size 1000x600 with 1 Axes>"
      ]
     },
     "metadata": {},
     "output_type": "display_data"
    }
   ],
   "source": [
    "data1.Gender=data1.Gender.apply(str)\n",
    "sns.boxplot(data = data1, x=\"Gender\", y=\"Age\");"
   ]
  },
  {
   "cell_type": "code",
   "execution_count": 20,
   "id": "bae00e72-3abf-4045-b6c2-6b23a4b0a9ea",
   "metadata": {},
   "outputs": [
    {
     "data": {
      "image/png": "[encoded data removed]",
      "text/plain": [
       "<Figure size 1000x800 with 1 Axes>"
      ]
     },
     "metadata": {},
     "output_type": "display_data"
    }
   ],
   "source": [
    "from sklearn.decomposition import PCA\n",
    "pca = PCA(n_components=3)\n",
    "PCA_data1 = pd.DataFrame(pca.fit_transform(scaled_data), columns=(['PCA1', 'PCA2', 'PCA3']))\n",
    "PCA_data1.describe().T\n",
    "\n",
    "# Projecting data in 3D\n",
    "x = PCA_data1[\"PCA1\"]\n",
    "y = PCA_data1[\"PCA2\"]\n",
    "z = PCA_data1[\"PCA3\"]\n",
    "\n",
    "#Plotting\n",
    "fig = plt.figure(figsize=(10, 8))\n",
    "ax = fig.add_subplot(111, projection=\"3d\")\n",
    "ax.scatter(x, y,z, c=\"#FF0000\", marker=\"s\")\n",
    "ax.set_title(\"3D Projection\")\n",
    "plt.show()"
   ]
  },
  {
   "cell_type": "code",
   "execution_count": 52,
   "id": "0e3942c9-ea8b-4bf2-8b8d-430fb06af4aa",
   "metadata": {},
   "outputs": [],
   "source": [
    "AC =AgglomerativeClustering(n_clusters=4)\n",
    "yhat_AC = AC.fit_predict(PCA_data1)\n",
    "PCA_data1[\"Clusters\"]=yhat_AC\n",
    "data1[\"Clusters\"]=yhat_AC"
   ]
  },
  {
   "cell_type": "code",
   "execution_count": 53,
   "id": "19aa5d0b-2e32-4fe2-8119-785b01278c2f",
   "metadata": {},
   "outputs": [
    {
     "data": {
      "text/html": [
       "<div>\n",
       "<style scoped>\n",
       "    .dataframe tbody tr th:only-of-type {\n",
       "        vertical-align: middle;\n",
       "    }\n",
       "\n",
       "    .dataframe tbody tr th {\n",
       "        vertical-align: top;\n",
       "    }\n",
       "\n",
       "    .dataframe thead th {\n",
       "        text-align: right;\n",
       "    }\n",
       "</style>\n",
       "<table border=\"1\" class=\"dataframe\">\n",
       "  <thead>\n",
       "    <tr style=\"text-align: right;\">\n",
       "      <th></th>\n",
       "      <th>Gender</th>\n",
       "      <th>Age</th>\n",
       "      <th>Annual Income (k$)</th>\n",
       "      <th>Spending Score (1-100)</th>\n",
       "      <th>Clusters</th>\n",
       "    </tr>\n",
       "  </thead>\n",
       "  <tbody>\n",
       "    <tr>\n",
       "      <th>0</th>\n",
       "      <td>1.128152</td>\n",
       "      <td>-1.424569</td>\n",
       "      <td>-1.738999</td>\n",
       "      <td>-0.434801</td>\n",
       "      <td>1.512756</td>\n",
       "    </tr>\n",
       "    <tr>\n",
       "      <th>1</th>\n",
       "      <td>1.128152</td>\n",
       "      <td>-1.281035</td>\n",
       "      <td>-1.738999</td>\n",
       "      <td>1.195704</td>\n",
       "      <td>1.512756</td>\n",
       "    </tr>\n",
       "    <tr>\n",
       "      <th>2</th>\n",
       "      <td>-0.886405</td>\n",
       "      <td>-1.352802</td>\n",
       "      <td>-1.700830</td>\n",
       "      <td>-1.715913</td>\n",
       "      <td>-0.477712</td>\n",
       "    </tr>\n",
       "    <tr>\n",
       "      <th>3</th>\n",
       "      <td>-0.886405</td>\n",
       "      <td>-1.137502</td>\n",
       "      <td>-1.700830</td>\n",
       "      <td>1.040418</td>\n",
       "      <td>-1.472947</td>\n",
       "    </tr>\n",
       "    <tr>\n",
       "      <th>4</th>\n",
       "      <td>-0.886405</td>\n",
       "      <td>-0.563369</td>\n",
       "      <td>-1.662660</td>\n",
       "      <td>-0.395980</td>\n",
       "      <td>-0.477712</td>\n",
       "    </tr>\n",
       "    <tr>\n",
       "      <th>...</th>\n",
       "      <td>...</td>\n",
       "      <td>...</td>\n",
       "      <td>...</td>\n",
       "      <td>...</td>\n",
       "      <td>...</td>\n",
       "    </tr>\n",
       "    <tr>\n",
       "      <th>195</th>\n",
       "      <td>-0.886405</td>\n",
       "      <td>-0.276302</td>\n",
       "      <td>2.268791</td>\n",
       "      <td>1.118061</td>\n",
       "      <td>-1.472947</td>\n",
       "    </tr>\n",
       "    <tr>\n",
       "      <th>196</th>\n",
       "      <td>-0.886405</td>\n",
       "      <td>0.441365</td>\n",
       "      <td>2.497807</td>\n",
       "      <td>-0.861839</td>\n",
       "      <td>-0.477712</td>\n",
       "    </tr>\n",
       "    <tr>\n",
       "      <th>197</th>\n",
       "      <td>1.128152</td>\n",
       "      <td>-0.491602</td>\n",
       "      <td>2.497807</td>\n",
       "      <td>0.923953</td>\n",
       "      <td>1.512756</td>\n",
       "    </tr>\n",
       "    <tr>\n",
       "      <th>198</th>\n",
       "      <td>1.128152</td>\n",
       "      <td>-0.491602</td>\n",
       "      <td>2.917671</td>\n",
       "      <td>-1.250054</td>\n",
       "      <td>0.517522</td>\n",
       "    </tr>\n",
       "    <tr>\n",
       "      <th>199</th>\n",
       "      <td>1.128152</td>\n",
       "      <td>-0.635135</td>\n",
       "      <td>2.917671</td>\n",
       "      <td>1.273347</td>\n",
       "      <td>1.512756</td>\n",
       "    </tr>\n",
       "  </tbody>\n",
       "</table>\n",
       "<p>200 rows × 5 columns</p>\n",
       "</div>"
      ],
      "text/plain": [
       "       Gender       Age  Annual Income (k$)  Spending Score (1-100)  Clusters\n",
       "0    1.128152 -1.424569           -1.738999               -0.434801  1.512756\n",
       "1    1.128152 -1.281035           -1.738999                1.195704  1.512756\n",
       "2   -0.886405 -1.352802           -1.700830               -1.715913 -0.477712\n",
       "3   -0.886405 -1.137502           -1.700830                1.040418 -1.472947\n",
       "4   -0.886405 -0.563369           -1.662660               -0.395980 -0.477712\n",
       "..        ...       ...                 ...                     ...       ...\n",
       "195 -0.886405 -0.276302            2.268791                1.118061 -1.472947\n",
       "196 -0.886405  0.441365            2.497807               -0.861839 -0.477712\n",
       "197  1.128152 -0.491602            2.497807                0.923953  1.512756\n",
       "198  1.128152 -0.491602            2.917671               -1.250054  0.517522\n",
       "199  1.128152 -0.635135            2.917671                1.273347  1.512756\n",
       "\n",
       "[200 rows x 5 columns]"
      ]
     },
     "execution_count": 53,
     "metadata": {},
     "output_type": "execute_result"
    }
   ],
   "source": [
    "sc = StandardScaler()\n",
    "df = pd.DataFrame(sc.fit_transform(data1), columns=data1.columns)\n",
    "df"
   ]
  },
  {
   "cell_type": "code",
   "execution_count": 54,
   "id": "1c0bbc7c-4f42-403c-9d36-461b472af9df",
   "metadata": {},
   "outputs": [
    {
     "data": {
      "text/html": [
       "<div>\n",
       "<style scoped>\n",
       "    .dataframe tbody tr th:only-of-type {\n",
       "        vertical-align: middle;\n",
       "    }\n",
       "\n",
       "    .dataframe tbody tr th {\n",
       "        vertical-align: top;\n",
       "    }\n",
       "\n",
       "    .dataframe thead th {\n",
       "        text-align: right;\n",
       "    }\n",
       "</style>\n",
       "<table border=\"1\" class=\"dataframe\">\n",
       "  <thead>\n",
       "    <tr style=\"text-align: right;\">\n",
       "      <th></th>\n",
       "      <th>PCA1</th>\n",
       "      <th>PCA2</th>\n",
       "      <th>PCA3</th>\n",
       "      <th>Clusters</th>\n",
       "    </tr>\n",
       "  </thead>\n",
       "  <tbody>\n",
       "    <tr>\n",
       "      <th>0</th>\n",
       "      <td>-0.406383</td>\n",
       "      <td>-0.520714</td>\n",
       "      <td>-2.072527</td>\n",
       "      <td>3</td>\n",
       "    </tr>\n",
       "    <tr>\n",
       "      <th>1</th>\n",
       "      <td>-1.427673</td>\n",
       "      <td>-0.367310</td>\n",
       "      <td>-2.277644</td>\n",
       "      <td>3</td>\n",
       "    </tr>\n",
       "    <tr>\n",
       "      <th>2</th>\n",
       "      <td>0.050761</td>\n",
       "      <td>-1.894068</td>\n",
       "      <td>-0.367375</td>\n",
       "      <td>1</td>\n",
       "    </tr>\n",
       "    <tr>\n",
       "      <th>3</th>\n",
       "      <td>-1.694513</td>\n",
       "      <td>-1.631908</td>\n",
       "      <td>-0.717467</td>\n",
       "      <td>0</td>\n",
       "    </tr>\n",
       "    <tr>\n",
       "      <th>4</th>\n",
       "      <td>-0.313108</td>\n",
       "      <td>-1.810483</td>\n",
       "      <td>-0.426460</td>\n",
       "      <td>1</td>\n",
       "    </tr>\n",
       "    <tr>\n",
       "      <th>...</th>\n",
       "      <td>...</td>\n",
       "      <td>...</td>\n",
       "      <td>...</td>\n",
       "      <td>...</td>\n",
       "    </tr>\n",
       "    <tr>\n",
       "      <th>195</th>\n",
       "      <td>-1.179572</td>\n",
       "      <td>1.324568</td>\n",
       "      <td>1.932441</td>\n",
       "      <td>0</td>\n",
       "    </tr>\n",
       "    <tr>\n",
       "      <th>196</th>\n",
       "      <td>0.672751</td>\n",
       "      <td>1.221061</td>\n",
       "      <td>2.438084</td>\n",
       "      <td>1</td>\n",
       "    </tr>\n",
       "    <tr>\n",
       "      <th>197</th>\n",
       "      <td>-0.723719</td>\n",
       "      <td>2.765010</td>\n",
       "      <td>0.583178</td>\n",
       "      <td>3</td>\n",
       "    </tr>\n",
       "    <tr>\n",
       "      <th>198</th>\n",
       "      <td>0.767096</td>\n",
       "      <td>2.861930</td>\n",
       "      <td>1.150341</td>\n",
       "      <td>2</td>\n",
       "    </tr>\n",
       "    <tr>\n",
       "      <th>199</th>\n",
       "      <td>-1.065015</td>\n",
       "      <td>3.137256</td>\n",
       "      <td>0.788146</td>\n",
       "      <td>3</td>\n",
       "    </tr>\n",
       "  </tbody>\n",
       "</table>\n",
       "<p>200 rows × 4 columns</p>\n",
       "</div>"
      ],
      "text/plain": [
       "         PCA1      PCA2      PCA3  Clusters\n",
       "0   -0.406383 -0.520714 -2.072527         3\n",
       "1   -1.427673 -0.367310 -2.277644         3\n",
       "2    0.050761 -1.894068 -0.367375         1\n",
       "3   -1.694513 -1.631908 -0.717467         0\n",
       "4   -0.313108 -1.810483 -0.426460         1\n",
       "..        ...       ...       ...       ...\n",
       "195 -1.179572  1.324568  1.932441         0\n",
       "196  0.672751  1.221061  2.438084         1\n",
       "197 -0.723719  2.765010  0.583178         3\n",
       "198  0.767096  2.861930  1.150341         2\n",
       "199 -1.065015  3.137256  0.788146         3\n",
       "\n",
       "[200 rows x 4 columns]"
      ]
     },
     "execution_count": 54,
     "metadata": {},
     "output_type": "execute_result"
    }
   ],
   "source": [
    "PCA_data1"
   ]
  },
  {
   "cell_type": "code",
   "execution_count": 16,
   "id": "2df80e23-18fc-4b76-9d47-8d31f973cb1d",
   "metadata": {},
   "outputs": [],
   "source": [
    "def visual_cluster(data, predictions=None, marker_size=3, title=\"principal Componenets in 3-dimensions\"):\n",
    "    if predictions is not None:\n",
    "       data['preds']=predictions\n",
    "       fig = px.scatter_3d(data, x='PCA1', y='PCA2', z='PCA3', color='preds' ,\n",
    "                        color_discrete_sequence=px.colors.qualitative.Pastel, opacity=0.5)\n",
    "    else:\n",
    "       fig = px.scatter_3d(data, x='PCA1', y='PCA2', z='PCA3', \n",
    "                        color_discrete_sequence=px.colors.qualitative.Pastel, opacity=0.5)\n",
    "    fig.update_traces(marker_size=marker_size)\n",
    "    fig.update_layout(title_text=title, title_x=0.5)\n",
    "    fig.show()\n"
   ]
  },
  {
   "cell_type": "code",
   "execution_count": 17,
   "id": "4ce23a0f-c8dc-49b9-9162-e8e683e9320c",
   "metadata": {},
   "outputs": [
    {
     "data": {
      "application/vnd.plotly.v1+json": {
       "config": {
        "plotlyServerURL": "https://plot.ly"
       },
       "data": [
        {
         "hovertemplate": "PCA1=%{x}<br>PCA2=%{y}<br>PCA3=%{z}<extra></extra>",
         "legendgroup": "",
         "marker": {
          "color": "rgb(102, 197, 204)",
          "opacity": 0.5,
          "size": 3,
          "symbol": "circle"
         },
         "mode": "markers",
         "name": "",
         "scene": "scene",
         "showlegend": false,
         "type": "scatter3d",
         "x": [
          -2.3169645991165826,
          -2.2723914183889558,
          -2.4542232620083726,
          -2.3864614223698006,
          -2.3973767127662438,
          -2.3338464135648436,
          -2.3846579021732044,
          -2.268998694903726,
          -2.242365799675841,
          -2.2523766152042497,
          -2.214930218938996,
          -2.2153348329163003,
          -2.3004125739942034,
          -2.1590961685341123,
          -2.0740806759686876,
          -1.971079765489163,
          -2.1565839224873393,
          -1.9267698685331647,
          -1.9636254960366029,
          -2.011051974876462,
          -1.8696672259129945,
          -1.802184999803629,
          -2.026308594212342,
          -1.7641009378291523,
          -1.930983298458648,
          -1.6467664283628398,
          -1.8710081418881994,
          -1.653949700327038,
          -1.8095894475981948,
          -1.7109417220596648,
          -1.6685011191999188,
          -1.6675073278720187,
          -1.5480415277924644,
          -1.3817611289839653,
          -1.6635307405921012,
          -1.5310423495178218,
          -1.5942081924861657,
          -1.5065650738039444,
          -1.4680699975348068,
          -1.3777517127460004,
          -1.4727276021841846,
          -1.1629265206000583,
          -1.225691105535373,
          -1.3116397061827103,
          -1.367943975021651,
          -1.2683234311117106,
          -1.2952167314453669,
          -1.2393956548537806,
          -1.2359711042386825,
          -1.2281690397818263,
          -1.1930631379750656,
          -0.9811847263217206,
          -1.1004059575536023,
          -0.9871190917724788,
          -1.1256951741239818,
          -0.9529347735172612,
          -1.0722289914514374,
          -0.9456879396412141,
          -0.9403600097674677,
          -0.8323018316956906,
          -0.8487585601242429,
          -0.7251831657588641,
          -0.9518239572487792,
          -0.9048795528445337,
          -0.7351504439630743,
          -0.6169010529101001,
          -0.8250554452743927,
          -0.8696255778932603,
          -0.5824902526832216,
          -0.7668600968974281,
          -0.6469496634889318,
          -0.7529618411060661,
          -0.7363596165513394,
          -0.7180271899734966,
          -0.44651904273790904,
          -0.35555621090842787,
          -0.5435010528983356,
          -0.3672143123174434,
          -0.4715484711001682,
          -0.525323547237112,
          -0.3653917457256979,
          -0.3078683213989369,
          -0.37174817272307326,
          -0.4681541487891028,
          -0.3895456713196051,
          -0.28894143122920035,
          -0.3584483533655312,
          -0.27624054921956803,
          -0.2591884088302828,
          -0.29445628232801624,
          -0.28710765909289465,
          -0.019658981720388543,
          -0.039596917708760025,
          -0.1751209048214141,
          -0.1435586211152362,
          0.05246342510471815,
          -0.14778711344364373,
          -0.08893827051397277,
          0.054379781912345396,
          0.13433800688551767,
          0.0023611632606233266,
          -0.03653036581434023,
          0.10314322752115976,
          0.20208289986886546,
          0.16454111829757653,
          0.0686580447683991,
          0.015706288211100976,
          0.20827498115917742,
          0.18703948085583733,
          0.20802274463949993,
          0.2259295842835489,
          0.18367113973071197,
          0.1704332834591843,
          0.3854124481529074,
          0.270994317696578,
          0.2827483090614,
          0.19198315654679945,
          0.24900800723747296,
          0.2965655790072757,
          0.3232274463348425,
          0.5426327826718539,
          0.3591627701267638,
          0.43648743602052725,
          0.6372395963137402,
          0.4998031092518232,
          0.5364237783619946,
          0.6697830290057083,
          0.7411198664199806,
          0.637964035023837,
          0.7524194681942287,
          0.6870319003410351,
          0.7746263612217272,
          0.651173589552674,
          0.6825655709534993,
          0.8455339466957911,
          0.753140550960051,
          0.6614149133540099,
          0.9152688000867111,
          0.9278097865096195,
          0.8016243830396593,
          0.7336311103949984,
          1.0353580358578423,
          0.8793900172559499,
          0.9239388690828169,
          1.070224034424895,
          1.1502429128203913,
          1.0650227237250771,
          0.9882547376950515,
          0.9774124340009026,
          1.2066062698151658,
          1.1350901825835102,
          1.218258471820914,
          1.0024678435491015,
          1.076905434003752,
          1.016770882760669,
          1.1369049194749647,
          1.2075111097137323,
          1.14507943930807,
          1.2385216882262784,
          1.1651097398650716,
          1.113702362017565,
          1.2273552791218985,
          1.4044984760759944,
          1.309879830068228,
          1.4865903893141768,
          1.4150510909934968,
          1.550234333876208,
          1.490453500676365,
          1.463402231317326,
          1.6733836640293798,
          1.6242050618410764,
          1.7171011971334085,
          1.6547900534198288,
          1.7387851876240545,
          1.5160356696197808,
          1.6405715490766,
          1.6864447016946362,
          1.8141543208941275,
          1.8421849709702196,
          1.9737492014746179,
          1.880843468213258,
          1.9513291317599435,
          2.0548969593789312,
          2.01097249161248,
          1.9807474825107687,
          2.2253964257253944,
          2.017174329164424,
          2.2825800541910506,
          2.117829153617699,
          2.2005718559213094,
          2.1628964342254027,
          2.2197753115114884,
          2.6026461268699843,
          2.5190564166192915,
          2.633961754473943,
          2.7277333925346268,
          2.8345680996551725,
          3.0731128523921005,
          3.3319881383999417,
          3.405501568284711
         ],
         "y": [
          -0.4541902503048635,
          -1.4741036374887448,
          -0.006922242803214672,
          -1.7499349872244003,
          -0.36934115852703464,
          -1.7716536534008673,
          0.73432384482708,
          -2.2008387993723537,
          2.7265008621419753,
          -1.26890987796171,
          2.581676479009006,
          -1.741298261298961,
          1.630470263084028,
          -1.6966123584051964,
          1.1307882663911568,
          -1.3662966972290127,
          -0.03469635502353243,
          -1.1176967238490214,
          1.446548710023705,
          -1.7109102903695945,
          0.4497304638982911,
          -1.0551416295091922,
          1.3100087798741364,
          -0.758455503903786,
          1.4668918519593632,
          -1.0944852198834911,
          0.5441330041034204,
          -0.23914265096244391,
          0.32524922270098006,
          -2.0040766998963835,
          2.5130245674833382,
          -1.728842566652813,
          2.1702458962433804,
          -1.8986161605053988,
          1.2251277217591316,
          -1.9393780262090297,
          0.8011247432893878,
          -1.281744785275509,
          0.2679299120837094,
          -1.8256656126621054,
          1.4586080114662472,
          -1.5984537627811273,
          1.0768495642281357,
          -0.908706402167676,
          0.85760266132078,
          -1.3600044543205232,
          0.18871007657707997,
          -0.7317772875901695,
          -0.49988516118582516,
          -0.40116383409937717,
          0.22119818289421841,
          -0.29850778787544086,
          -0.7183747025833721,
          0.9840039138598311,
          0.4581445724591364,
          0.8988351445368409,
          0.3752035047141801,
          1.8510109317282435,
          -0.8328219799192668,
          1.0639498374103218,
          1.635698747958376,
          -0.8513835418357397,
          1.1134110041902545,
          0.28632403013424823,
          1.4257075011637135,
          -1.0053345545636565,
          -0.015095375725055572,
          1.2705936836378953,
          -0.9556269673367785,
          -0.47698065458535926,
          1.6657033440151414,
          0.3964977795963828,
          0.8516449683287258,
          0.6653446187571322,
          1.3404322030438156,
          -0.47248034714205556,
          0.008937879948951448,
          0.37768005427724877,
          -1.0485585549833984,
          0.49949506209468086,
          1.136145622817281,
          0.09321345551305324,
          1.8956775484649289,
          0.29890798384188844,
          -1.2794792950735123,
          0.8263887602440452,
          0.3720503048891741,
          -1.1745206466609042,
          -0.715396417007896,
          0.44628105145956765,
          1.094616314497218,
          -0.5150416186944677,
          0.7514231498846814,
          0.11505012810900425,
          -0.3324096525966389,
          -0.5110537126415104,
          0.27406626912978665,
          -0.7915230171173552,
          0.9393557995900289,
          -0.6271003565633759,
          -0.7472425575116822,
          0.3480303418855492,
          1.4243253709459236,
          -0.4899416511925221,
          0.6172623709667051,
          -0.8717654276209409,
          1.1340685230556071,
          1.1311375858748725,
          1.9012567382299776,
          1.6696421507725565,
          1.5139530019852077,
          -1.2884643729365857,
          -0.03152047395727708,
          -0.5925636416920991,
          -1.176212556502171,
          -1.1800508279493749,
          1.1753433280548449,
          0.05925763642013249,
          0.5854473489628967,
          0.1634166015397552,
          -0.4616208821031435,
          0.024979512489606462,
          -0.3543922103293245,
          -0.8005829955910665,
          -0.4190148612294642,
          -1.3029855347558619,
          0.8898332080547783,
          -0.8559514507059965,
          2.3179910446314955,
          -0.42157327210047474,
          1.7800415576276585,
          -0.3720044543470582,
          -0.4511711195076347,
          -1.1407485921476466,
          0.5575905748395508,
          -1.691173414675034,
          1.2057014858457478,
          -0.661620641785536,
          0.3763444884285309,
          -0.9680631923054358,
          1.9016333355902124,
          -1.192426933524228,
          -0.45907089225691994,
          -1.513572521145711,
          0.6216391998396729,
          -1.4942517826716242,
          1.1163963146100382,
          -1.166112451205811,
          0.31824610260628333,
          -1.01084899907424,
          1.3772049496989478,
          -0.710846746367692,
          0.8649822882922206,
          -0.9221395674337167,
          1.1196703031129402,
          -1.8103101735847502,
          1.5084364515180257,
          -1.369183039718976,
          1.3608401540454689,
          -1.2357347014541564,
          1.058736305623666,
          -1.550429126129996,
          0.5174721518461708,
          -1.7165888005668308,
          1.4891056319373155,
          -0.987796334764919,
          1.2555188134332917,
          -1.6674149156895375,
          0.2923814747463183,
          -0.38158562652564115,
          1.34459136657873,
          -0.8980831211676427,
          1.2276062698904175,
          -0.9562560694496213,
          1.4554137044006132,
          -1.573149329910064,
          2.1800595960287428,
          -0.7860759101323677,
          2.259567142743358,
          -0.9474809287710433,
          0.21677632611169217,
          -1.4677859310805934,
          1.5960060053868321,
          -1.667989634460785,
          0.22937922782550418,
          -1.3755783420906524,
          1.2712776168495765,
          -0.7001708970738693,
          0.8185294779961897,
          -1.2389110172862057,
          0.31396310611618417,
          -1.0096520357479872,
          1.1529599019749484,
          -1.2929692027656097,
          1.1529794624714043,
          -1.1163291851385475,
          0.7390300083595333,
          -0.6449002008066583,
          0.8540215730420055,
          -0.9756426062301723
         ],
         "z": [
          1.4542299721814966,
          1.7128783776879386,
          -0.7336279638376808,
          -0.29128010700567647,
          -0.6365638972108977,
          -0.2907959452676781,
          -0.9162751464527458,
          -0.18554779119708784,
          0.672605767603302,
          -0.41922782169019535,
          0.7098970746235664,
          -0.2973752077464568,
          -1.1330653504665082,
          -0.3223781009131814,
          1.0445776076841877,
          1.661931459494046,
          -0.7381182396134333,
          1.5931980538914832,
          0.9673089797549833,
          -0.32160857256898684,
          1.2004235295154853,
          1.5712531126940263,
          -1.0831634640536765,
          1.4973192828303594,
          -1.124413787940681,
          1.572000701902456,
          -0.9008647900815537,
          1.3590171750044004,
          -0.8540079311599149,
          -0.28081001545529605,
          0.6775900682863822,
          -0.3562776495275648,
          0.7496293026106761,
          1.7469996666722674,
          -1.0883218369021608,
          -0.3135224907757651,
          -0.9913417155098778,
          -0.4761096712848098,
          -0.8702875992541405,
          -0.3558224571333733,
          -1.1502563816963873,
          1.6575723837145466,
          0.9988474638503505,
          -0.5863761411406799,
          -1.018285659596743,
          -0.4802926904492558,
          -0.8524294492987997,
          -0.640663109879899,
          -0.6985234424496343,
          -0.7227126326708401,
          -0.8697885285884194,
          1.318233684409171,
          -0.6520177184108311,
          1.012436368627301,
          -0.9349017695192479,
          1.0215984359950399,
          -0.9171985855548345,
          0.7958449597453398,
          -0.6389720589009262,
          0.9745918635622608,
          0.8438473435994625,
          1.4273621625917883,
          -1.1023452696146032,
          -0.9054972461092151,
          0.8825788531458917,
          1.45714268259011,
          -0.843958010799148,
          -1.1482586667656989,
          1.442540983406044,
          -0.7396443038414103,
          0.8199773963475967,
          -0.951587844716798,
          -1.0585314537345092,
          -1.012394696075953,
          0.8777716151802429,
          1.3064831246038333,
          -0.8711846952523165,
          1.1017676303840855,
          -0.6248747724707698,
          -0.994642430490878,
          0.9218778278745747,
          1.1680822117463057,
          0.7365981169596434,
          -0.9504058171812769,
          -0.574034331306732,
          0.9875310460423098,
          -0.9705810146450475,
          -0.6092117899185161,
          -0.7180306815797287,
          -0.9988035105195596,
          -1.1502445340774095,
          1.2837925786475952,
          0.9864992350691179,
          -0.9320267065551059,
          -0.8268156968777981,
          1.2819295786919231,
          -0.9690478522266913,
          -0.7179845225287559,
          0.9309734851754291,
          1.301719123119469,
          -0.7399666081194954,
          -0.9952523821546029,
          0.8188045901911603,
          1.2661849808152668,
          1.0052733588496547,
          -0.7150602392048957,
          -1.1862511972220258,
          0.8745875769554532,
          0.6910776097742078,
          0.7469322590851725,
          0.7844595056305211,
          -0.6194492995823518,
          -0.9239022952999364,
          1.2719625267065608,
          -0.656008222651704,
          -0.6551357816375877,
          -1.2133778915749607,
          -0.9443286375463092,
          -1.0810036849416802,
          -0.9761341536992727,
          1.2324322231423355,
          -0.9535036293921223,
          -0.861214908817492,
          1.321265401484094,
          -0.8637983554966976,
          -0.6343036249474796,
          0.890029183449895,
          1.3278595728905955,
          0.5409112281836198,
          1.2143556688295267,
          0.6645551795363592,
          1.2007568112748457,
          -0.8660744964339417,
          -0.6874699304596689,
          0.941884403470697,
          -0.5541764819710538,
          -1.2745494440852712,
          1.2576853229716223,
          0.9807682527681602,
          -0.7378636506087863,
          -1.447478735047927,
          1.3836203241893288,
          -0.8799534681150314,
          -0.6108202688518789,
          0.9115533116674928,
          1.4481803670753812,
          0.8045261028757311,
          -0.7047457063050327,
          -1.081483877780382,
          1.3251012546650018,
          0.7281611660838927,
          1.2516612429872687,
          -1.2148954441964366,
          -0.7692224457468292,
          -1.2786175642217612,
          -0.5561582416444111,
          0.6839555065677464,
          -0.6670199609576771,
          0.7167293461967064,
          -0.7026967865649777,
          -1.2633919425662872,
          -0.6281361116602141,
          0.9064452055083349,
          -0.5907240604726168,
          0.6769935136224325,
          -0.7813881309833866,
          0.724958753083272,
          -0.6162988227897435,
          -1.1123778240762976,
          1.125084694522137,
          0.694625035040174,
          1.250262450083478,
          0.7187893635559259,
          1.2699932564424268,
          -1.4005339619924901,
          -0.65488829082332,
          0.49103020404745595,
          1.2130641029554052,
          0.4588516138758925,
          1.2478863190460008,
          -1.126024963870656,
          -0.7054135966563709,
          0.6004402375277115,
          -0.6615404009174346,
          -1.1340076299427675,
          1.3327601350605685,
          -1.3924762077528297,
          1.1539099731132754,
          -1.2956484261115808,
          -0.7807578603214125,
          -1.1760965184807448,
          -0.8441385019118375,
          0.6584469753512177,
          -0.7912412129068926,
          -1.418233464233462,
          -0.8558618207204519,
          -1.3304566622405534,
          1.0786867097181316,
          0.6745069646614251,
          1.1344153221547446
         ]
        }
       ],
       "layout": {
        "autosize": true,
        "legend": {
         "tracegroupgap": 0
        },
        "margin": {
         "t": 60
        },
        "scene": {
         "aspectmode": "auto",
         "aspectratio": {
          "x": 1.2969224133789405,
          "y": 1.0905592720519115,
          "z": 0.7070281895879805
         },
         "camera": {
          "center": {
           "x": 0,
           "y": 0,
           "z": 0
          },
          "eye": {
           "x": 0.9181751722416681,
           "y": 0.918175172241668,
           "z": 0.9181751722416681
          },
          "projection": {
           "type": "perspective"
          },
          "up": {
           "x": 0,
           "y": 0,
           "z": 1
          }
         },
         "domain": {
          "x": [
           0,
           1
          ],
          "y": [
           0,
           1
          ]
         },
         "xaxis": {
          "title": {
           "text": "PCA1"
          },
          "type": "linear"
         },
         "yaxis": {
          "title": {
           "text": "PCA2"
          },
          "type": "linear"
         },
         "zaxis": {
          "title": {
           "text": "PCA3"
          },
          "type": "linear"
         }
        },
        "template": {
         "data": {
          "bar": [
           {
            "error_x": {
             "color": "#2a3f5f"
            },
            "error_y": {
             "color": "#2a3f5f"
            },
            "marker": {
             "line": {
              "color": "#E5ECF6",
              "width": 0.5
             },
             "pattern": {
              "fillmode": "overlay",
              "size": 10,
              "solidity": 0.2
             }
            },
            "type": "bar"
           }
          ],
          "barpolar": [
           {
            "marker": {
             "line": {
              "color": "#E5ECF6",
              "width": 0.5
             },
             "pattern": {
              "fillmode": "overlay",
              "size": 10,
              "solidity": 0.2
             }
            },
            "type": "barpolar"
           }
          ],
          "carpet": [
           {
            "aaxis": {
             "endlinecolor": "#2a3f5f",
             "gridcolor": "white",
             "linecolor": "white",
             "minorgridcolor": "white",
             "startlinecolor": "#2a3f5f"
            },
            "baxis": {
             "endlinecolor": "#2a3f5f",
             "gridcolor": "white",
             "linecolor": "white",
             "minorgridcolor": "white",
             "startlinecolor": "#2a3f5f"
            },
            "type": "carpet"
           }
          ],
          "choropleth": [
           {
            "colorbar": {
             "outlinewidth": 0,
             "ticks": ""
            },
            "type": "choropleth"
           }
          ],
          "contour": [
           {
            "colorbar": {
             "outlinewidth": 0,
             "ticks": ""
            },
            "colorscale": [
             [
              0,
              "#0d0887"
             ],
             [
              0.1111111111111111,
              "#46039f"
             ],
             [
              0.2222222222222222,
              "#7201a8"
             ],
             [
              0.3333333333333333,
              "#9c179e"
             ],
             [
              0.4444444444444444,
              "#bd3786"
             ],
             [
              0.5555555555555556,
              "#d8576b"
             ],
             [
              0.6666666666666666,
              "#ed7953"
             ],
             [
              0.7777777777777778,
              "#fb9f3a"
             ],
             [
              0.8888888888888888,
              "#fdca26"
             ],
             [
              1,
              "#f0f921"
             ]
            ],
            "type": "contour"
           }
          ],
          "contourcarpet": [
           {
            "colorbar": {
             "outlinewidth": 0,
             "ticks": ""
            },
            "type": "contourcarpet"
           }
          ],
          "heatmap": [
           {
            "colorbar": {
             "outlinewidth": 0,
             "ticks": ""
            },
            "colorscale": [
             [
              0,
              "#0d0887"
             ],
             [
              0.1111111111111111,
              "#46039f"
             ],
             [
              0.2222222222222222,
              "#7201a8"
             ],
             [
              0.3333333333333333,
              "#9c179e"
             ],
             [
              0.4444444444444444,
              "#bd3786"
             ],
             [
              0.5555555555555556,
              "#d8576b"
             ],
             [
              0.6666666666666666,
              "#ed7953"
             ],
             [
              0.7777777777777778,
              "#fb9f3a"
             ],
             [
              0.8888888888888888,
              "#fdca26"
             ],
             [
              1,
              "#f0f921"
             ]
            ],
            "type": "heatmap"
           }
          ],
          "heatmapgl": [
           {
            "colorbar": {
             "outlinewidth": 0,
             "ticks": ""
            },
            "colorscale": [
             [
              0,
              "#0d0887"
             ],
             [
              0.1111111111111111,
              "#46039f"
             ],
             [
              0.2222222222222222,
              "#7201a8"
             ],
             [
              0.3333333333333333,
              "#9c179e"
             ],
             [
              0.4444444444444444,
              "#bd3786"
             ],
             [
              0.5555555555555556,
              "#d8576b"
             ],
             [
              0.6666666666666666,
              "#ed7953"
             ],
             [
              0.7777777777777778,
              "#fb9f3a"
             ],
             [
              0.8888888888888888,
              "#fdca26"
             ],
             [
              1,
              "#f0f921"
             ]
            ],
            "type": "heatmapgl"
           }
          ],
          "histogram": [
           {
            "marker": {
             "pattern": {
              "fillmode": "overlay",
              "size": 10,
              "solidity": 0.2
             }
            },
            "type": "histogram"
           }
          ],
          "histogram2d": [
           {
            "colorbar": {
             "outlinewidth": 0,
             "ticks": ""
            },
            "colorscale": [
             [
              0,
              "#0d0887"
             ],
             [
              0.1111111111111111,
              "#46039f"
             ],
             [
              0.2222222222222222,
              "#7201a8"
             ],
             [
              0.3333333333333333,
              "#9c179e"
             ],
             [
              0.4444444444444444,
              "#bd3786"
             ],
             [
              0.5555555555555556,
              "#d8576b"
             ],
             [
              0.6666666666666666,
              "#ed7953"
             ],
             [
              0.7777777777777778,
              "#fb9f3a"
             ],
             [
              0.8888888888888888,
              "#fdca26"
             ],
             [
              1,
              "#f0f921"
             ]
            ],
            "type": "histogram2d"
           }
          ],
          "histogram2dcontour": [
           {
            "colorbar": {
             "outlinewidth": 0,
             "ticks": ""
            },
            "colorscale": [
             [
              0,
              "#0d0887"
             ],
             [
              0.1111111111111111,
              "#46039f"
             ],
             [
              0.2222222222222222,
              "#7201a8"
             ],
             [
              0.3333333333333333,
              "#9c179e"
             ],
             [
              0.4444444444444444,
              "#bd3786"
             ],
             [
              0.5555555555555556,
              "#d8576b"
             ],
             [
              0.6666666666666666,
              "#ed7953"
             ],
             [
              0.7777777777777778,
              "#fb9f3a"
             ],
             [
              0.8888888888888888,
              "#fdca26"
             ],
             [
              1,
              "#f0f921"
             ]
            ],
            "type": "histogram2dcontour"
           }
          ],
          "mesh3d": [
           {
            "colorbar": {
             "outlinewidth": 0,
             "ticks": ""
            },
            "type": "mesh3d"
           }
          ],
          "parcoords": [
           {
            "line": {
             "colorbar": {
              "outlinewidth": 0,
              "ticks": ""
             }
            },
            "type": "parcoords"
           }
          ],
          "pie": [
           {
            "automargin": true,
            "type": "pie"
           }
          ],
          "scatter": [
           {
            "fillpattern": {
             "fillmode": "overlay",
             "size": 10,
             "solidity": 0.2
            },
            "type": "scatter"
           }
          ],
          "scatter3d": [
           {
            "line": {
             "colorbar": {
              "outlinewidth": 0,
              "ticks": ""
             }
            },
            "marker": {
             "colorbar": {
              "outlinewidth": 0,
              "ticks": ""
             }
            },
            "type": "scatter3d"
           }
          ],
          "scattercarpet": [
           {
            "marker": {
             "colorbar": {
              "outlinewidth": 0,
              "ticks": ""
             }
            },
            "type": "scattercarpet"
           }
          ],
          "scattergeo": [
           {
            "marker": {
             "colorbar": {
              "outlinewidth": 0,
              "ticks": ""
             }
            },
            "type": "scattergeo"
           }
          ],
          "scattergl": [
           {
            "marker": {
             "colorbar": {
              "outlinewidth": 0,
              "ticks": ""
             }
            },
            "type": "scattergl"
           }
          ],
          "scattermapbox": [
           {
            "marker": {
             "colorbar": {
              "outlinewidth": 0,
              "ticks": ""
             }
            },
            "type": "scattermapbox"
           }
          ],
          "scatterpolar": [
           {
            "marker": {
             "colorbar": {
              "outlinewidth": 0,
              "ticks": ""
             }
            },
            "type": "scatterpolar"
           }
          ],
          "scatterpolargl": [
           {
            "marker": {
             "colorbar": {
              "outlinewidth": 0,
              "ticks": ""
             }
            },
            "type": "scatterpolargl"
           }
          ],
          "scatterternary": [
           {
            "marker": {
             "colorbar": {
              "outlinewidth": 0,
              "ticks": ""
             }
            },
            "type": "scatterternary"
           }
          ],
          "surface": [
           {
            "colorbar": {
             "outlinewidth": 0,
             "ticks": ""
            },
            "colorscale": [
             [
              0,
              "#0d0887"
             ],
             [
              0.1111111111111111,
              "#46039f"
             ],
             [
              0.2222222222222222,
              "#7201a8"
             ],
             [
              0.3333333333333333,
              "#9c179e"
             ],
             [
              0.4444444444444444,
              "#bd3786"
             ],
             [
              0.5555555555555556,
              "#d8576b"
             ],
             [
              0.6666666666666666,
              "#ed7953"
             ],
             [
              0.7777777777777778,
              "#fb9f3a"
             ],
             [
              0.8888888888888888,
              "#fdca26"
             ],
             [
              1,
              "#f0f921"
             ]
            ],
            "type": "surface"
           }
          ],
          "table": [
           {
            "cells": {
             "fill": {
              "color": "#EBF0F8"
             },
             "line": {
              "color": "white"
             }
            },
            "header": {
             "fill": {
              "color": "#C8D4E3"
             },
             "line": {
              "color": "white"
             }
            },
            "type": "table"
           }
          ]
         },
         "layout": {
          "annotationdefaults": {
           "arrowcolor": "#2a3f5f",
           "arrowhead": 0,
           "arrowwidth": 1
          },
          "autotypenumbers": "strict",
          "coloraxis": {
           "colorbar": {
            "outlinewidth": 0,
            "ticks": ""
           }
          },
          "colorscale": {
           "diverging": [
            [
             0,
             "#8e0152"
            ],
            [
             0.1,
             "#c51b7d"
            ],
            [
             0.2,
             "#de77ae"
            ],
            [
             0.3,
             "#f1b6da"
            ],
            [
             0.4,
             "#fde0ef"
            ],
            [
             0.5,
             "#f7f7f7"
            ],
            [
             0.6,
             "#e6f5d0"
            ],
            [
             0.7,
             "#b8e186"
            ],
            [
             0.8,
             "#7fbc41"
            ],
            [
             0.9,
             "#4d9221"
            ],
            [
             1,
             "#276419"
            ]
           ],
           "sequential": [
            [
             0,
             "#0d0887"
            ],
            [
             0.1111111111111111,
             "#46039f"
            ],
            [
             0.2222222222222222,
             "#7201a8"
            ],
            [
             0.3333333333333333,
             "#9c179e"
            ],
            [
             0.4444444444444444,
             "#bd3786"
            ],
            [
             0.5555555555555556,
             "#d8576b"
            ],
            [
             0.6666666666666666,
             "#ed7953"
            ],
            [
             0.7777777777777778,
             "#fb9f3a"
            ],
            [
             0.8888888888888888,
             "#fdca26"
            ],
            [
             1,
             "#f0f921"
            ]
           ],
           "sequentialminus": [
            [
             0,
             "#0d0887"
            ],
            [
             0.1111111111111111,
             "#46039f"
            ],
            [
             0.2222222222222222,
             "#7201a8"
            ],
            [
             0.3333333333333333,
             "#9c179e"
            ],
            [
             0.4444444444444444,
             "#bd3786"
            ],
            [
             0.5555555555555556,
             "#d8576b"
            ],
            [
             0.6666666666666666,
             "#ed7953"
            ],
            [
             0.7777777777777778,
             "#fb9f3a"
            ],
            [
             0.8888888888888888,
             "#fdca26"
            ],
            [
             1,
             "#f0f921"
            ]
           ]
          },
          "colorway": [
           "#636efa",
           "#EF553B",
           "#00cc96",
           "#ab63fa",
           "#FFA15A",
           "#19d3f3",
           "#FF6692",
           "#B6E880",
           "#FF97FF",
           "#FECB52"
          ],
          "font": {
           "color": "#2a3f5f"
          },
          "geo": {
           "bgcolor": "white",
           "lakecolor": "white",
           "landcolor": "#E5ECF6",
           "showlakes": true,
           "showland": true,
           "subunitcolor": "white"
          },
          "hoverlabel": {
           "align": "left"
          },
          "hovermode": "closest",
          "mapbox": {
           "style": "light"
          },
          "paper_bgcolor": "white",
          "plot_bgcolor": "#E5ECF6",
          "polar": {
           "angularaxis": {
            "gridcolor": "white",
            "linecolor": "white",
            "ticks": ""
           },
           "bgcolor": "#E5ECF6",
           "radialaxis": {
            "gridcolor": "white",
            "linecolor": "white",
            "ticks": ""
           }
          },
          "scene": {
           "xaxis": {
            "backgroundcolor": "#E5ECF6",
            "gridcolor": "white",
            "gridwidth": 2,
            "linecolor": "white",
            "showbackground": true,
            "ticks": "",
            "zerolinecolor": "white"
           },
           "yaxis": {
            "backgroundcolor": "#E5ECF6",
            "gridcolor": "white",
            "gridwidth": 2,
            "linecolor": "white",
            "showbackground": true,
            "ticks": "",
            "zerolinecolor": "white"
           },
           "zaxis": {
            "backgroundcolor": "#E5ECF6",
            "gridcolor": "white",
            "gridwidth": 2,
            "linecolor": "white",
            "showbackground": true,
            "ticks": "",
            "zerolinecolor": "white"
           }
          },
          "shapedefaults": {
           "line": {
            "color": "#2a3f5f"
           }
          },
          "ternary": {
           "aaxis": {
            "gridcolor": "white",
            "linecolor": "white",
            "ticks": ""
           },
           "baxis": {
            "gridcolor": "white",
            "linecolor": "white",
            "ticks": ""
           },
           "bgcolor": "#E5ECF6",
           "caxis": {
            "gridcolor": "white",
            "linecolor": "white",
            "ticks": ""
           }
          },
          "title": {
           "x": 0.05
          },
          "xaxis": {
           "automargin": true,
           "gridcolor": "white",
           "linecolor": "white",
           "ticks": "",
           "title": {
            "standoff": 15
           },
           "zerolinecolor": "white",
           "zerolinewidth": 2
          },
          "yaxis": {
           "automargin": true,
           "gridcolor": "white",
           "linecolor": "white",
           "ticks": "",
           "title": {
            "standoff": 15
           },
           "zerolinecolor": "white",
           "zerolinewidth": 2
          }
         }
        },
        "title": {
         "text": "principal Componenets in 3-dimensions",
         "x": 0.5
        }
       }
      },
      "text/html": [
       "<div>                            <div id=\"7ebd0bc8-5060-4bad-bfb2-f6fc938e8020\" class=\"plotly-graph-div\" style=\"height:525px; width:100%;\"></div>            <script type=\"text/javascript\">                require([\"plotly\"], function(Plotly) {                    window.PLOTLYENV=window.PLOTLYENV || {};                                    if (document.getElementById(\"7ebd0bc8-5060-4bad-bfb2-f6fc938e8020\")) {                    Plotly.newPlot(                        \"7ebd0bc8-5060-4bad-bfb2-f6fc938e8020\",                        [{\"hovertemplate\":\"PCA1=%{x}\\u003cbr\\u003ePCA2=%{y}\\u003cbr\\u003ePCA3=%{z}\\u003cextra\\u003e\\u003c\\u002fextra\\u003e\",\"legendgroup\":\"\",\"marker\":{\"color\":\"rgb(102, 197, 204)\",\"opacity\":0.5,\"symbol\":\"circle\",\"size\":3},\"mode\":\"markers\",\"name\":\"\",\"scene\":\"scene\",\"showlegend\":false,\"x\":[-2.3169645991165826,-2.2723914183889558,-2.4542232620083726,-2.3864614223698006,-2.3973767127662438,-2.3338464135648436,-2.3846579021732044,-2.268998694903726,-2.242365799675841,-2.2523766152042497,-2.214930218938996,-2.2153348329163003,-2.3004125739942034,-2.1590961685341123,-2.0740806759686876,-1.971079765489163,-2.1565839224873393,-1.9267698685331647,-1.9636254960366029,-2.011051974876462,-1.8696672259129945,-1.802184999803629,-2.026308594212342,-1.7641009378291523,-1.930983298458648,-1.6467664283628398,-1.8710081418881994,-1.653949700327038,-1.8095894475981948,-1.7109417220596648,-1.6685011191999188,-1.6675073278720187,-1.5480415277924644,-1.3817611289839653,-1.6635307405921012,-1.5310423495178218,-1.5942081924861657,-1.5065650738039444,-1.4680699975348068,-1.3777517127460004,-1.4727276021841846,-1.1629265206000583,-1.225691105535373,-1.3116397061827103,-1.367943975021651,-1.2683234311117106,-1.2952167314453669,-1.2393956548537806,-1.2359711042386825,-1.2281690397818263,-1.1930631379750656,-0.9811847263217206,-1.1004059575536023,-0.9871190917724788,-1.1256951741239818,-0.9529347735172612,-1.0722289914514374,-0.9456879396412141,-0.9403600097674677,-0.8323018316956906,-0.8487585601242429,-0.7251831657588641,-0.9518239572487792,-0.9048795528445337,-0.7351504439630743,-0.6169010529101001,-0.8250554452743927,-0.8696255778932603,-0.5824902526832216,-0.7668600968974281,-0.6469496634889318,-0.7529618411060661,-0.7363596165513394,-0.7180271899734966,-0.44651904273790904,-0.35555621090842787,-0.5435010528983356,-0.3672143123174434,-0.4715484711001682,-0.525323547237112,-0.3653917457256979,-0.3078683213989369,-0.37174817272307326,-0.4681541487891028,-0.3895456713196051,-0.28894143122920035,-0.3584483533655312,-0.27624054921956803,-0.2591884088302828,-0.29445628232801624,-0.28710765909289465,-0.019658981720388543,-0.039596917708760025,-0.1751209048214141,-0.1435586211152362,0.05246342510471815,-0.14778711344364373,-0.08893827051397277,0.054379781912345396,0.13433800688551767,0.0023611632606233266,-0.03653036581434023,0.10314322752115976,0.20208289986886546,0.16454111829757653,0.0686580447683991,0.015706288211100976,0.20827498115917742,0.18703948085583733,0.20802274463949993,0.2259295842835489,0.18367113973071197,0.1704332834591843,0.3854124481529074,0.270994317696578,0.2827483090614,0.19198315654679945,0.24900800723747296,0.2965655790072757,0.3232274463348425,0.5426327826718539,0.3591627701267638,0.43648743602052725,0.6372395963137402,0.4998031092518232,0.5364237783619946,0.6697830290057083,0.7411198664199806,0.637964035023837,0.7524194681942287,0.6870319003410351,0.7746263612217272,0.651173589552674,0.6825655709534993,0.8455339466957911,0.753140550960051,0.6614149133540099,0.9152688000867111,0.9278097865096195,0.8016243830396593,0.7336311103949984,1.0353580358578423,0.8793900172559499,0.9239388690828169,1.070224034424895,1.1502429128203913,1.0650227237250771,0.9882547376950515,0.9774124340009026,1.2066062698151658,1.1350901825835102,1.218258471820914,1.0024678435491015,1.076905434003752,1.016770882760669,1.1369049194749647,1.2075111097137323,1.14507943930807,1.2385216882262784,1.1651097398650716,1.113702362017565,1.2273552791218985,1.4044984760759944,1.309879830068228,1.4865903893141768,1.4150510909934968,1.550234333876208,1.490453500676365,1.463402231317326,1.6733836640293798,1.6242050618410764,1.7171011971334085,1.6547900534198288,1.7387851876240545,1.5160356696197808,1.6405715490766,1.6864447016946362,1.8141543208941275,1.8421849709702196,1.9737492014746179,1.880843468213258,1.9513291317599435,2.0548969593789312,2.01097249161248,1.9807474825107687,2.2253964257253944,2.017174329164424,2.2825800541910506,2.117829153617699,2.2005718559213094,2.1628964342254027,2.2197753115114884,2.6026461268699843,2.5190564166192915,2.633961754473943,2.7277333925346268,2.8345680996551725,3.0731128523921005,3.3319881383999417,3.405501568284711],\"y\":[-0.4541902503048635,-1.4741036374887448,-0.006922242803214672,-1.7499349872244003,-0.36934115852703464,-1.7716536534008673,0.73432384482708,-2.2008387993723537,2.7265008621419753,-1.26890987796171,2.581676479009006,-1.741298261298961,1.630470263084028,-1.6966123584051964,1.1307882663911568,-1.3662966972290127,-0.03469635502353243,-1.1176967238490214,1.446548710023705,-1.7109102903695945,0.4497304638982911,-1.0551416295091922,1.3100087798741364,-0.758455503903786,1.4668918519593632,-1.0944852198834911,0.5441330041034204,-0.23914265096244391,0.32524922270098006,-2.0040766998963835,2.5130245674833382,-1.728842566652813,2.1702458962433804,-1.8986161605053988,1.2251277217591316,-1.9393780262090297,0.8011247432893878,-1.281744785275509,0.2679299120837094,-1.8256656126621054,1.4586080114662472,-1.5984537627811273,1.0768495642281357,-0.908706402167676,0.85760266132078,-1.3600044543205232,0.18871007657707997,-0.7317772875901695,-0.49988516118582516,-0.40116383409937717,0.22119818289421841,-0.29850778787544086,-0.7183747025833721,0.9840039138598311,0.4581445724591364,0.8988351445368409,0.3752035047141801,1.8510109317282435,-0.8328219799192668,1.0639498374103218,1.635698747958376,-0.8513835418357397,1.1134110041902545,0.28632403013424823,1.4257075011637135,-1.0053345545636565,-0.015095375725055572,1.2705936836378953,-0.9556269673367785,-0.47698065458535926,1.6657033440151414,0.3964977795963828,0.8516449683287258,0.6653446187571322,1.3404322030438156,-0.47248034714205556,0.008937879948951448,0.37768005427724877,-1.0485585549833984,0.49949506209468086,1.136145622817281,0.09321345551305324,1.8956775484649289,0.29890798384188844,-1.2794792950735123,0.8263887602440452,0.3720503048891741,-1.1745206466609042,-0.715396417007896,0.44628105145956765,1.094616314497218,-0.5150416186944677,0.7514231498846814,0.11505012810900425,-0.3324096525966389,-0.5110537126415104,0.27406626912978665,-0.7915230171173552,0.9393557995900289,-0.6271003565633759,-0.7472425575116822,0.3480303418855492,1.4243253709459236,-0.4899416511925221,0.6172623709667051,-0.8717654276209409,1.1340685230556071,1.1311375858748725,1.9012567382299776,1.6696421507725565,1.5139530019852077,-1.2884643729365857,-0.03152047395727708,-0.5925636416920991,-1.176212556502171,-1.1800508279493749,1.1753433280548449,0.05925763642013249,0.5854473489628967,0.1634166015397552,-0.4616208821031435,0.024979512489606462,-0.3543922103293245,-0.8005829955910665,-0.4190148612294642,-1.3029855347558619,0.8898332080547783,-0.8559514507059965,2.3179910446314955,-0.42157327210047474,1.7800415576276585,-0.3720044543470582,-0.4511711195076347,-1.1407485921476466,0.5575905748395508,-1.691173414675034,1.2057014858457478,-0.661620641785536,0.3763444884285309,-0.9680631923054358,1.9016333355902124,-1.192426933524228,-0.45907089225691994,-1.513572521145711,0.6216391998396729,-1.4942517826716242,1.1163963146100382,-1.166112451205811,0.31824610260628333,-1.01084899907424,1.3772049496989478,-0.710846746367692,0.8649822882922206,-0.9221395674337167,1.1196703031129402,-1.8103101735847502,1.5084364515180257,-1.369183039718976,1.3608401540454689,-1.2357347014541564,1.058736305623666,-1.550429126129996,0.5174721518461708,-1.7165888005668308,1.4891056319373155,-0.987796334764919,1.2555188134332917,-1.6674149156895375,0.2923814747463183,-0.38158562652564115,1.34459136657873,-0.8980831211676427,1.2276062698904175,-0.9562560694496213,1.4554137044006132,-1.573149329910064,2.1800595960287428,-0.7860759101323677,2.259567142743358,-0.9474809287710433,0.21677632611169217,-1.4677859310805934,1.5960060053868321,-1.667989634460785,0.22937922782550418,-1.3755783420906524,1.2712776168495765,-0.7001708970738693,0.8185294779961897,-1.2389110172862057,0.31396310611618417,-1.0096520357479872,1.1529599019749484,-1.2929692027656097,1.1529794624714043,-1.1163291851385475,0.7390300083595333,-0.6449002008066583,0.8540215730420055,-0.9756426062301723],\"z\":[1.4542299721814966,1.7128783776879386,-0.7336279638376808,-0.29128010700567647,-0.6365638972108977,-0.2907959452676781,-0.9162751464527458,-0.18554779119708784,0.672605767603302,-0.41922782169019535,0.7098970746235664,-0.2973752077464568,-1.1330653504665082,-0.3223781009131814,1.0445776076841877,1.661931459494046,-0.7381182396134333,1.5931980538914832,0.9673089797549833,-0.32160857256898684,1.2004235295154853,1.5712531126940263,-1.0831634640536765,1.4973192828303594,-1.124413787940681,1.572000701902456,-0.9008647900815537,1.3590171750044004,-0.8540079311599149,-0.28081001545529605,0.6775900682863822,-0.3562776495275648,0.7496293026106761,1.7469996666722674,-1.0883218369021608,-0.3135224907757651,-0.9913417155098778,-0.4761096712848098,-0.8702875992541405,-0.3558224571333733,-1.1502563816963873,1.6575723837145466,0.9988474638503505,-0.5863761411406799,-1.018285659596743,-0.4802926904492558,-0.8524294492987997,-0.640663109879899,-0.6985234424496343,-0.7227126326708401,-0.8697885285884194,1.318233684409171,-0.6520177184108311,1.012436368627301,-0.9349017695192479,1.0215984359950399,-0.9171985855548345,0.7958449597453398,-0.6389720589009262,0.9745918635622608,0.8438473435994625,1.4273621625917883,-1.1023452696146032,-0.9054972461092151,0.8825788531458917,1.45714268259011,-0.843958010799148,-1.1482586667656989,1.442540983406044,-0.7396443038414103,0.8199773963475967,-0.951587844716798,-1.0585314537345092,-1.012394696075953,0.8777716151802429,1.3064831246038333,-0.8711846952523165,1.1017676303840855,-0.6248747724707698,-0.994642430490878,0.9218778278745747,1.1680822117463057,0.7365981169596434,-0.9504058171812769,-0.574034331306732,0.9875310460423098,-0.9705810146450475,-0.6092117899185161,-0.7180306815797287,-0.9988035105195596,-1.1502445340774095,1.2837925786475952,0.9864992350691179,-0.9320267065551059,-0.8268156968777981,1.2819295786919231,-0.9690478522266913,-0.7179845225287559,0.9309734851754291,1.301719123119469,-0.7399666081194954,-0.9952523821546029,0.8188045901911603,1.2661849808152668,1.0052733588496547,-0.7150602392048957,-1.1862511972220258,0.8745875769554532,0.6910776097742078,0.7469322590851725,0.7844595056305211,-0.6194492995823518,-0.9239022952999364,1.2719625267065608,-0.656008222651704,-0.6551357816375877,-1.2133778915749607,-0.9443286375463092,-1.0810036849416802,-0.9761341536992727,1.2324322231423355,-0.9535036293921223,-0.861214908817492,1.321265401484094,-0.8637983554966976,-0.6343036249474796,0.890029183449895,1.3278595728905955,0.5409112281836198,1.2143556688295267,0.6645551795363592,1.2007568112748457,-0.8660744964339417,-0.6874699304596689,0.941884403470697,-0.5541764819710538,-1.2745494440852712,1.2576853229716223,0.9807682527681602,-0.7378636506087863,-1.447478735047927,1.3836203241893288,-0.8799534681150314,-0.6108202688518789,0.9115533116674928,1.4481803670753812,0.8045261028757311,-0.7047457063050327,-1.081483877780382,1.3251012546650018,0.7281611660838927,1.2516612429872687,-1.2148954441964366,-0.7692224457468292,-1.2786175642217612,-0.5561582416444111,0.6839555065677464,-0.6670199609576771,0.7167293461967064,-0.7026967865649777,-1.2633919425662872,-0.6281361116602141,0.9064452055083349,-0.5907240604726168,0.6769935136224325,-0.7813881309833866,0.724958753083272,-0.6162988227897435,-1.1123778240762976,1.125084694522137,0.694625035040174,1.250262450083478,0.7187893635559259,1.2699932564424268,-1.4005339619924901,-0.65488829082332,0.49103020404745595,1.2130641029554052,0.4588516138758925,1.2478863190460008,-1.126024963870656,-0.7054135966563709,0.6004402375277115,-0.6615404009174346,-1.1340076299427675,1.3327601350605685,-1.3924762077528297,1.1539099731132754,-1.2956484261115808,-0.7807578603214125,-1.1760965184807448,-0.8441385019118375,0.6584469753512177,-0.7912412129068926,-1.418233464233462,-0.8558618207204519,-1.3304566622405534,1.0786867097181316,0.6745069646614251,1.1344153221547446],\"type\":\"scatter3d\"}],                        {\"template\":{\"data\":{\"histogram2dcontour\":[{\"type\":\"histogram2dcontour\",\"colorbar\":{\"outlinewidth\":0,\"ticks\":\"\"},\"colorscale\":[[0.0,\"#0d0887\"],[0.1111111111111111,\"#46039f\"],[0.2222222222222222,\"#7201a8\"],[0.3333333333333333,\"#9c179e\"],[0.4444444444444444,\"#bd3786\"],[0.5555555555555556,\"#d8576b\"],[0.6666666666666666,\"#ed7953\"],[0.7777777777777778,\"#fb9f3a\"],[0.8888888888888888,\"#fdca26\"],[1.0,\"#f0f921\"]]}],\"choropleth\":[{\"type\":\"choropleth\",\"colorbar\":{\"outlinewidth\":0,\"ticks\":\"\"}}],\"histogram2d\":[{\"type\":\"histogram2d\",\"colorbar\":{\"outlinewidth\":0,\"ticks\":\"\"},\"colorscale\":[[0.0,\"#0d0887\"],[0.1111111111111111,\"#46039f\"],[0.2222222222222222,\"#7201a8\"],[0.3333333333333333,\"#9c179e\"],[0.4444444444444444,\"#bd3786\"],[0.5555555555555556,\"#d8576b\"],[0.6666666666666666,\"#ed7953\"],[0.7777777777777778,\"#fb9f3a\"],[0.8888888888888888,\"#fdca26\"],[1.0,\"#f0f921\"]]}],\"heatmap\":[{\"type\":\"heatmap\",\"colorbar\":{\"outlinewidth\":0,\"ticks\":\"\"},\"colorscale\":[[0.0,\"#0d0887\"],[0.1111111111111111,\"#46039f\"],[0.2222222222222222,\"#7201a8\"],[0.3333333333333333,\"#9c179e\"],[0.4444444444444444,\"#bd3786\"],[0.5555555555555556,\"#d8576b\"],[0.6666666666666666,\"#ed7953\"],[0.7777777777777778,\"#fb9f3a\"],[0.8888888888888888,\"#fdca26\"],[1.0,\"#f0f921\"]]}],\"heatmapgl\":[{\"type\":\"heatmapgl\",\"colorbar\":{\"outlinewidth\":0,\"ticks\":\"\"},\"colorscale\":[[0.0,\"#0d0887\"],[0.1111111111111111,\"#46039f\"],[0.2222222222222222,\"#7201a8\"],[0.3333333333333333,\"#9c179e\"],[0.4444444444444444,\"#bd3786\"],[0.5555555555555556,\"#d8576b\"],[0.6666666666666666,\"#ed7953\"],[0.7777777777777778,\"#fb9f3a\"],[0.8888888888888888,\"#fdca26\"],[1.0,\"#f0f921\"]]}],\"contourcarpet\":[{\"type\":\"contourcarpet\",\"colorbar\":{\"outlinewidth\":0,\"ticks\":\"\"}}],\"contour\":[{\"type\":\"contour\",\"colorbar\":{\"outlinewidth\":0,\"ticks\":\"\"},\"colorscale\":[[0.0,\"#0d0887\"],[0.1111111111111111,\"#46039f\"],[0.2222222222222222,\"#7201a8\"],[0.3333333333333333,\"#9c179e\"],[0.4444444444444444,\"#bd3786\"],[0.5555555555555556,\"#d8576b\"],[0.6666666666666666,\"#ed7953\"],[0.7777777777777778,\"#fb9f3a\"],[0.8888888888888888,\"#fdca26\"],[1.0,\"#f0f921\"]]}],\"surface\":[{\"type\":\"surface\",\"colorbar\":{\"outlinewidth\":0,\"ticks\":\"\"},\"colorscale\":[[0.0,\"#0d0887\"],[0.1111111111111111,\"#46039f\"],[0.2222222222222222,\"#7201a8\"],[0.3333333333333333,\"#9c179e\"],[0.4444444444444444,\"#bd3786\"],[0.5555555555555556,\"#d8576b\"],[0.6666666666666666,\"#ed7953\"],[0.7777777777777778,\"#fb9f3a\"],[0.8888888888888888,\"#fdca26\"],[1.0,\"#f0f921\"]]}],\"mesh3d\":[{\"type\":\"mesh3d\",\"colorbar\":{\"outlinewidth\":0,\"ticks\":\"\"}}],\"scatter\":[{\"fillpattern\":{\"fillmode\":\"overlay\",\"size\":10,\"solidity\":0.2},\"type\":\"scatter\"}],\"parcoords\":[{\"type\":\"parcoords\",\"line\":{\"colorbar\":{\"outlinewidth\":0,\"ticks\":\"\"}}}],\"scatterpolargl\":[{\"type\":\"scatterpolargl\",\"marker\":{\"colorbar\":{\"outlinewidth\":0,\"ticks\":\"\"}}}],\"bar\":[{\"error_x\":{\"color\":\"#2a3f5f\"},\"error_y\":{\"color\":\"#2a3f5f\"},\"marker\":{\"line\":{\"color\":\"#E5ECF6\",\"width\":0.5},\"pattern\":{\"fillmode\":\"overlay\",\"size\":10,\"solidity\":0.2}},\"type\":\"bar\"}],\"scattergeo\":[{\"type\":\"scattergeo\",\"marker\":{\"colorbar\":{\"outlinewidth\":0,\"ticks\":\"\"}}}],\"scatterpolar\":[{\"type\":\"scatterpolar\",\"marker\":{\"colorbar\":{\"outlinewidth\":0,\"ticks\":\"\"}}}],\"histogram\":[{\"marker\":{\"pattern\":{\"fillmode\":\"overlay\",\"size\":10,\"solidity\":0.2}},\"type\":\"histogram\"}],\"scattergl\":[{\"type\":\"scattergl\",\"marker\":{\"colorbar\":{\"outlinewidth\":0,\"ticks\":\"\"}}}],\"scatter3d\":[{\"type\":\"scatter3d\",\"line\":{\"colorbar\":{\"outlinewidth\":0,\"ticks\":\"\"}},\"marker\":{\"colorbar\":{\"outlinewidth\":0,\"ticks\":\"\"}}}],\"scattermapbox\":[{\"type\":\"scattermapbox\",\"marker\":{\"colorbar\":{\"outlinewidth\":0,\"ticks\":\"\"}}}],\"scatterternary\":[{\"type\":\"scatterternary\",\"marker\":{\"colorbar\":{\"outlinewidth\":0,\"ticks\":\"\"}}}],\"scattercarpet\":[{\"type\":\"scattercarpet\",\"marker\":{\"colorbar\":{\"outlinewidth\":0,\"ticks\":\"\"}}}],\"carpet\":[{\"aaxis\":{\"endlinecolor\":\"#2a3f5f\",\"gridcolor\":\"white\",\"linecolor\":\"white\",\"minorgridcolor\":\"white\",\"startlinecolor\":\"#2a3f5f\"},\"baxis\":{\"endlinecolor\":\"#2a3f5f\",\"gridcolor\":\"white\",\"linecolor\":\"white\",\"minorgridcolor\":\"white\",\"startlinecolor\":\"#2a3f5f\"},\"type\":\"carpet\"}],\"table\":[{\"cells\":{\"fill\":{\"color\":\"#EBF0F8\"},\"line\":{\"color\":\"white\"}},\"header\":{\"fill\":{\"color\":\"#C8D4E3\"},\"line\":{\"color\":\"white\"}},\"type\":\"table\"}],\"barpolar\":[{\"marker\":{\"line\":{\"color\":\"#E5ECF6\",\"width\":0.5},\"pattern\":{\"fillmode\":\"overlay\",\"size\":10,\"solidity\":0.2}},\"type\":\"barpolar\"}],\"pie\":[{\"automargin\":true,\"type\":\"pie\"}]},\"layout\":{\"autotypenumbers\":\"strict\",\"colorway\":[\"#636efa\",\"#EF553B\",\"#00cc96\",\"#ab63fa\",\"#FFA15A\",\"#19d3f3\",\"#FF6692\",\"#B6E880\",\"#FF97FF\",\"#FECB52\"],\"font\":{\"color\":\"#2a3f5f\"},\"hovermode\":\"closest\",\"hoverlabel\":{\"align\":\"left\"},\"paper_bgcolor\":\"white\",\"plot_bgcolor\":\"#E5ECF6\",\"polar\":{\"bgcolor\":\"#E5ECF6\",\"angularaxis\":{\"gridcolor\":\"white\",\"linecolor\":\"white\",\"ticks\":\"\"},\"radialaxis\":{\"gridcolor\":\"white\",\"linecolor\":\"white\",\"ticks\":\"\"}},\"ternary\":{\"bgcolor\":\"#E5ECF6\",\"aaxis\":{\"gridcolor\":\"white\",\"linecolor\":\"white\",\"ticks\":\"\"},\"baxis\":{\"gridcolor\":\"white\",\"linecolor\":\"white\",\"ticks\":\"\"},\"caxis\":{\"gridcolor\":\"white\",\"linecolor\":\"white\",\"ticks\":\"\"}},\"coloraxis\":{\"colorbar\":{\"outlinewidth\":0,\"ticks\":\"\"}},\"colorscale\":{\"sequential\":[[0.0,\"#0d0887\"],[0.1111111111111111,\"#46039f\"],[0.2222222222222222,\"#7201a8\"],[0.3333333333333333,\"#9c179e\"],[0.4444444444444444,\"#bd3786\"],[0.5555555555555556,\"#d8576b\"],[0.6666666666666666,\"#ed7953\"],[0.7777777777777778,\"#fb9f3a\"],[0.8888888888888888,\"#fdca26\"],[1.0,\"#f0f921\"]],\"sequentialminus\":[[0.0,\"#0d0887\"],[0.1111111111111111,\"#46039f\"],[0.2222222222222222,\"#7201a8\"],[0.3333333333333333,\"#9c179e\"],[0.4444444444444444,\"#bd3786\"],[0.5555555555555556,\"#d8576b\"],[0.6666666666666666,\"#ed7953\"],[0.7777777777777778,\"#fb9f3a\"],[0.8888888888888888,\"#fdca26\"],[1.0,\"#f0f921\"]],\"diverging\":[[0,\"#8e0152\"],[0.1,\"#c51b7d\"],[0.2,\"#de77ae\"],[0.3,\"#f1b6da\"],[0.4,\"#fde0ef\"],[0.5,\"#f7f7f7\"],[0.6,\"#e6f5d0\"],[0.7,\"#b8e186\"],[0.8,\"#7fbc41\"],[0.9,\"#4d9221\"],[1,\"#276419\"]]},\"xaxis\":{\"gridcolor\":\"white\",\"linecolor\":\"white\",\"ticks\":\"\",\"title\":{\"standoff\":15},\"zerolinecolor\":\"white\",\"automargin\":true,\"zerolinewidth\":2},\"yaxis\":{\"gridcolor\":\"white\",\"linecolor\":\"white\",\"ticks\":\"\",\"title\":{\"standoff\":15},\"zerolinecolor\":\"white\",\"automargin\":true,\"zerolinewidth\":2},\"scene\":{\"xaxis\":{\"backgroundcolor\":\"#E5ECF6\",\"gridcolor\":\"white\",\"linecolor\":\"white\",\"showbackground\":true,\"ticks\":\"\",\"zerolinecolor\":\"white\",\"gridwidth\":2},\"yaxis\":{\"backgroundcolor\":\"#E5ECF6\",\"gridcolor\":\"white\",\"linecolor\":\"white\",\"showbackground\":true,\"ticks\":\"\",\"zerolinecolor\":\"white\",\"gridwidth\":2},\"zaxis\":{\"backgroundcolor\":\"#E5ECF6\",\"gridcolor\":\"white\",\"linecolor\":\"white\",\"showbackground\":true,\"ticks\":\"\",\"zerolinecolor\":\"white\",\"gridwidth\":2}},\"shapedefaults\":{\"line\":{\"color\":\"#2a3f5f\"}},\"annotationdefaults\":{\"arrowcolor\":\"#2a3f5f\",\"arrowhead\":0,\"arrowwidth\":1},\"geo\":{\"bgcolor\":\"white\",\"landcolor\":\"#E5ECF6\",\"subunitcolor\":\"white\",\"showland\":true,\"showlakes\":true,\"lakecolor\":\"white\"},\"title\":{\"x\":0.05},\"mapbox\":{\"style\":\"light\"}}},\"scene\":{\"domain\":{\"x\":[0.0,1.0],\"y\":[0.0,1.0]},\"xaxis\":{\"title\":{\"text\":\"PCA1\"}},\"yaxis\":{\"title\":{\"text\":\"PCA2\"}},\"zaxis\":{\"title\":{\"text\":\"PCA3\"}}},\"legend\":{\"tracegroupgap\":0},\"margin\":{\"t\":60},\"title\":{\"text\":\"principal Componenets in 3-dimensions\",\"x\":0.5}},                        {\"responsive\": true}                    ).then(function(){\n",
       "                            \n",
       "var gd = document.getElementById('7ebd0bc8-5060-4bad-bfb2-f6fc938e8020');\n",
       "var x = new MutationObserver(function (mutations, observer) {{\n",
       "        var display = window.getComputedStyle(gd).display;\n",
       "        if (!display || display === 'none') {{\n",
       "            console.log([gd, 'removed!']);\n",
       "            Plotly.purge(gd);\n",
       "            observer.disconnect();\n",
       "        }}\n",
       "}});\n",
       "\n",
       "// Listen for the removal of the full notebook cells\n",
       "var notebookContainer = gd.closest('#notebook-container');\n",
       "if (notebookContainer) {{\n",
       "    x.observe(notebookContainer, {childList: true});\n",
       "}}\n",
       "\n",
       "// Listen for the clearing of the current output cell\n",
       "var outputEl = gd.closest('.output');\n",
       "if (outputEl) {{\n",
       "    x.observe(outputEl, {childList: true});\n",
       "}}\n",
       "\n",
       "                        })                };                });            </script>        </div>"
      ]
     },
     "metadata": {},
     "output_type": "display_data"
    }
   ],
   "source": [
    "visual_cluster(PCA_data1)"
   ]
  },
  {
   "cell_type": "code",
   "execution_count": 21,
   "id": "685b8135-266a-4549-9869-9aea2f5c3f8b",
   "metadata": {},
   "outputs": [
    {
     "data": {
      "application/vnd.plotly.v1+json": {
       "config": {
        "plotlyServerURL": "https://plot.ly"
       },
       "data": [
        {
         "hovertemplate": "PCA1=%{x}<br>PCA2=%{y}<br>PCA3=%{z}<br>preds=%{marker.color}<extra></extra>",
         "legendgroup": "",
         "marker": {
          "color": [
           0,
           0,
           1,
           0,
           0,
           0,
           1,
           0,
           1,
           0,
           1,
           0,
           1,
           0,
           1,
           0,
           1,
           0,
           1,
           0,
           0,
           0,
           1,
           0,
           1,
           0,
           1,
           0,
           1,
           0,
           1,
           0,
           1,
           0,
           1,
           0,
           1,
           0,
           1,
           0,
           1,
           0,
           1,
           0,
           1,
           0,
           1,
           0,
           0,
           1,
           1,
           0,
           0,
           1,
           1,
           1,
           1,
           1,
           0,
           1,
           1,
           0,
           1,
           1,
           1,
           0,
           1,
           1,
           0,
           1,
           1,
           1,
           1,
           1,
           1,
           2,
           1,
           2,
           0,
           1,
           1,
           2,
           1,
           1,
           0,
           2,
           1,
           3,
           3,
           1,
           1,
           2,
           2,
           1,
           3,
           2,
           1,
           3,
           2,
           2,
           3,
           1,
           2,
           2,
           2,
           3,
           1,
           2,
           2,
           2,
           2,
           3,
           3,
           2,
           3,
           3,
           1,
           3,
           3,
           3,
           2,
           3,
           3,
           2,
           3,
           3,
           2,
           2,
           2,
           2,
           2,
           2,
           3,
           3,
           2,
           3,
           3,
           2,
           2,
           3,
           1,
           2,
           3,
           3,
           2,
           2,
           2,
           3,
           3,
           2,
           2,
           2,
           3,
           3,
           3,
           3,
           2,
           3,
           2,
           3,
           3,
           3,
           2,
           3,
           2,
           3,
           2,
           3,
           3,
           2,
           2,
           2,
           2,
           2,
           3,
           3,
           2,
           2,
           2,
           2,
           3,
           3,
           2,
           3,
           3,
           2,
           3,
           2,
           3,
           3,
           3,
           3,
           2,
           3,
           3,
           3,
           3,
           2,
           2,
           2
          ],
          "coloraxis": "coloraxis",
          "opacity": 0.5,
          "size": 3,
          "symbol": "circle"
         },
         "mode": "markers",
         "name": "",
         "scene": "scene",
         "showlegend": false,
         "type": "scatter3d",
         "x": [
          -2.3169645991165826,
          -2.2723914183889558,
          -2.4542232620083726,
          -2.3864614223698006,
          -2.3973767127662438,
          -2.3338464135648436,
          -2.3846579021732044,
          -2.268998694903726,
          -2.242365799675841,
          -2.2523766152042497,
          -2.214930218938996,
          -2.2153348329163003,
          -2.3004125739942034,
          -2.1590961685341123,
          -2.0740806759686876,
          -1.971079765489163,
          -2.1565839224873393,
          -1.9267698685331647,
          -1.9636254960366029,
          -2.011051974876462,
          -1.8696672259129945,
          -1.802184999803629,
          -2.026308594212342,
          -1.7641009378291523,
          -1.930983298458648,
          -1.6467664283628398,
          -1.8710081418881994,
          -1.653949700327038,
          -1.8095894475981948,
          -1.7109417220596648,
          -1.6685011191999188,
          -1.6675073278720187,
          -1.5480415277924644,
          -1.3817611289839653,
          -1.6635307405921012,
          -1.5310423495178218,
          -1.5942081924861657,
          -1.5065650738039444,
          -1.4680699975348068,
          -1.3777517127460004,
          -1.4727276021841846,
          -1.1629265206000583,
          -1.225691105535373,
          -1.3116397061827103,
          -1.367943975021651,
          -1.2683234311117106,
          -1.2952167314453669,
          -1.2393956548537806,
          -1.2359711042386825,
          -1.2281690397818263,
          -1.1930631379750656,
          -0.9811847263217206,
          -1.1004059575536023,
          -0.9871190917724788,
          -1.1256951741239818,
          -0.9529347735172612,
          -1.0722289914514374,
          -0.9456879396412141,
          -0.9403600097674677,
          -0.8323018316956906,
          -0.8487585601242429,
          -0.7251831657588641,
          -0.9518239572487792,
          -0.9048795528445337,
          -0.7351504439630743,
          -0.6169010529101001,
          -0.8250554452743927,
          -0.8696255778932603,
          -0.5824902526832216,
          -0.7668600968974281,
          -0.6469496634889318,
          -0.7529618411060661,
          -0.7363596165513394,
          -0.7180271899734966,
          -0.44651904273790904,
          -0.35555621090842787,
          -0.5435010528983356,
          -0.3672143123174434,
          -0.4715484711001682,
          -0.525323547237112,
          -0.3653917457256979,
          -0.3078683213989369,
          -0.37174817272307326,
          -0.4681541487891028,
          -0.3895456713196051,
          -0.28894143122920035,
          -0.3584483533655312,
          -0.27624054921956803,
          -0.2591884088302828,
          -0.29445628232801624,
          -0.28710765909289465,
          -0.019658981720388543,
          -0.039596917708760025,
          -0.1751209048214141,
          -0.1435586211152362,
          0.05246342510471815,
          -0.14778711344364373,
          -0.08893827051397277,
          0.054379781912345396,
          0.13433800688551767,
          0.0023611632606233266,
          -0.03653036581434023,
          0.10314322752115976,
          0.20208289986886546,
          0.16454111829757653,
          0.0686580447683991,
          0.015706288211100976,
          0.20827498115917742,
          0.18703948085583733,
          0.20802274463949993,
          0.2259295842835489,
          0.18367113973071197,
          0.1704332834591843,
          0.3854124481529074,
          0.270994317696578,
          0.2827483090614,
          0.19198315654679945,
          0.24900800723747296,
          0.2965655790072757,
          0.3232274463348425,
          0.5426327826718539,
          0.3591627701267638,
          0.43648743602052725,
          0.6372395963137402,
          0.4998031092518232,
          0.5364237783619946,
          0.6697830290057083,
          0.7411198664199806,
          0.637964035023837,
          0.7524194681942287,
          0.6870319003410351,
          0.7746263612217272,
          0.651173589552674,
          0.6825655709534993,
          0.8455339466957911,
          0.753140550960051,
          0.6614149133540099,
          0.9152688000867111,
          0.9278097865096195,
          0.8016243830396593,
          0.7336311103949984,
          1.0353580358578423,
          0.8793900172559499,
          0.9239388690828169,
          1.070224034424895,
          1.1502429128203913,
          1.0650227237250771,
          0.9882547376950515,
          0.9774124340009026,
          1.2066062698151658,
          1.1350901825835102,
          1.218258471820914,
          1.0024678435491015,
          1.076905434003752,
          1.016770882760669,
          1.1369049194749647,
          1.2075111097137323,
          1.14507943930807,
          1.2385216882262784,
          1.1651097398650716,
          1.113702362017565,
          1.2273552791218985,
          1.4044984760759944,
          1.309879830068228,
          1.4865903893141768,
          1.4150510909934968,
          1.550234333876208,
          1.490453500676365,
          1.463402231317326,
          1.6733836640293798,
          1.6242050618410764,
          1.7171011971334085,
          1.6547900534198288,
          1.7387851876240545,
          1.5160356696197808,
          1.6405715490766,
          1.6864447016946362,
          1.8141543208941275,
          1.8421849709702196,
          1.9737492014746179,
          1.880843468213258,
          1.9513291317599435,
          2.0548969593789312,
          2.01097249161248,
          1.9807474825107687,
          2.2253964257253944,
          2.017174329164424,
          2.2825800541910506,
          2.117829153617699,
          2.2005718559213094,
          2.1628964342254027,
          2.2197753115114884,
          2.6026461268699843,
          2.5190564166192915,
          2.633961754473943,
          2.7277333925346268,
          2.8345680996551725,
          3.0731128523921005,
          3.3319881383999417,
          3.405501568284711
         ],
         "y": [
          -0.4541902503048635,
          -1.4741036374887448,
          -0.006922242803214672,
          -1.7499349872244003,
          -0.36934115852703464,
          -1.7716536534008673,
          0.73432384482708,
          -2.2008387993723537,
          2.7265008621419753,
          -1.26890987796171,
          2.581676479009006,
          -1.741298261298961,
          1.630470263084028,
          -1.6966123584051964,
          1.1307882663911568,
          -1.3662966972290127,
          -0.03469635502353243,
          -1.1176967238490214,
          1.446548710023705,
          -1.7109102903695945,
          0.4497304638982911,
          -1.0551416295091922,
          1.3100087798741364,
          -0.758455503903786,
          1.4668918519593632,
          -1.0944852198834911,
          0.5441330041034204,
          -0.23914265096244391,
          0.32524922270098006,
          -2.0040766998963835,
          2.5130245674833382,
          -1.728842566652813,
          2.1702458962433804,
          -1.8986161605053988,
          1.2251277217591316,
          -1.9393780262090297,
          0.8011247432893878,
          -1.281744785275509,
          0.2679299120837094,
          -1.8256656126621054,
          1.4586080114662472,
          -1.5984537627811273,
          1.0768495642281357,
          -0.908706402167676,
          0.85760266132078,
          -1.3600044543205232,
          0.18871007657707997,
          -0.7317772875901695,
          -0.49988516118582516,
          -0.40116383409937717,
          0.22119818289421841,
          -0.29850778787544086,
          -0.7183747025833721,
          0.9840039138598311,
          0.4581445724591364,
          0.8988351445368409,
          0.3752035047141801,
          1.8510109317282435,
          -0.8328219799192668,
          1.0639498374103218,
          1.635698747958376,
          -0.8513835418357397,
          1.1134110041902545,
          0.28632403013424823,
          1.4257075011637135,
          -1.0053345545636565,
          -0.015095375725055572,
          1.2705936836378953,
          -0.9556269673367785,
          -0.47698065458535926,
          1.6657033440151414,
          0.3964977795963828,
          0.8516449683287258,
          0.6653446187571322,
          1.3404322030438156,
          -0.47248034714205556,
          0.008937879948951448,
          0.37768005427724877,
          -1.0485585549833984,
          0.49949506209468086,
          1.136145622817281,
          0.09321345551305324,
          1.8956775484649289,
          0.29890798384188844,
          -1.2794792950735123,
          0.8263887602440452,
          0.3720503048891741,
          -1.1745206466609042,
          -0.715396417007896,
          0.44628105145956765,
          1.094616314497218,
          -0.5150416186944677,
          0.7514231498846814,
          0.11505012810900425,
          -0.3324096525966389,
          -0.5110537126415104,
          0.27406626912978665,
          -0.7915230171173552,
          0.9393557995900289,
          -0.6271003565633759,
          -0.7472425575116822,
          0.3480303418855492,
          1.4243253709459236,
          -0.4899416511925221,
          0.6172623709667051,
          -0.8717654276209409,
          1.1340685230556071,
          1.1311375858748725,
          1.9012567382299776,
          1.6696421507725565,
          1.5139530019852077,
          -1.2884643729365857,
          -0.03152047395727708,
          -0.5925636416920991,
          -1.176212556502171,
          -1.1800508279493749,
          1.1753433280548449,
          0.05925763642013249,
          0.5854473489628967,
          0.1634166015397552,
          -0.4616208821031435,
          0.024979512489606462,
          -0.3543922103293245,
          -0.8005829955910665,
          -0.4190148612294642,
          -1.3029855347558619,
          0.8898332080547783,
          -0.8559514507059965,
          2.3179910446314955,
          -0.42157327210047474,
          1.7800415576276585,
          -0.3720044543470582,
          -0.4511711195076347,
          -1.1407485921476466,
          0.5575905748395508,
          -1.691173414675034,
          1.2057014858457478,
          -0.661620641785536,
          0.3763444884285309,
          -0.9680631923054358,
          1.9016333355902124,
          -1.192426933524228,
          -0.45907089225691994,
          -1.513572521145711,
          0.6216391998396729,
          -1.4942517826716242,
          1.1163963146100382,
          -1.166112451205811,
          0.31824610260628333,
          -1.01084899907424,
          1.3772049496989478,
          -0.710846746367692,
          0.8649822882922206,
          -0.9221395674337167,
          1.1196703031129402,
          -1.8103101735847502,
          1.5084364515180257,
          -1.369183039718976,
          1.3608401540454689,
          -1.2357347014541564,
          1.058736305623666,
          -1.550429126129996,
          0.5174721518461708,
          -1.7165888005668308,
          1.4891056319373155,
          -0.987796334764919,
          1.2555188134332917,
          -1.6674149156895375,
          0.2923814747463183,
          -0.38158562652564115,
          1.34459136657873,
          -0.8980831211676427,
          1.2276062698904175,
          -0.9562560694496213,
          1.4554137044006132,
          -1.573149329910064,
          2.1800595960287428,
          -0.7860759101323677,
          2.259567142743358,
          -0.9474809287710433,
          0.21677632611169217,
          -1.4677859310805934,
          1.5960060053868321,
          -1.667989634460785,
          0.22937922782550418,
          -1.3755783420906524,
          1.2712776168495765,
          -0.7001708970738693,
          0.8185294779961897,
          -1.2389110172862057,
          0.31396310611618417,
          -1.0096520357479872,
          1.1529599019749484,
          -1.2929692027656097,
          1.1529794624714043,
          -1.1163291851385475,
          0.7390300083595333,
          -0.6449002008066583,
          0.8540215730420055,
          -0.9756426062301723
         ],
         "z": [
          1.4542299721814966,
          1.7128783776879386,
          -0.7336279638376808,
          -0.29128010700567647,
          -0.6365638972108977,
          -0.2907959452676781,
          -0.9162751464527458,
          -0.18554779119708784,
          0.672605767603302,
          -0.41922782169019535,
          0.7098970746235664,
          -0.2973752077464568,
          -1.1330653504665082,
          -0.3223781009131814,
          1.0445776076841877,
          1.661931459494046,
          -0.7381182396134333,
          1.5931980538914832,
          0.9673089797549833,
          -0.32160857256898684,
          1.2004235295154853,
          1.5712531126940263,
          -1.0831634640536765,
          1.4973192828303594,
          -1.124413787940681,
          1.572000701902456,
          -0.9008647900815537,
          1.3590171750044004,
          -0.8540079311599149,
          -0.28081001545529605,
          0.6775900682863822,
          -0.3562776495275648,
          0.7496293026106761,
          1.7469996666722674,
          -1.0883218369021608,
          -0.3135224907757651,
          -0.9913417155098778,
          -0.4761096712848098,
          -0.8702875992541405,
          -0.3558224571333733,
          -1.1502563816963873,
          1.6575723837145466,
          0.9988474638503505,
          -0.5863761411406799,
          -1.018285659596743,
          -0.4802926904492558,
          -0.8524294492987997,
          -0.640663109879899,
          -0.6985234424496343,
          -0.7227126326708401,
          -0.8697885285884194,
          1.318233684409171,
          -0.6520177184108311,
          1.012436368627301,
          -0.9349017695192479,
          1.0215984359950399,
          -0.9171985855548345,
          0.7958449597453398,
          -0.6389720589009262,
          0.9745918635622608,
          0.8438473435994625,
          1.4273621625917883,
          -1.1023452696146032,
          -0.9054972461092151,
          0.8825788531458917,
          1.45714268259011,
          -0.843958010799148,
          -1.1482586667656989,
          1.442540983406044,
          -0.7396443038414103,
          0.8199773963475967,
          -0.951587844716798,
          -1.0585314537345092,
          -1.012394696075953,
          0.8777716151802429,
          1.3064831246038333,
          -0.8711846952523165,
          1.1017676303840855,
          -0.6248747724707698,
          -0.994642430490878,
          0.9218778278745747,
          1.1680822117463057,
          0.7365981169596434,
          -0.9504058171812769,
          -0.574034331306732,
          0.9875310460423098,
          -0.9705810146450475,
          -0.6092117899185161,
          -0.7180306815797287,
          -0.9988035105195596,
          -1.1502445340774095,
          1.2837925786475952,
          0.9864992350691179,
          -0.9320267065551059,
          -0.8268156968777981,
          1.2819295786919231,
          -0.9690478522266913,
          -0.7179845225287559,
          0.9309734851754291,
          1.301719123119469,
          -0.7399666081194954,
          -0.9952523821546029,
          0.8188045901911603,
          1.2661849808152668,
          1.0052733588496547,
          -0.7150602392048957,
          -1.1862511972220258,
          0.8745875769554532,
          0.6910776097742078,
          0.7469322590851725,
          0.7844595056305211,
          -0.6194492995823518,
          -0.9239022952999364,
          1.2719625267065608,
          -0.656008222651704,
          -0.6551357816375877,
          -1.2133778915749607,
          -0.9443286375463092,
          -1.0810036849416802,
          -0.9761341536992727,
          1.2324322231423355,
          -0.9535036293921223,
          -0.861214908817492,
          1.321265401484094,
          -0.8637983554966976,
          -0.6343036249474796,
          0.890029183449895,
          1.3278595728905955,
          0.5409112281836198,
          1.2143556688295267,
          0.6645551795363592,
          1.2007568112748457,
          -0.8660744964339417,
          -0.6874699304596689,
          0.941884403470697,
          -0.5541764819710538,
          -1.2745494440852712,
          1.2576853229716223,
          0.9807682527681602,
          -0.7378636506087863,
          -1.447478735047927,
          1.3836203241893288,
          -0.8799534681150314,
          -0.6108202688518789,
          0.9115533116674928,
          1.4481803670753812,
          0.8045261028757311,
          -0.7047457063050327,
          -1.081483877780382,
          1.3251012546650018,
          0.7281611660838927,
          1.2516612429872687,
          -1.2148954441964366,
          -0.7692224457468292,
          -1.2786175642217612,
          -0.5561582416444111,
          0.6839555065677464,
          -0.6670199609576771,
          0.7167293461967064,
          -0.7026967865649777,
          -1.2633919425662872,
          -0.6281361116602141,
          0.9064452055083349,
          -0.5907240604726168,
          0.6769935136224325,
          -0.7813881309833866,
          0.724958753083272,
          -0.6162988227897435,
          -1.1123778240762976,
          1.125084694522137,
          0.694625035040174,
          1.250262450083478,
          0.7187893635559259,
          1.2699932564424268,
          -1.4005339619924901,
          -0.65488829082332,
          0.49103020404745595,
          1.2130641029554052,
          0.4588516138758925,
          1.2478863190460008,
          -1.126024963870656,
          -0.7054135966563709,
          0.6004402375277115,
          -0.6615404009174346,
          -1.1340076299427675,
          1.3327601350605685,
          -1.3924762077528297,
          1.1539099731132754,
          -1.2956484261115808,
          -0.7807578603214125,
          -1.1760965184807448,
          -0.8441385019118375,
          0.6584469753512177,
          -0.7912412129068926,
          -1.418233464233462,
          -0.8558618207204519,
          -1.3304566622405534,
          1.0786867097181316,
          0.6745069646614251,
          1.1344153221547446
         ]
        }
       ],
       "layout": {
        "autosize": true,
        "coloraxis": {
         "colorbar": {
          "title": {
           "text": "preds"
          }
         },
         "colorscale": [
          [
           0,
           "#0d0887"
          ],
          [
           0.1111111111111111,
           "#46039f"
          ],
          [
           0.2222222222222222,
           "#7201a8"
          ],
          [
           0.3333333333333333,
           "#9c179e"
          ],
          [
           0.4444444444444444,
           "#bd3786"
          ],
          [
           0.5555555555555556,
           "#d8576b"
          ],
          [
           0.6666666666666666,
           "#ed7953"
          ],
          [
           0.7777777777777778,
           "#fb9f3a"
          ],
          [
           0.8888888888888888,
           "#fdca26"
          ],
          [
           1,
           "#f0f921"
          ]
         ]
        },
        "legend": {
         "tracegroupgap": 0
        },
        "margin": {
         "t": 60
        },
        "scene": {
         "aspectmode": "auto",
         "aspectratio": {
          "x": 1.2969224133789405,
          "y": 1.0905592720519115,
          "z": 0.7070281895879805
         },
         "domain": {
          "x": [
           0,
           1
          ],
          "y": [
           0,
           1
          ]
         },
         "xaxis": {
          "title": {
           "text": "PCA1"
          },
          "type": "linear"
         },
         "yaxis": {
          "title": {
           "text": "PCA2"
          },
          "type": "linear"
         },
         "zaxis": {
          "title": {
           "text": "PCA3"
          },
          "type": "linear"
         }
        },
        "template": {
         "data": {
          "bar": [
           {
            "error_x": {
             "color": "#2a3f5f"
            },
            "error_y": {
             "color": "#2a3f5f"
            },
            "marker": {
             "line": {
              "color": "#E5ECF6",
              "width": 0.5
             },
             "pattern": {
              "fillmode": "overlay",
              "size": 10,
              "solidity": 0.2
             }
            },
            "type": "bar"
           }
          ],
          "barpolar": [
           {
            "marker": {
             "line": {
              "color": "#E5ECF6",
              "width": 0.5
             },
             "pattern": {
              "fillmode": "overlay",
              "size": 10,
              "solidity": 0.2
             }
            },
            "type": "barpolar"
           }
          ],
          "carpet": [
           {
            "aaxis": {
             "endlinecolor": "#2a3f5f",
             "gridcolor": "white",
             "linecolor": "white",
             "minorgridcolor": "white",
             "startlinecolor": "#2a3f5f"
            },
            "baxis": {
             "endlinecolor": "#2a3f5f",
             "gridcolor": "white",
             "linecolor": "white",
             "minorgridcolor": "white",
             "startlinecolor": "#2a3f5f"
            },
            "type": "carpet"
           }
          ],
          "choropleth": [
           {
            "colorbar": {
             "outlinewidth": 0,
             "ticks": ""
            },
            "type": "choropleth"
           }
          ],
          "contour": [
           {
            "colorbar": {
             "outlinewidth": 0,
             "ticks": ""
            },
            "colorscale": [
             [
              0,
              "#0d0887"
             ],
             [
              0.1111111111111111,
              "#46039f"
             ],
             [
              0.2222222222222222,
              "#7201a8"
             ],
             [
              0.3333333333333333,
              "#9c179e"
             ],
             [
              0.4444444444444444,
              "#bd3786"
             ],
             [
              0.5555555555555556,
              "#d8576b"
             ],
             [
              0.6666666666666666,
              "#ed7953"
             ],
             [
              0.7777777777777778,
              "#fb9f3a"
             ],
             [
              0.8888888888888888,
              "#fdca26"
             ],
             [
              1,
              "#f0f921"
             ]
            ],
            "type": "contour"
           }
          ],
          "contourcarpet": [
           {
            "colorbar": {
             "outlinewidth": 0,
             "ticks": ""
            },
            "type": "contourcarpet"
           }
          ],
          "heatmap": [
           {
            "colorbar": {
             "outlinewidth": 0,
             "ticks": ""
            },
            "colorscale": [
             [
              0,
              "#0d0887"
             ],
             [
              0.1111111111111111,
              "#46039f"
             ],
             [
              0.2222222222222222,
              "#7201a8"
             ],
             [
              0.3333333333333333,
              "#9c179e"
             ],
             [
              0.4444444444444444,
              "#bd3786"
             ],
             [
              0.5555555555555556,
              "#d8576b"
             ],
             [
              0.6666666666666666,
              "#ed7953"
             ],
             [
              0.7777777777777778,
              "#fb9f3a"
             ],
             [
              0.8888888888888888,
              "#fdca26"
             ],
             [
              1,
              "#f0f921"
             ]
            ],
            "type": "heatmap"
           }
          ],
          "heatmapgl": [
           {
            "colorbar": {
             "outlinewidth": 0,
             "ticks": ""
            },
            "colorscale": [
             [
              0,
              "#0d0887"
             ],
             [
              0.1111111111111111,
              "#46039f"
             ],
             [
              0.2222222222222222,
              "#7201a8"
             ],
             [
              0.3333333333333333,
              "#9c179e"
             ],
             [
              0.4444444444444444,
              "#bd3786"
             ],
             [
              0.5555555555555556,
              "#d8576b"
             ],
             [
              0.6666666666666666,
              "#ed7953"
             ],
             [
              0.7777777777777778,
              "#fb9f3a"
             ],
             [
              0.8888888888888888,
              "#fdca26"
             ],
             [
              1,
              "#f0f921"
             ]
            ],
            "type": "heatmapgl"
           }
          ],
          "histogram": [
           {
            "marker": {
             "pattern": {
              "fillmode": "overlay",
              "size": 10,
              "solidity": 0.2
             }
            },
            "type": "histogram"
           }
          ],
          "histogram2d": [
           {
            "colorbar": {
             "outlinewidth": 0,
             "ticks": ""
            },
            "colorscale": [
             [
              0,
              "#0d0887"
             ],
             [
              0.1111111111111111,
              "#46039f"
             ],
             [
              0.2222222222222222,
              "#7201a8"
             ],
             [
              0.3333333333333333,
              "#9c179e"
             ],
             [
              0.4444444444444444,
              "#bd3786"
             ],
             [
              0.5555555555555556,
              "#d8576b"
             ],
             [
              0.6666666666666666,
              "#ed7953"
             ],
             [
              0.7777777777777778,
              "#fb9f3a"
             ],
             [
              0.8888888888888888,
              "#fdca26"
             ],
             [
              1,
              "#f0f921"
             ]
            ],
            "type": "histogram2d"
           }
          ],
          "histogram2dcontour": [
           {
            "colorbar": {
             "outlinewidth": 0,
             "ticks": ""
            },
            "colorscale": [
             [
              0,
              "#0d0887"
             ],
             [
              0.1111111111111111,
              "#46039f"
             ],
             [
              0.2222222222222222,
              "#7201a8"
             ],
             [
              0.3333333333333333,
              "#9c179e"
             ],
             [
              0.4444444444444444,
              "#bd3786"
             ],
             [
              0.5555555555555556,
              "#d8576b"
             ],
             [
              0.6666666666666666,
              "#ed7953"
             ],
             [
              0.7777777777777778,
              "#fb9f3a"
             ],
             [
              0.8888888888888888,
              "#fdca26"
             ],
             [
              1,
              "#f0f921"
             ]
            ],
            "type": "histogram2dcontour"
           }
          ],
          "mesh3d": [
           {
            "colorbar": {
             "outlinewidth": 0,
             "ticks": ""
            },
            "type": "mesh3d"
           }
          ],
          "parcoords": [
           {
            "line": {
             "colorbar": {
              "outlinewidth": 0,
              "ticks": ""
             }
            },
            "type": "parcoords"
           }
          ],
          "pie": [
           {
            "automargin": true,
            "type": "pie"
           }
          ],
          "scatter": [
           {
            "fillpattern": {
             "fillmode": "overlay",
             "size": 10,
             "solidity": 0.2
            },
            "type": "scatter"
           }
          ],
          "scatter3d": [
           {
            "line": {
             "colorbar": {
              "outlinewidth": 0,
              "ticks": ""
             }
            },
            "marker": {
             "colorbar": {
              "outlinewidth": 0,
              "ticks": ""
             }
            },
            "type": "scatter3d"
           }
          ],
          "scattercarpet": [
           {
            "marker": {
             "colorbar": {
              "outlinewidth": 0,
              "ticks": ""
             }
            },
            "type": "scattercarpet"
           }
          ],
          "scattergeo": [
           {
            "marker": {
             "colorbar": {
              "outlinewidth": 0,
              "ticks": ""
             }
            },
            "type": "scattergeo"
           }
          ],
          "scattergl": [
           {
            "marker": {
             "colorbar": {
              "outlinewidth": 0,
              "ticks": ""
             }
            },
            "type": "scattergl"
           }
          ],
          "scattermapbox": [
           {
            "marker": {
             "colorbar": {
              "outlinewidth": 0,
              "ticks": ""
             }
            },
            "type": "scattermapbox"
           }
          ],
          "scatterpolar": [
           {
            "marker": {
             "colorbar": {
              "outlinewidth": 0,
              "ticks": ""
             }
            },
            "type": "scatterpolar"
           }
          ],
          "scatterpolargl": [
           {
            "marker": {
             "colorbar": {
              "outlinewidth": 0,
              "ticks": ""
             }
            },
            "type": "scatterpolargl"
           }
          ],
          "scatterternary": [
           {
            "marker": {
             "colorbar": {
              "outlinewidth": 0,
              "ticks": ""
             }
            },
            "type": "scatterternary"
           }
          ],
          "surface": [
           {
            "colorbar": {
             "outlinewidth": 0,
             "ticks": ""
            },
            "colorscale": [
             [
              0,
              "#0d0887"
             ],
             [
              0.1111111111111111,
              "#46039f"
             ],
             [
              0.2222222222222222,
              "#7201a8"
             ],
             [
              0.3333333333333333,
              "#9c179e"
             ],
             [
              0.4444444444444444,
              "#bd3786"
             ],
             [
              0.5555555555555556,
              "#d8576b"
             ],
             [
              0.6666666666666666,
              "#ed7953"
             ],
             [
              0.7777777777777778,
              "#fb9f3a"
             ],
             [
              0.8888888888888888,
              "#fdca26"
             ],
             [
              1,
              "#f0f921"
             ]
            ],
            "type": "surface"
           }
          ],
          "table": [
           {
            "cells": {
             "fill": {
              "color": "#EBF0F8"
             },
             "line": {
              "color": "white"
             }
            },
            "header": {
             "fill": {
              "color": "#C8D4E3"
             },
             "line": {
              "color": "white"
             }
            },
            "type": "table"
           }
          ]
         },
         "layout": {
          "annotationdefaults": {
           "arrowcolor": "#2a3f5f",
           "arrowhead": 0,
           "arrowwidth": 1
          },
          "autotypenumbers": "strict",
          "coloraxis": {
           "colorbar": {
            "outlinewidth": 0,
            "ticks": ""
           }
          },
          "colorscale": {
           "diverging": [
            [
             0,
             "#8e0152"
            ],
            [
             0.1,
             "#c51b7d"
            ],
            [
             0.2,
             "#de77ae"
            ],
            [
             0.3,
             "#f1b6da"
            ],
            [
             0.4,
             "#fde0ef"
            ],
            [
             0.5,
             "#f7f7f7"
            ],
            [
             0.6,
             "#e6f5d0"
            ],
            [
             0.7,
             "#b8e186"
            ],
            [
             0.8,
             "#7fbc41"
            ],
            [
             0.9,
             "#4d9221"
            ],
            [
             1,
             "#276419"
            ]
           ],
           "sequential": [
            [
             0,
             "#0d0887"
            ],
            [
             0.1111111111111111,
             "#46039f"
            ],
            [
             0.2222222222222222,
             "#7201a8"
            ],
            [
             0.3333333333333333,
             "#9c179e"
            ],
            [
             0.4444444444444444,
             "#bd3786"
            ],
            [
             0.5555555555555556,
             "#d8576b"
            ],
            [
             0.6666666666666666,
             "#ed7953"
            ],
            [
             0.7777777777777778,
             "#fb9f3a"
            ],
            [
             0.8888888888888888,
             "#fdca26"
            ],
            [
             1,
             "#f0f921"
            ]
           ],
           "sequentialminus": [
            [
             0,
             "#0d0887"
            ],
            [
             0.1111111111111111,
             "#46039f"
            ],
            [
             0.2222222222222222,
             "#7201a8"
            ],
            [
             0.3333333333333333,
             "#9c179e"
            ],
            [
             0.4444444444444444,
             "#bd3786"
            ],
            [
             0.5555555555555556,
             "#d8576b"
            ],
            [
             0.6666666666666666,
             "#ed7953"
            ],
            [
             0.7777777777777778,
             "#fb9f3a"
            ],
            [
             0.8888888888888888,
             "#fdca26"
            ],
            [
             1,
             "#f0f921"
            ]
           ]
          },
          "colorway": [
           "#636efa",
           "#EF553B",
           "#00cc96",
           "#ab63fa",
           "#FFA15A",
           "#19d3f3",
           "#FF6692",
           "#B6E880",
           "#FF97FF",
           "#FECB52"
          ],
          "font": {
           "color": "#2a3f5f"
          },
          "geo": {
           "bgcolor": "white",
           "lakecolor": "white",
           "landcolor": "#E5ECF6",
           "showlakes": true,
           "showland": true,
           "subunitcolor": "white"
          },
          "hoverlabel": {
           "align": "left"
          },
          "hovermode": "closest",
          "mapbox": {
           "style": "light"
          },
          "paper_bgcolor": "white",
          "plot_bgcolor": "#E5ECF6",
          "polar": {
           "angularaxis": {
            "gridcolor": "white",
            "linecolor": "white",
            "ticks": ""
           },
           "bgcolor": "#E5ECF6",
           "radialaxis": {
            "gridcolor": "white",
            "linecolor": "white",
            "ticks": ""
           }
          },
          "scene": {
           "xaxis": {
            "backgroundcolor": "#E5ECF6",
            "gridcolor": "white",
            "gridwidth": 2,
            "linecolor": "white",
            "showbackground": true,
            "ticks": "",
            "zerolinecolor": "white"
           },
           "yaxis": {
            "backgroundcolor": "#E5ECF6",
            "gridcolor": "white",
            "gridwidth": 2,
            "linecolor": "white",
            "showbackground": true,
            "ticks": "",
            "zerolinecolor": "white"
           },
           "zaxis": {
            "backgroundcolor": "#E5ECF6",
            "gridcolor": "white",
            "gridwidth": 2,
            "linecolor": "white",
            "showbackground": true,
            "ticks": "",
            "zerolinecolor": "white"
           }
          },
          "shapedefaults": {
           "line": {
            "color": "#2a3f5f"
           }
          },
          "ternary": {
           "aaxis": {
            "gridcolor": "white",
            "linecolor": "white",
            "ticks": ""
           },
           "baxis": {
            "gridcolor": "white",
            "linecolor": "white",
            "ticks": ""
           },
           "bgcolor": "#E5ECF6",
           "caxis": {
            "gridcolor": "white",
            "linecolor": "white",
            "ticks": ""
           }
          },
          "title": {
           "x": 0.05
          },
          "xaxis": {
           "automargin": true,
           "gridcolor": "white",
           "linecolor": "white",
           "ticks": "",
           "title": {
            "standoff": 15
           },
           "zerolinecolor": "white",
           "zerolinewidth": 2
          },
          "yaxis": {
           "automargin": true,
           "gridcolor": "white",
           "linecolor": "white",
           "ticks": "",
           "title": {
            "standoff": 15
           },
           "zerolinecolor": "white",
           "zerolinewidth": 2
          }
         }
        },
        "title": {
         "text": "KMeans clustering k=4",
         "x": 0.5
        }
       }
      },
      "text/html": [
       "<div>                            <div id=\"937462ed-0fb7-42ce-b826-02ceb37fb1ec\" class=\"plotly-graph-div\" style=\"height:525px; width:100%;\"></div>            <script type=\"text/javascript\">                require([\"plotly\"], function(Plotly) {                    window.PLOTLYENV=window.PLOTLYENV || {};                                    if (document.getElementById(\"937462ed-0fb7-42ce-b826-02ceb37fb1ec\")) {                    Plotly.newPlot(                        \"937462ed-0fb7-42ce-b826-02ceb37fb1ec\",                        [{\"hovertemplate\":\"PCA1=%{x}\\u003cbr\\u003ePCA2=%{y}\\u003cbr\\u003ePCA3=%{z}\\u003cbr\\u003epreds=%{marker.color}\\u003cextra\\u003e\\u003c\\u002fextra\\u003e\",\"legendgroup\":\"\",\"marker\":{\"color\":[0,0,1,0,0,0,1,0,1,0,1,0,1,0,1,0,1,0,1,0,0,0,1,0,1,0,1,0,1,0,1,0,1,0,1,0,1,0,1,0,1,0,1,0,1,0,1,0,0,1,1,0,0,1,1,1,1,1,0,1,1,0,1,1,1,0,1,1,0,1,1,1,1,1,1,2,1,2,0,1,1,2,1,1,0,2,1,3,3,1,1,2,2,1,3,2,1,3,2,2,3,1,2,2,2,3,1,2,2,2,2,3,3,2,3,3,1,3,3,3,2,3,3,2,3,3,2,2,2,2,2,2,3,3,2,3,3,2,2,3,1,2,3,3,2,2,2,3,3,2,2,2,3,3,3,3,2,3,2,3,3,3,2,3,2,3,2,3,3,2,2,2,2,2,3,3,2,2,2,2,3,3,2,3,3,2,3,2,3,3,3,3,2,3,3,3,3,2,2,2],\"coloraxis\":\"coloraxis\",\"opacity\":0.5,\"symbol\":\"circle\",\"size\":3},\"mode\":\"markers\",\"name\":\"\",\"scene\":\"scene\",\"showlegend\":false,\"x\":[-2.3169645991165826,-2.2723914183889558,-2.4542232620083726,-2.3864614223698006,-2.3973767127662438,-2.3338464135648436,-2.3846579021732044,-2.268998694903726,-2.242365799675841,-2.2523766152042497,-2.214930218938996,-2.2153348329163003,-2.3004125739942034,-2.1590961685341123,-2.0740806759686876,-1.971079765489163,-2.1565839224873393,-1.9267698685331647,-1.9636254960366029,-2.011051974876462,-1.8696672259129945,-1.802184999803629,-2.026308594212342,-1.7641009378291523,-1.930983298458648,-1.6467664283628398,-1.8710081418881994,-1.653949700327038,-1.8095894475981948,-1.7109417220596648,-1.6685011191999188,-1.6675073278720187,-1.5480415277924644,-1.3817611289839653,-1.6635307405921012,-1.5310423495178218,-1.5942081924861657,-1.5065650738039444,-1.4680699975348068,-1.3777517127460004,-1.4727276021841846,-1.1629265206000583,-1.225691105535373,-1.3116397061827103,-1.367943975021651,-1.2683234311117106,-1.2952167314453669,-1.2393956548537806,-1.2359711042386825,-1.2281690397818263,-1.1930631379750656,-0.9811847263217206,-1.1004059575536023,-0.9871190917724788,-1.1256951741239818,-0.9529347735172612,-1.0722289914514374,-0.9456879396412141,-0.9403600097674677,-0.8323018316956906,-0.8487585601242429,-0.7251831657588641,-0.9518239572487792,-0.9048795528445337,-0.7351504439630743,-0.6169010529101001,-0.8250554452743927,-0.8696255778932603,-0.5824902526832216,-0.7668600968974281,-0.6469496634889318,-0.7529618411060661,-0.7363596165513394,-0.7180271899734966,-0.44651904273790904,-0.35555621090842787,-0.5435010528983356,-0.3672143123174434,-0.4715484711001682,-0.525323547237112,-0.3653917457256979,-0.3078683213989369,-0.37174817272307326,-0.4681541487891028,-0.3895456713196051,-0.28894143122920035,-0.3584483533655312,-0.27624054921956803,-0.2591884088302828,-0.29445628232801624,-0.28710765909289465,-0.019658981720388543,-0.039596917708760025,-0.1751209048214141,-0.1435586211152362,0.05246342510471815,-0.14778711344364373,-0.08893827051397277,0.054379781912345396,0.13433800688551767,0.0023611632606233266,-0.03653036581434023,0.10314322752115976,0.20208289986886546,0.16454111829757653,0.0686580447683991,0.015706288211100976,0.20827498115917742,0.18703948085583733,0.20802274463949993,0.2259295842835489,0.18367113973071197,0.1704332834591843,0.3854124481529074,0.270994317696578,0.2827483090614,0.19198315654679945,0.24900800723747296,0.2965655790072757,0.3232274463348425,0.5426327826718539,0.3591627701267638,0.43648743602052725,0.6372395963137402,0.4998031092518232,0.5364237783619946,0.6697830290057083,0.7411198664199806,0.637964035023837,0.7524194681942287,0.6870319003410351,0.7746263612217272,0.651173589552674,0.6825655709534993,0.8455339466957911,0.753140550960051,0.6614149133540099,0.9152688000867111,0.9278097865096195,0.8016243830396593,0.7336311103949984,1.0353580358578423,0.8793900172559499,0.9239388690828169,1.070224034424895,1.1502429128203913,1.0650227237250771,0.9882547376950515,0.9774124340009026,1.2066062698151658,1.1350901825835102,1.218258471820914,1.0024678435491015,1.076905434003752,1.016770882760669,1.1369049194749647,1.2075111097137323,1.14507943930807,1.2385216882262784,1.1651097398650716,1.113702362017565,1.2273552791218985,1.4044984760759944,1.309879830068228,1.4865903893141768,1.4150510909934968,1.550234333876208,1.490453500676365,1.463402231317326,1.6733836640293798,1.6242050618410764,1.7171011971334085,1.6547900534198288,1.7387851876240545,1.5160356696197808,1.6405715490766,1.6864447016946362,1.8141543208941275,1.8421849709702196,1.9737492014746179,1.880843468213258,1.9513291317599435,2.0548969593789312,2.01097249161248,1.9807474825107687,2.2253964257253944,2.017174329164424,2.2825800541910506,2.117829153617699,2.2005718559213094,2.1628964342254027,2.2197753115114884,2.6026461268699843,2.5190564166192915,2.633961754473943,2.7277333925346268,2.8345680996551725,3.0731128523921005,3.3319881383999417,3.405501568284711],\"y\":[-0.4541902503048635,-1.4741036374887448,-0.006922242803214672,-1.7499349872244003,-0.36934115852703464,-1.7716536534008673,0.73432384482708,-2.2008387993723537,2.7265008621419753,-1.26890987796171,2.581676479009006,-1.741298261298961,1.630470263084028,-1.6966123584051964,1.1307882663911568,-1.3662966972290127,-0.03469635502353243,-1.1176967238490214,1.446548710023705,-1.7109102903695945,0.4497304638982911,-1.0551416295091922,1.3100087798741364,-0.758455503903786,1.4668918519593632,-1.0944852198834911,0.5441330041034204,-0.23914265096244391,0.32524922270098006,-2.0040766998963835,2.5130245674833382,-1.728842566652813,2.1702458962433804,-1.8986161605053988,1.2251277217591316,-1.9393780262090297,0.8011247432893878,-1.281744785275509,0.2679299120837094,-1.8256656126621054,1.4586080114662472,-1.5984537627811273,1.0768495642281357,-0.908706402167676,0.85760266132078,-1.3600044543205232,0.18871007657707997,-0.7317772875901695,-0.49988516118582516,-0.40116383409937717,0.22119818289421841,-0.29850778787544086,-0.7183747025833721,0.9840039138598311,0.4581445724591364,0.8988351445368409,0.3752035047141801,1.8510109317282435,-0.8328219799192668,1.0639498374103218,1.635698747958376,-0.8513835418357397,1.1134110041902545,0.28632403013424823,1.4257075011637135,-1.0053345545636565,-0.015095375725055572,1.2705936836378953,-0.9556269673367785,-0.47698065458535926,1.6657033440151414,0.3964977795963828,0.8516449683287258,0.6653446187571322,1.3404322030438156,-0.47248034714205556,0.008937879948951448,0.37768005427724877,-1.0485585549833984,0.49949506209468086,1.136145622817281,0.09321345551305324,1.8956775484649289,0.29890798384188844,-1.2794792950735123,0.8263887602440452,0.3720503048891741,-1.1745206466609042,-0.715396417007896,0.44628105145956765,1.094616314497218,-0.5150416186944677,0.7514231498846814,0.11505012810900425,-0.3324096525966389,-0.5110537126415104,0.27406626912978665,-0.7915230171173552,0.9393557995900289,-0.6271003565633759,-0.7472425575116822,0.3480303418855492,1.4243253709459236,-0.4899416511925221,0.6172623709667051,-0.8717654276209409,1.1340685230556071,1.1311375858748725,1.9012567382299776,1.6696421507725565,1.5139530019852077,-1.2884643729365857,-0.03152047395727708,-0.5925636416920991,-1.176212556502171,-1.1800508279493749,1.1753433280548449,0.05925763642013249,0.5854473489628967,0.1634166015397552,-0.4616208821031435,0.024979512489606462,-0.3543922103293245,-0.8005829955910665,-0.4190148612294642,-1.3029855347558619,0.8898332080547783,-0.8559514507059965,2.3179910446314955,-0.42157327210047474,1.7800415576276585,-0.3720044543470582,-0.4511711195076347,-1.1407485921476466,0.5575905748395508,-1.691173414675034,1.2057014858457478,-0.661620641785536,0.3763444884285309,-0.9680631923054358,1.9016333355902124,-1.192426933524228,-0.45907089225691994,-1.513572521145711,0.6216391998396729,-1.4942517826716242,1.1163963146100382,-1.166112451205811,0.31824610260628333,-1.01084899907424,1.3772049496989478,-0.710846746367692,0.8649822882922206,-0.9221395674337167,1.1196703031129402,-1.8103101735847502,1.5084364515180257,-1.369183039718976,1.3608401540454689,-1.2357347014541564,1.058736305623666,-1.550429126129996,0.5174721518461708,-1.7165888005668308,1.4891056319373155,-0.987796334764919,1.2555188134332917,-1.6674149156895375,0.2923814747463183,-0.38158562652564115,1.34459136657873,-0.8980831211676427,1.2276062698904175,-0.9562560694496213,1.4554137044006132,-1.573149329910064,2.1800595960287428,-0.7860759101323677,2.259567142743358,-0.9474809287710433,0.21677632611169217,-1.4677859310805934,1.5960060053868321,-1.667989634460785,0.22937922782550418,-1.3755783420906524,1.2712776168495765,-0.7001708970738693,0.8185294779961897,-1.2389110172862057,0.31396310611618417,-1.0096520357479872,1.1529599019749484,-1.2929692027656097,1.1529794624714043,-1.1163291851385475,0.7390300083595333,-0.6449002008066583,0.8540215730420055,-0.9756426062301723],\"z\":[1.4542299721814966,1.7128783776879386,-0.7336279638376808,-0.29128010700567647,-0.6365638972108977,-0.2907959452676781,-0.9162751464527458,-0.18554779119708784,0.672605767603302,-0.41922782169019535,0.7098970746235664,-0.2973752077464568,-1.1330653504665082,-0.3223781009131814,1.0445776076841877,1.661931459494046,-0.7381182396134333,1.5931980538914832,0.9673089797549833,-0.32160857256898684,1.2004235295154853,1.5712531126940263,-1.0831634640536765,1.4973192828303594,-1.124413787940681,1.572000701902456,-0.9008647900815537,1.3590171750044004,-0.8540079311599149,-0.28081001545529605,0.6775900682863822,-0.3562776495275648,0.7496293026106761,1.7469996666722674,-1.0883218369021608,-0.3135224907757651,-0.9913417155098778,-0.4761096712848098,-0.8702875992541405,-0.3558224571333733,-1.1502563816963873,1.6575723837145466,0.9988474638503505,-0.5863761411406799,-1.018285659596743,-0.4802926904492558,-0.8524294492987997,-0.640663109879899,-0.6985234424496343,-0.7227126326708401,-0.8697885285884194,1.318233684409171,-0.6520177184108311,1.012436368627301,-0.9349017695192479,1.0215984359950399,-0.9171985855548345,0.7958449597453398,-0.6389720589009262,0.9745918635622608,0.8438473435994625,1.4273621625917883,-1.1023452696146032,-0.9054972461092151,0.8825788531458917,1.45714268259011,-0.843958010799148,-1.1482586667656989,1.442540983406044,-0.7396443038414103,0.8199773963475967,-0.951587844716798,-1.0585314537345092,-1.012394696075953,0.8777716151802429,1.3064831246038333,-0.8711846952523165,1.1017676303840855,-0.6248747724707698,-0.994642430490878,0.9218778278745747,1.1680822117463057,0.7365981169596434,-0.9504058171812769,-0.574034331306732,0.9875310460423098,-0.9705810146450475,-0.6092117899185161,-0.7180306815797287,-0.9988035105195596,-1.1502445340774095,1.2837925786475952,0.9864992350691179,-0.9320267065551059,-0.8268156968777981,1.2819295786919231,-0.9690478522266913,-0.7179845225287559,0.9309734851754291,1.301719123119469,-0.7399666081194954,-0.9952523821546029,0.8188045901911603,1.2661849808152668,1.0052733588496547,-0.7150602392048957,-1.1862511972220258,0.8745875769554532,0.6910776097742078,0.7469322590851725,0.7844595056305211,-0.6194492995823518,-0.9239022952999364,1.2719625267065608,-0.656008222651704,-0.6551357816375877,-1.2133778915749607,-0.9443286375463092,-1.0810036849416802,-0.9761341536992727,1.2324322231423355,-0.9535036293921223,-0.861214908817492,1.321265401484094,-0.8637983554966976,-0.6343036249474796,0.890029183449895,1.3278595728905955,0.5409112281836198,1.2143556688295267,0.6645551795363592,1.2007568112748457,-0.8660744964339417,-0.6874699304596689,0.941884403470697,-0.5541764819710538,-1.2745494440852712,1.2576853229716223,0.9807682527681602,-0.7378636506087863,-1.447478735047927,1.3836203241893288,-0.8799534681150314,-0.6108202688518789,0.9115533116674928,1.4481803670753812,0.8045261028757311,-0.7047457063050327,-1.081483877780382,1.3251012546650018,0.7281611660838927,1.2516612429872687,-1.2148954441964366,-0.7692224457468292,-1.2786175642217612,-0.5561582416444111,0.6839555065677464,-0.6670199609576771,0.7167293461967064,-0.7026967865649777,-1.2633919425662872,-0.6281361116602141,0.9064452055083349,-0.5907240604726168,0.6769935136224325,-0.7813881309833866,0.724958753083272,-0.6162988227897435,-1.1123778240762976,1.125084694522137,0.694625035040174,1.250262450083478,0.7187893635559259,1.2699932564424268,-1.4005339619924901,-0.65488829082332,0.49103020404745595,1.2130641029554052,0.4588516138758925,1.2478863190460008,-1.126024963870656,-0.7054135966563709,0.6004402375277115,-0.6615404009174346,-1.1340076299427675,1.3327601350605685,-1.3924762077528297,1.1539099731132754,-1.2956484261115808,-0.7807578603214125,-1.1760965184807448,-0.8441385019118375,0.6584469753512177,-0.7912412129068926,-1.418233464233462,-0.8558618207204519,-1.3304566622405534,1.0786867097181316,0.6745069646614251,1.1344153221547446],\"type\":\"scatter3d\"}],                        {\"template\":{\"data\":{\"histogram2dcontour\":[{\"type\":\"histogram2dcontour\",\"colorbar\":{\"outlinewidth\":0,\"ticks\":\"\"},\"colorscale\":[[0.0,\"#0d0887\"],[0.1111111111111111,\"#46039f\"],[0.2222222222222222,\"#7201a8\"],[0.3333333333333333,\"#9c179e\"],[0.4444444444444444,\"#bd3786\"],[0.5555555555555556,\"#d8576b\"],[0.6666666666666666,\"#ed7953\"],[0.7777777777777778,\"#fb9f3a\"],[0.8888888888888888,\"#fdca26\"],[1.0,\"#f0f921\"]]}],\"choropleth\":[{\"type\":\"choropleth\",\"colorbar\":{\"outlinewidth\":0,\"ticks\":\"\"}}],\"histogram2d\":[{\"type\":\"histogram2d\",\"colorbar\":{\"outlinewidth\":0,\"ticks\":\"\"},\"colorscale\":[[0.0,\"#0d0887\"],[0.1111111111111111,\"#46039f\"],[0.2222222222222222,\"#7201a8\"],[0.3333333333333333,\"#9c179e\"],[0.4444444444444444,\"#bd3786\"],[0.5555555555555556,\"#d8576b\"],[0.6666666666666666,\"#ed7953\"],[0.7777777777777778,\"#fb9f3a\"],[0.8888888888888888,\"#fdca26\"],[1.0,\"#f0f921\"]]}],\"heatmap\":[{\"type\":\"heatmap\",\"colorbar\":{\"outlinewidth\":0,\"ticks\":\"\"},\"colorscale\":[[0.0,\"#0d0887\"],[0.1111111111111111,\"#46039f\"],[0.2222222222222222,\"#7201a8\"],[0.3333333333333333,\"#9c179e\"],[0.4444444444444444,\"#bd3786\"],[0.5555555555555556,\"#d8576b\"],[0.6666666666666666,\"#ed7953\"],[0.7777777777777778,\"#fb9f3a\"],[0.8888888888888888,\"#fdca26\"],[1.0,\"#f0f921\"]]}],\"heatmapgl\":[{\"type\":\"heatmapgl\",\"colorbar\":{\"outlinewidth\":0,\"ticks\":\"\"},\"colorscale\":[[0.0,\"#0d0887\"],[0.1111111111111111,\"#46039f\"],[0.2222222222222222,\"#7201a8\"],[0.3333333333333333,\"#9c179e\"],[0.4444444444444444,\"#bd3786\"],[0.5555555555555556,\"#d8576b\"],[0.6666666666666666,\"#ed7953\"],[0.7777777777777778,\"#fb9f3a\"],[0.8888888888888888,\"#fdca26\"],[1.0,\"#f0f921\"]]}],\"contourcarpet\":[{\"type\":\"contourcarpet\",\"colorbar\":{\"outlinewidth\":0,\"ticks\":\"\"}}],\"contour\":[{\"type\":\"contour\",\"colorbar\":{\"outlinewidth\":0,\"ticks\":\"\"},\"colorscale\":[[0.0,\"#0d0887\"],[0.1111111111111111,\"#46039f\"],[0.2222222222222222,\"#7201a8\"],[0.3333333333333333,\"#9c179e\"],[0.4444444444444444,\"#bd3786\"],[0.5555555555555556,\"#d8576b\"],[0.6666666666666666,\"#ed7953\"],[0.7777777777777778,\"#fb9f3a\"],[0.8888888888888888,\"#fdca26\"],[1.0,\"#f0f921\"]]}],\"surface\":[{\"type\":\"surface\",\"colorbar\":{\"outlinewidth\":0,\"ticks\":\"\"},\"colorscale\":[[0.0,\"#0d0887\"],[0.1111111111111111,\"#46039f\"],[0.2222222222222222,\"#7201a8\"],[0.3333333333333333,\"#9c179e\"],[0.4444444444444444,\"#bd3786\"],[0.5555555555555556,\"#d8576b\"],[0.6666666666666666,\"#ed7953\"],[0.7777777777777778,\"#fb9f3a\"],[0.8888888888888888,\"#fdca26\"],[1.0,\"#f0f921\"]]}],\"mesh3d\":[{\"type\":\"mesh3d\",\"colorbar\":{\"outlinewidth\":0,\"ticks\":\"\"}}],\"scatter\":[{\"fillpattern\":{\"fillmode\":\"overlay\",\"size\":10,\"solidity\":0.2},\"type\":\"scatter\"}],\"parcoords\":[{\"type\":\"parcoords\",\"line\":{\"colorbar\":{\"outlinewidth\":0,\"ticks\":\"\"}}}],\"scatterpolargl\":[{\"type\":\"scatterpolargl\",\"marker\":{\"colorbar\":{\"outlinewidth\":0,\"ticks\":\"\"}}}],\"bar\":[{\"error_x\":{\"color\":\"#2a3f5f\"},\"error_y\":{\"color\":\"#2a3f5f\"},\"marker\":{\"line\":{\"color\":\"#E5ECF6\",\"width\":0.5},\"pattern\":{\"fillmode\":\"overlay\",\"size\":10,\"solidity\":0.2}},\"type\":\"bar\"}],\"scattergeo\":[{\"type\":\"scattergeo\",\"marker\":{\"colorbar\":{\"outlinewidth\":0,\"ticks\":\"\"}}}],\"scatterpolar\":[{\"type\":\"scatterpolar\",\"marker\":{\"colorbar\":{\"outlinewidth\":0,\"ticks\":\"\"}}}],\"histogram\":[{\"marker\":{\"pattern\":{\"fillmode\":\"overlay\",\"size\":10,\"solidity\":0.2}},\"type\":\"histogram\"}],\"scattergl\":[{\"type\":\"scattergl\",\"marker\":{\"colorbar\":{\"outlinewidth\":0,\"ticks\":\"\"}}}],\"scatter3d\":[{\"type\":\"scatter3d\",\"line\":{\"colorbar\":{\"outlinewidth\":0,\"ticks\":\"\"}},\"marker\":{\"colorbar\":{\"outlinewidth\":0,\"ticks\":\"\"}}}],\"scattermapbox\":[{\"type\":\"scattermapbox\",\"marker\":{\"colorbar\":{\"outlinewidth\":0,\"ticks\":\"\"}}}],\"scatterternary\":[{\"type\":\"scatterternary\",\"marker\":{\"colorbar\":{\"outlinewidth\":0,\"ticks\":\"\"}}}],\"scattercarpet\":[{\"type\":\"scattercarpet\",\"marker\":{\"colorbar\":{\"outlinewidth\":0,\"ticks\":\"\"}}}],\"carpet\":[{\"aaxis\":{\"endlinecolor\":\"#2a3f5f\",\"gridcolor\":\"white\",\"linecolor\":\"white\",\"minorgridcolor\":\"white\",\"startlinecolor\":\"#2a3f5f\"},\"baxis\":{\"endlinecolor\":\"#2a3f5f\",\"gridcolor\":\"white\",\"linecolor\":\"white\",\"minorgridcolor\":\"white\",\"startlinecolor\":\"#2a3f5f\"},\"type\":\"carpet\"}],\"table\":[{\"cells\":{\"fill\":{\"color\":\"#EBF0F8\"},\"line\":{\"color\":\"white\"}},\"header\":{\"fill\":{\"color\":\"#C8D4E3\"},\"line\":{\"color\":\"white\"}},\"type\":\"table\"}],\"barpolar\":[{\"marker\":{\"line\":{\"color\":\"#E5ECF6\",\"width\":0.5},\"pattern\":{\"fillmode\":\"overlay\",\"size\":10,\"solidity\":0.2}},\"type\":\"barpolar\"}],\"pie\":[{\"automargin\":true,\"type\":\"pie\"}]},\"layout\":{\"autotypenumbers\":\"strict\",\"colorway\":[\"#636efa\",\"#EF553B\",\"#00cc96\",\"#ab63fa\",\"#FFA15A\",\"#19d3f3\",\"#FF6692\",\"#B6E880\",\"#FF97FF\",\"#FECB52\"],\"font\":{\"color\":\"#2a3f5f\"},\"hovermode\":\"closest\",\"hoverlabel\":{\"align\":\"left\"},\"paper_bgcolor\":\"white\",\"plot_bgcolor\":\"#E5ECF6\",\"polar\":{\"bgcolor\":\"#E5ECF6\",\"angularaxis\":{\"gridcolor\":\"white\",\"linecolor\":\"white\",\"ticks\":\"\"},\"radialaxis\":{\"gridcolor\":\"white\",\"linecolor\":\"white\",\"ticks\":\"\"}},\"ternary\":{\"bgcolor\":\"#E5ECF6\",\"aaxis\":{\"gridcolor\":\"white\",\"linecolor\":\"white\",\"ticks\":\"\"},\"baxis\":{\"gridcolor\":\"white\",\"linecolor\":\"white\",\"ticks\":\"\"},\"caxis\":{\"gridcolor\":\"white\",\"linecolor\":\"white\",\"ticks\":\"\"}},\"coloraxis\":{\"colorbar\":{\"outlinewidth\":0,\"ticks\":\"\"}},\"colorscale\":{\"sequential\":[[0.0,\"#0d0887\"],[0.1111111111111111,\"#46039f\"],[0.2222222222222222,\"#7201a8\"],[0.3333333333333333,\"#9c179e\"],[0.4444444444444444,\"#bd3786\"],[0.5555555555555556,\"#d8576b\"],[0.6666666666666666,\"#ed7953\"],[0.7777777777777778,\"#fb9f3a\"],[0.8888888888888888,\"#fdca26\"],[1.0,\"#f0f921\"]],\"sequentialminus\":[[0.0,\"#0d0887\"],[0.1111111111111111,\"#46039f\"],[0.2222222222222222,\"#7201a8\"],[0.3333333333333333,\"#9c179e\"],[0.4444444444444444,\"#bd3786\"],[0.5555555555555556,\"#d8576b\"],[0.6666666666666666,\"#ed7953\"],[0.7777777777777778,\"#fb9f3a\"],[0.8888888888888888,\"#fdca26\"],[1.0,\"#f0f921\"]],\"diverging\":[[0,\"#8e0152\"],[0.1,\"#c51b7d\"],[0.2,\"#de77ae\"],[0.3,\"#f1b6da\"],[0.4,\"#fde0ef\"],[0.5,\"#f7f7f7\"],[0.6,\"#e6f5d0\"],[0.7,\"#b8e186\"],[0.8,\"#7fbc41\"],[0.9,\"#4d9221\"],[1,\"#276419\"]]},\"xaxis\":{\"gridcolor\":\"white\",\"linecolor\":\"white\",\"ticks\":\"\",\"title\":{\"standoff\":15},\"zerolinecolor\":\"white\",\"automargin\":true,\"zerolinewidth\":2},\"yaxis\":{\"gridcolor\":\"white\",\"linecolor\":\"white\",\"ticks\":\"\",\"title\":{\"standoff\":15},\"zerolinecolor\":\"white\",\"automargin\":true,\"zerolinewidth\":2},\"scene\":{\"xaxis\":{\"backgroundcolor\":\"#E5ECF6\",\"gridcolor\":\"white\",\"linecolor\":\"white\",\"showbackground\":true,\"ticks\":\"\",\"zerolinecolor\":\"white\",\"gridwidth\":2},\"yaxis\":{\"backgroundcolor\":\"#E5ECF6\",\"gridcolor\":\"white\",\"linecolor\":\"white\",\"showbackground\":true,\"ticks\":\"\",\"zerolinecolor\":\"white\",\"gridwidth\":2},\"zaxis\":{\"backgroundcolor\":\"#E5ECF6\",\"gridcolor\":\"white\",\"linecolor\":\"white\",\"showbackground\":true,\"ticks\":\"\",\"zerolinecolor\":\"white\",\"gridwidth\":2}},\"shapedefaults\":{\"line\":{\"color\":\"#2a3f5f\"}},\"annotationdefaults\":{\"arrowcolor\":\"#2a3f5f\",\"arrowhead\":0,\"arrowwidth\":1},\"geo\":{\"bgcolor\":\"white\",\"landcolor\":\"#E5ECF6\",\"subunitcolor\":\"white\",\"showland\":true,\"showlakes\":true,\"lakecolor\":\"white\"},\"title\":{\"x\":0.05},\"mapbox\":{\"style\":\"light\"}}},\"scene\":{\"domain\":{\"x\":[0.0,1.0],\"y\":[0.0,1.0]},\"xaxis\":{\"title\":{\"text\":\"PCA1\"}},\"yaxis\":{\"title\":{\"text\":\"PCA2\"}},\"zaxis\":{\"title\":{\"text\":\"PCA3\"}}},\"coloraxis\":{\"colorbar\":{\"title\":{\"text\":\"preds\"}},\"colorscale\":[[0.0,\"#0d0887\"],[0.1111111111111111,\"#46039f\"],[0.2222222222222222,\"#7201a8\"],[0.3333333333333333,\"#9c179e\"],[0.4444444444444444,\"#bd3786\"],[0.5555555555555556,\"#d8576b\"],[0.6666666666666666,\"#ed7953\"],[0.7777777777777778,\"#fb9f3a\"],[0.8888888888888888,\"#fdca26\"],[1.0,\"#f0f921\"]]},\"legend\":{\"tracegroupgap\":0},\"margin\":{\"t\":60},\"title\":{\"text\":\"KMeans clustering k=4\",\"x\":0.5}},                        {\"responsive\": true}                    ).then(function(){\n",
       "                            \n",
       "var gd = document.getElementById('937462ed-0fb7-42ce-b826-02ceb37fb1ec');\n",
       "var x = new MutationObserver(function (mutations, observer) {{\n",
       "        var display = window.getComputedStyle(gd).display;\n",
       "        if (!display || display === 'none') {{\n",
       "            console.log([gd, 'removed!']);\n",
       "            Plotly.purge(gd);\n",
       "            observer.disconnect();\n",
       "        }}\n",
       "}});\n",
       "\n",
       "// Listen for the removal of the full notebook cells\n",
       "var notebookContainer = gd.closest('#notebook-container');\n",
       "if (notebookContainer) {{\n",
       "    x.observe(notebookContainer, {childList: true});\n",
       "}}\n",
       "\n",
       "// Listen for the clearing of the current output cell\n",
       "var outputEl = gd.closest('.output');\n",
       "if (outputEl) {{\n",
       "    x.observe(outputEl, {childList: true});\n",
       "}}\n",
       "\n",
       "                        })                };                });            </script>        </div>"
      ]
     },
     "metadata": {},
     "output_type": "display_data"
    }
   ],
   "source": [
    "model = KMeans(n_clusters=4)\n",
    "model.fit(PCA_data1)\n",
    "visual_cluster(PCA_data1, model.labels_, title=\"KMeans clustering k=4\") "
   ]
  },
  {
   "cell_type": "code",
   "execution_count": 15,
   "id": "b4e60dec-9aec-4dfc-b79a-4c3740b7a117",
   "metadata": {},
   "outputs": [
    {
     "data": {
      "application/vnd.plotly.v1+json": {
       "config": {
        "plotlyServerURL": "https://plot.ly"
       },
       "data": [
        {
         "hovertemplate": "PCA1=%{x}<br>PCA2=%{y}<br>PCA3=%{z}<br>preds=%{marker.color}<extra></extra>",
         "legendgroup": "",
         "marker": {
          "color": [
           3,
           3,
           2,
           3,
           2,
           3,
           2,
           3,
           2,
           3,
           2,
           3,
           2,
           3,
           2,
           3,
           2,
           3,
           2,
           3,
           3,
           3,
           2,
           3,
           2,
           3,
           2,
           3,
           2,
           3,
           2,
           3,
           2,
           3,
           2,
           3,
           2,
           3,
           2,
           3,
           2,
           3,
           2,
           3,
           2,
           3,
           2,
           3,
           3,
           2,
           2,
           3,
           3,
           2,
           2,
           2,
           2,
           2,
           3,
           2,
           2,
           3,
           2,
           2,
           2,
           3,
           2,
           2,
           3,
           2,
           2,
           2,
           2,
           2,
           2,
           3,
           2,
           0,
           3,
           2,
           2,
           0,
           2,
           2,
           3,
           0,
           2,
           1,
           1,
           2,
           2,
           0,
           0,
           2,
           1,
           0,
           2,
           1,
           0,
           0,
           1,
           2,
           0,
           0,
           0,
           1,
           2,
           0,
           0,
           0,
           0,
           1,
           1,
           0,
           1,
           1,
           2,
           1,
           1,
           1,
           0,
           1,
           1,
           0,
           1,
           1,
           0,
           0,
           0,
           0,
           0,
           0,
           1,
           1,
           0,
           1,
           1,
           0,
           0,
           1,
           2,
           0,
           1,
           1,
           0,
           0,
           0,
           1,
           1,
           0,
           0,
           0,
           1,
           1,
           1,
           1,
           0,
           1,
           0,
           1,
           1,
           1,
           0,
           1,
           0,
           1,
           0,
           1,
           1,
           0,
           0,
           0,
           0,
           0,
           1,
           1,
           0,
           0,
           0,
           0,
           1,
           1,
           0,
           1,
           1,
           0,
           1,
           0,
           1,
           1,
           1,
           1,
           0,
           1,
           1,
           1,
           1,
           0,
           0,
           0
          ],
          "coloraxis": "coloraxis",
          "opacity": 0.5,
          "size": 3,
          "symbol": "circle"
         },
         "mode": "markers",
         "name": "",
         "scene": "scene",
         "showlegend": false,
         "type": "scatter3d",
         "x": [
          -2.3169645991165826,
          -2.2723914183889558,
          -2.4542232620083726,
          -2.3864614223698006,
          -2.3973767127662438,
          -2.3338464135648436,
          -2.3846579021732044,
          -2.268998694903726,
          -2.242365799675841,
          -2.2523766152042497,
          -2.214930218938996,
          -2.2153348329163003,
          -2.3004125739942034,
          -2.1590961685341123,
          -2.0740806759686876,
          -1.971079765489163,
          -2.1565839224873393,
          -1.9267698685331647,
          -1.9636254960366029,
          -2.011051974876462,
          -1.8696672259129945,
          -1.802184999803629,
          -2.026308594212342,
          -1.7641009378291523,
          -1.930983298458648,
          -1.6467664283628398,
          -1.8710081418881994,
          -1.653949700327038,
          -1.8095894475981948,
          -1.7109417220596648,
          -1.6685011191999188,
          -1.6675073278720187,
          -1.5480415277924644,
          -1.3817611289839653,
          -1.6635307405921012,
          -1.5310423495178218,
          -1.5942081924861657,
          -1.5065650738039444,
          -1.4680699975348068,
          -1.3777517127460004,
          -1.4727276021841846,
          -1.1629265206000583,
          -1.225691105535373,
          -1.3116397061827103,
          -1.367943975021651,
          -1.2683234311117106,
          -1.2952167314453669,
          -1.2393956548537806,
          -1.2359711042386825,
          -1.2281690397818263,
          -1.1930631379750656,
          -0.9811847263217206,
          -1.1004059575536023,
          -0.9871190917724788,
          -1.1256951741239818,
          -0.9529347735172612,
          -1.0722289914514374,
          -0.9456879396412141,
          -0.9403600097674677,
          -0.8323018316956906,
          -0.8487585601242429,
          -0.7251831657588641,
          -0.9518239572487792,
          -0.9048795528445337,
          -0.7351504439630743,
          -0.6169010529101001,
          -0.8250554452743927,
          -0.8696255778932603,
          -0.5824902526832216,
          -0.7668600968974281,
          -0.6469496634889318,
          -0.7529618411060661,
          -0.7363596165513394,
          -0.7180271899734966,
          -0.44651904273790904,
          -0.35555621090842787,
          -0.5435010528983356,
          -0.3672143123174434,
          -0.4715484711001682,
          -0.525323547237112,
          -0.3653917457256979,
          -0.3078683213989369,
          -0.37174817272307326,
          -0.4681541487891028,
          -0.3895456713196051,
          -0.28894143122920035,
          -0.3584483533655312,
          -0.27624054921956803,
          -0.2591884088302828,
          -0.29445628232801624,
          -0.28710765909289465,
          -0.019658981720388543,
          -0.039596917708760025,
          -0.1751209048214141,
          -0.1435586211152362,
          0.05246342510471815,
          -0.14778711344364373,
          -0.08893827051397277,
          0.054379781912345396,
          0.13433800688551767,
          0.0023611632606233266,
          -0.03653036581434023,
          0.10314322752115976,
          0.20208289986886546,
          0.16454111829757653,
          0.0686580447683991,
          0.015706288211100976,
          0.20827498115917742,
          0.18703948085583733,
          0.20802274463949993,
          0.2259295842835489,
          0.18367113973071197,
          0.1704332834591843,
          0.3854124481529074,
          0.270994317696578,
          0.2827483090614,
          0.19198315654679945,
          0.24900800723747296,
          0.2965655790072757,
          0.3232274463348425,
          0.5426327826718539,
          0.3591627701267638,
          0.43648743602052725,
          0.6372395963137402,
          0.4998031092518232,
          0.5364237783619946,
          0.6697830290057083,
          0.7411198664199806,
          0.637964035023837,
          0.7524194681942287,
          0.6870319003410351,
          0.7746263612217272,
          0.651173589552674,
          0.6825655709534993,
          0.8455339466957911,
          0.753140550960051,
          0.6614149133540099,
          0.9152688000867111,
          0.9278097865096195,
          0.8016243830396593,
          0.7336311103949984,
          1.0353580358578423,
          0.8793900172559499,
          0.9239388690828169,
          1.070224034424895,
          1.1502429128203913,
          1.0650227237250771,
          0.9882547376950515,
          0.9774124340009026,
          1.2066062698151658,
          1.1350901825835102,
          1.218258471820914,
          1.0024678435491015,
          1.076905434003752,
          1.016770882760669,
          1.1369049194749647,
          1.2075111097137323,
          1.14507943930807,
          1.2385216882262784,
          1.1651097398650716,
          1.113702362017565,
          1.2273552791218985,
          1.4044984760759944,
          1.309879830068228,
          1.4865903893141768,
          1.4150510909934968,
          1.550234333876208,
          1.490453500676365,
          1.463402231317326,
          1.6733836640293798,
          1.6242050618410764,
          1.7171011971334085,
          1.6547900534198288,
          1.7387851876240545,
          1.5160356696197808,
          1.6405715490766,
          1.6864447016946362,
          1.8141543208941275,
          1.8421849709702196,
          1.9737492014746179,
          1.880843468213258,
          1.9513291317599435,
          2.0548969593789312,
          2.01097249161248,
          1.9807474825107687,
          2.2253964257253944,
          2.017174329164424,
          2.2825800541910506,
          2.117829153617699,
          2.2005718559213094,
          2.1628964342254027,
          2.2197753115114884,
          2.6026461268699843,
          2.5190564166192915,
          2.633961754473943,
          2.7277333925346268,
          2.8345680996551725,
          3.0731128523921005,
          3.3319881383999417,
          3.405501568284711
         ],
         "y": [
          -0.4541902503048635,
          -1.4741036374887448,
          -0.006922242803214672,
          -1.7499349872244003,
          -0.36934115852703464,
          -1.7716536534008673,
          0.73432384482708,
          -2.2008387993723537,
          2.7265008621419753,
          -1.26890987796171,
          2.581676479009006,
          -1.741298261298961,
          1.630470263084028,
          -1.6966123584051964,
          1.1307882663911568,
          -1.3662966972290127,
          -0.03469635502353243,
          -1.1176967238490214,
          1.446548710023705,
          -1.7109102903695945,
          0.4497304638982911,
          -1.0551416295091922,
          1.3100087798741364,
          -0.758455503903786,
          1.4668918519593632,
          -1.0944852198834911,
          0.5441330041034204,
          -0.23914265096244391,
          0.32524922270098006,
          -2.0040766998963835,
          2.5130245674833382,
          -1.728842566652813,
          2.1702458962433804,
          -1.8986161605053988,
          1.2251277217591316,
          -1.9393780262090297,
          0.8011247432893878,
          -1.281744785275509,
          0.2679299120837094,
          -1.8256656126621054,
          1.4586080114662472,
          -1.5984537627811273,
          1.0768495642281357,
          -0.908706402167676,
          0.85760266132078,
          -1.3600044543205232,
          0.18871007657707997,
          -0.7317772875901695,
          -0.49988516118582516,
          -0.40116383409937717,
          0.22119818289421841,
          -0.29850778787544086,
          -0.7183747025833721,
          0.9840039138598311,
          0.4581445724591364,
          0.8988351445368409,
          0.3752035047141801,
          1.8510109317282435,
          -0.8328219799192668,
          1.0639498374103218,
          1.635698747958376,
          -0.8513835418357397,
          1.1134110041902545,
          0.28632403013424823,
          1.4257075011637135,
          -1.0053345545636565,
          -0.015095375725055572,
          1.2705936836378953,
          -0.9556269673367785,
          -0.47698065458535926,
          1.6657033440151414,
          0.3964977795963828,
          0.8516449683287258,
          0.6653446187571322,
          1.3404322030438156,
          -0.47248034714205556,
          0.008937879948951448,
          0.37768005427724877,
          -1.0485585549833984,
          0.49949506209468086,
          1.136145622817281,
          0.09321345551305324,
          1.8956775484649289,
          0.29890798384188844,
          -1.2794792950735123,
          0.8263887602440452,
          0.3720503048891741,
          -1.1745206466609042,
          -0.715396417007896,
          0.44628105145956765,
          1.094616314497218,
          -0.5150416186944677,
          0.7514231498846814,
          0.11505012810900425,
          -0.3324096525966389,
          -0.5110537126415104,
          0.27406626912978665,
          -0.7915230171173552,
          0.9393557995900289,
          -0.6271003565633759,
          -0.7472425575116822,
          0.3480303418855492,
          1.4243253709459236,
          -0.4899416511925221,
          0.6172623709667051,
          -0.8717654276209409,
          1.1340685230556071,
          1.1311375858748725,
          1.9012567382299776,
          1.6696421507725565,
          1.5139530019852077,
          -1.2884643729365857,
          -0.03152047395727708,
          -0.5925636416920991,
          -1.176212556502171,
          -1.1800508279493749,
          1.1753433280548449,
          0.05925763642013249,
          0.5854473489628967,
          0.1634166015397552,
          -0.4616208821031435,
          0.024979512489606462,
          -0.3543922103293245,
          -0.8005829955910665,
          -0.4190148612294642,
          -1.3029855347558619,
          0.8898332080547783,
          -0.8559514507059965,
          2.3179910446314955,
          -0.42157327210047474,
          1.7800415576276585,
          -0.3720044543470582,
          -0.4511711195076347,
          -1.1407485921476466,
          0.5575905748395508,
          -1.691173414675034,
          1.2057014858457478,
          -0.661620641785536,
          0.3763444884285309,
          -0.9680631923054358,
          1.9016333355902124,
          -1.192426933524228,
          -0.45907089225691994,
          -1.513572521145711,
          0.6216391998396729,
          -1.4942517826716242,
          1.1163963146100382,
          -1.166112451205811,
          0.31824610260628333,
          -1.01084899907424,
          1.3772049496989478,
          -0.710846746367692,
          0.8649822882922206,
          -0.9221395674337167,
          1.1196703031129402,
          -1.8103101735847502,
          1.5084364515180257,
          -1.369183039718976,
          1.3608401540454689,
          -1.2357347014541564,
          1.058736305623666,
          -1.550429126129996,
          0.5174721518461708,
          -1.7165888005668308,
          1.4891056319373155,
          -0.987796334764919,
          1.2555188134332917,
          -1.6674149156895375,
          0.2923814747463183,
          -0.38158562652564115,
          1.34459136657873,
          -0.8980831211676427,
          1.2276062698904175,
          -0.9562560694496213,
          1.4554137044006132,
          -1.573149329910064,
          2.1800595960287428,
          -0.7860759101323677,
          2.259567142743358,
          -0.9474809287710433,
          0.21677632611169217,
          -1.4677859310805934,
          1.5960060053868321,
          -1.667989634460785,
          0.22937922782550418,
          -1.3755783420906524,
          1.2712776168495765,
          -0.7001708970738693,
          0.8185294779961897,
          -1.2389110172862057,
          0.31396310611618417,
          -1.0096520357479872,
          1.1529599019749484,
          -1.2929692027656097,
          1.1529794624714043,
          -1.1163291851385475,
          0.7390300083595333,
          -0.6449002008066583,
          0.8540215730420055,
          -0.9756426062301723
         ],
         "z": [
          1.4542299721814966,
          1.7128783776879386,
          -0.7336279638376808,
          -0.29128010700567647,
          -0.6365638972108977,
          -0.2907959452676781,
          -0.9162751464527458,
          -0.18554779119708784,
          0.672605767603302,
          -0.41922782169019535,
          0.7098970746235664,
          -0.2973752077464568,
          -1.1330653504665082,
          -0.3223781009131814,
          1.0445776076841877,
          1.661931459494046,
          -0.7381182396134333,
          1.5931980538914832,
          0.9673089797549833,
          -0.32160857256898684,
          1.2004235295154853,
          1.5712531126940263,
          -1.0831634640536765,
          1.4973192828303594,
          -1.124413787940681,
          1.572000701902456,
          -0.9008647900815537,
          1.3590171750044004,
          -0.8540079311599149,
          -0.28081001545529605,
          0.6775900682863822,
          -0.3562776495275648,
          0.7496293026106761,
          1.7469996666722674,
          -1.0883218369021608,
          -0.3135224907757651,
          -0.9913417155098778,
          -0.4761096712848098,
          -0.8702875992541405,
          -0.3558224571333733,
          -1.1502563816963873,
          1.6575723837145466,
          0.9988474638503505,
          -0.5863761411406799,
          -1.018285659596743,
          -0.4802926904492558,
          -0.8524294492987997,
          -0.640663109879899,
          -0.6985234424496343,
          -0.7227126326708401,
          -0.8697885285884194,
          1.318233684409171,
          -0.6520177184108311,
          1.012436368627301,
          -0.9349017695192479,
          1.0215984359950399,
          -0.9171985855548345,
          0.7958449597453398,
          -0.6389720589009262,
          0.9745918635622608,
          0.8438473435994625,
          1.4273621625917883,
          -1.1023452696146032,
          -0.9054972461092151,
          0.8825788531458917,
          1.45714268259011,
          -0.843958010799148,
          -1.1482586667656989,
          1.442540983406044,
          -0.7396443038414103,
          0.8199773963475967,
          -0.951587844716798,
          -1.0585314537345092,
          -1.012394696075953,
          0.8777716151802429,
          1.3064831246038333,
          -0.8711846952523165,
          1.1017676303840855,
          -0.6248747724707698,
          -0.994642430490878,
          0.9218778278745747,
          1.1680822117463057,
          0.7365981169596434,
          -0.9504058171812769,
          -0.574034331306732,
          0.9875310460423098,
          -0.9705810146450475,
          -0.6092117899185161,
          -0.7180306815797287,
          -0.9988035105195596,
          -1.1502445340774095,
          1.2837925786475952,
          0.9864992350691179,
          -0.9320267065551059,
          -0.8268156968777981,
          1.2819295786919231,
          -0.9690478522266913,
          -0.7179845225287559,
          0.9309734851754291,
          1.301719123119469,
          -0.7399666081194954,
          -0.9952523821546029,
          0.8188045901911603,
          1.2661849808152668,
          1.0052733588496547,
          -0.7150602392048957,
          -1.1862511972220258,
          0.8745875769554532,
          0.6910776097742078,
          0.7469322590851725,
          0.7844595056305211,
          -0.6194492995823518,
          -0.9239022952999364,
          1.2719625267065608,
          -0.656008222651704,
          -0.6551357816375877,
          -1.2133778915749607,
          -0.9443286375463092,
          -1.0810036849416802,
          -0.9761341536992727,
          1.2324322231423355,
          -0.9535036293921223,
          -0.861214908817492,
          1.321265401484094,
          -0.8637983554966976,
          -0.6343036249474796,
          0.890029183449895,
          1.3278595728905955,
          0.5409112281836198,
          1.2143556688295267,
          0.6645551795363592,
          1.2007568112748457,
          -0.8660744964339417,
          -0.6874699304596689,
          0.941884403470697,
          -0.5541764819710538,
          -1.2745494440852712,
          1.2576853229716223,
          0.9807682527681602,
          -0.7378636506087863,
          -1.447478735047927,
          1.3836203241893288,
          -0.8799534681150314,
          -0.6108202688518789,
          0.9115533116674928,
          1.4481803670753812,
          0.8045261028757311,
          -0.7047457063050327,
          -1.081483877780382,
          1.3251012546650018,
          0.7281611660838927,
          1.2516612429872687,
          -1.2148954441964366,
          -0.7692224457468292,
          -1.2786175642217612,
          -0.5561582416444111,
          0.6839555065677464,
          -0.6670199609576771,
          0.7167293461967064,
          -0.7026967865649777,
          -1.2633919425662872,
          -0.6281361116602141,
          0.9064452055083349,
          -0.5907240604726168,
          0.6769935136224325,
          -0.7813881309833866,
          0.724958753083272,
          -0.6162988227897435,
          -1.1123778240762976,
          1.125084694522137,
          0.694625035040174,
          1.250262450083478,
          0.7187893635559259,
          1.2699932564424268,
          -1.4005339619924901,
          -0.65488829082332,
          0.49103020404745595,
          1.2130641029554052,
          0.4588516138758925,
          1.2478863190460008,
          -1.126024963870656,
          -0.7054135966563709,
          0.6004402375277115,
          -0.6615404009174346,
          -1.1340076299427675,
          1.3327601350605685,
          -1.3924762077528297,
          1.1539099731132754,
          -1.2956484261115808,
          -0.7807578603214125,
          -1.1760965184807448,
          -0.8441385019118375,
          0.6584469753512177,
          -0.7912412129068926,
          -1.418233464233462,
          -0.8558618207204519,
          -1.3304566622405534,
          1.0786867097181316,
          0.6745069646614251,
          1.1344153221547446
         ]
        }
       ],
       "layout": {
        "autosize": true,
        "coloraxis": {
         "colorbar": {
          "title": {
           "text": "preds"
          }
         },
         "colorscale": [
          [
           0,
           "#0d0887"
          ],
          [
           0.1111111111111111,
           "#46039f"
          ],
          [
           0.2222222222222222,
           "#7201a8"
          ],
          [
           0.3333333333333333,
           "#9c179e"
          ],
          [
           0.4444444444444444,
           "#bd3786"
          ],
          [
           0.5555555555555556,
           "#d8576b"
          ],
          [
           0.6666666666666666,
           "#ed7953"
          ],
          [
           0.7777777777777778,
           "#fb9f3a"
          ],
          [
           0.8888888888888888,
           "#fdca26"
          ],
          [
           1,
           "#f0f921"
          ]
         ]
        },
        "legend": {
         "tracegroupgap": 0
        },
        "margin": {
         "t": 60
        },
        "scene": {
         "aspectmode": "auto",
         "aspectratio": {
          "x": 1.2969224133789405,
          "y": 1.0905592720519115,
          "z": 0.7070281895879805
         },
         "camera": {
          "center": {
           "x": 0,
           "y": 0,
           "z": 0
          },
          "eye": {
           "x": 1.5783307068786887,
           "y": 1.5783307068786885,
           "z": 1.5783307068786887
          },
          "projection": {
           "type": "perspective"
          },
          "up": {
           "x": 0,
           "y": 0,
           "z": 1
          }
         },
         "domain": {
          "x": [
           0,
           1
          ],
          "y": [
           0,
           1
          ]
         },
         "xaxis": {
          "title": {
           "text": "PCA1"
          },
          "type": "linear"
         },
         "yaxis": {
          "title": {
           "text": "PCA2"
          },
          "type": "linear"
         },
         "zaxis": {
          "title": {
           "text": "PCA3"
          },
          "type": "linear"
         }
        },
        "template": {
         "data": {
          "bar": [
           {
            "error_x": {
             "color": "#2a3f5f"
            },
            "error_y": {
             "color": "#2a3f5f"
            },
            "marker": {
             "line": {
              "color": "#E5ECF6",
              "width": 0.5
             },
             "pattern": {
              "fillmode": "overlay",
              "size": 10,
              "solidity": 0.2
             }
            },
            "type": "bar"
           }
          ],
          "barpolar": [
           {
            "marker": {
             "line": {
              "color": "#E5ECF6",
              "width": 0.5
             },
             "pattern": {
              "fillmode": "overlay",
              "size": 10,
              "solidity": 0.2
             }
            },
            "type": "barpolar"
           }
          ],
          "carpet": [
           {
            "aaxis": {
             "endlinecolor": "#2a3f5f",
             "gridcolor": "white",
             "linecolor": "white",
             "minorgridcolor": "white",
             "startlinecolor": "#2a3f5f"
            },
            "baxis": {
             "endlinecolor": "#2a3f5f",
             "gridcolor": "white",
             "linecolor": "white",
             "minorgridcolor": "white",
             "startlinecolor": "#2a3f5f"
            },
            "type": "carpet"
           }
          ],
          "choropleth": [
           {
            "colorbar": {
             "outlinewidth": 0,
             "ticks": ""
            },
            "type": "choropleth"
           }
          ],
          "contour": [
           {
            "colorbar": {
             "outlinewidth": 0,
             "ticks": ""
            },
            "colorscale": [
             [
              0,
              "#0d0887"
             ],
             [
              0.1111111111111111,
              "#46039f"
             ],
             [
              0.2222222222222222,
              "#7201a8"
             ],
             [
              0.3333333333333333,
              "#9c179e"
             ],
             [
              0.4444444444444444,
              "#bd3786"
             ],
             [
              0.5555555555555556,
              "#d8576b"
             ],
             [
              0.6666666666666666,
              "#ed7953"
             ],
             [
              0.7777777777777778,
              "#fb9f3a"
             ],
             [
              0.8888888888888888,
              "#fdca26"
             ],
             [
              1,
              "#f0f921"
             ]
            ],
            "type": "contour"
           }
          ],
          "contourcarpet": [
           {
            "colorbar": {
             "outlinewidth": 0,
             "ticks": ""
            },
            "type": "contourcarpet"
           }
          ],
          "heatmap": [
           {
            "colorbar": {
             "outlinewidth": 0,
             "ticks": ""
            },
            "colorscale": [
             [
              0,
              "#0d0887"
             ],
             [
              0.1111111111111111,
              "#46039f"
             ],
             [
              0.2222222222222222,
              "#7201a8"
             ],
             [
              0.3333333333333333,
              "#9c179e"
             ],
             [
              0.4444444444444444,
              "#bd3786"
             ],
             [
              0.5555555555555556,
              "#d8576b"
             ],
             [
              0.6666666666666666,
              "#ed7953"
             ],
             [
              0.7777777777777778,
              "#fb9f3a"
             ],
             [
              0.8888888888888888,
              "#fdca26"
             ],
             [
              1,
              "#f0f921"
             ]
            ],
            "type": "heatmap"
           }
          ],
          "heatmapgl": [
           {
            "colorbar": {
             "outlinewidth": 0,
             "ticks": ""
            },
            "colorscale": [
             [
              0,
              "#0d0887"
             ],
             [
              0.1111111111111111,
              "#46039f"
             ],
             [
              0.2222222222222222,
              "#7201a8"
             ],
             [
              0.3333333333333333,
              "#9c179e"
             ],
             [
              0.4444444444444444,
              "#bd3786"
             ],
             [
              0.5555555555555556,
              "#d8576b"
             ],
             [
              0.6666666666666666,
              "#ed7953"
             ],
             [
              0.7777777777777778,
              "#fb9f3a"
             ],
             [
              0.8888888888888888,
              "#fdca26"
             ],
             [
              1,
              "#f0f921"
             ]
            ],
            "type": "heatmapgl"
           }
          ],
          "histogram": [
           {
            "marker": {
             "pattern": {
              "fillmode": "overlay",
              "size": 10,
              "solidity": 0.2
             }
            },
            "type": "histogram"
           }
          ],
          "histogram2d": [
           {
            "colorbar": {
             "outlinewidth": 0,
             "ticks": ""
            },
            "colorscale": [
             [
              0,
              "#0d0887"
             ],
             [
              0.1111111111111111,
              "#46039f"
             ],
             [
              0.2222222222222222,
              "#7201a8"
             ],
             [
              0.3333333333333333,
              "#9c179e"
             ],
             [
              0.4444444444444444,
              "#bd3786"
             ],
             [
              0.5555555555555556,
              "#d8576b"
             ],
             [
              0.6666666666666666,
              "#ed7953"
             ],
             [
              0.7777777777777778,
              "#fb9f3a"
             ],
             [
              0.8888888888888888,
              "#fdca26"
             ],
             [
              1,
              "#f0f921"
             ]
            ],
            "type": "histogram2d"
           }
          ],
          "histogram2dcontour": [
           {
            "colorbar": {
             "outlinewidth": 0,
             "ticks": ""
            },
            "colorscale": [
             [
              0,
              "#0d0887"
             ],
             [
              0.1111111111111111,
              "#46039f"
             ],
             [
              0.2222222222222222,
              "#7201a8"
             ],
             [
              0.3333333333333333,
              "#9c179e"
             ],
             [
              0.4444444444444444,
              "#bd3786"
             ],
             [
              0.5555555555555556,
              "#d8576b"
             ],
             [
              0.6666666666666666,
              "#ed7953"
             ],
             [
              0.7777777777777778,
              "#fb9f3a"
             ],
             [
              0.8888888888888888,
              "#fdca26"
             ],
             [
              1,
              "#f0f921"
             ]
            ],
            "type": "histogram2dcontour"
           }
          ],
          "mesh3d": [
           {
            "colorbar": {
             "outlinewidth": 0,
             "ticks": ""
            },
            "type": "mesh3d"
           }
          ],
          "parcoords": [
           {
            "line": {
             "colorbar": {
              "outlinewidth": 0,
              "ticks": ""
             }
            },
            "type": "parcoords"
           }
          ],
          "pie": [
           {
            "automargin": true,
            "type": "pie"
           }
          ],
          "scatter": [
           {
            "fillpattern": {
             "fillmode": "overlay",
             "size": 10,
             "solidity": 0.2
            },
            "type": "scatter"
           }
          ],
          "scatter3d": [
           {
            "line": {
             "colorbar": {
              "outlinewidth": 0,
              "ticks": ""
             }
            },
            "marker": {
             "colorbar": {
              "outlinewidth": 0,
              "ticks": ""
             }
            },
            "type": "scatter3d"
           }
          ],
          "scattercarpet": [
           {
            "marker": {
             "colorbar": {
              "outlinewidth": 0,
              "ticks": ""
             }
            },
            "type": "scattercarpet"
           }
          ],
          "scattergeo": [
           {
            "marker": {
             "colorbar": {
              "outlinewidth": 0,
              "ticks": ""
             }
            },
            "type": "scattergeo"
           }
          ],
          "scattergl": [
           {
            "marker": {
             "colorbar": {
              "outlinewidth": 0,
              "ticks": ""
             }
            },
            "type": "scattergl"
           }
          ],
          "scattermapbox": [
           {
            "marker": {
             "colorbar": {
              "outlinewidth": 0,
              "ticks": ""
             }
            },
            "type": "scattermapbox"
           }
          ],
          "scatterpolar": [
           {
            "marker": {
             "colorbar": {
              "outlinewidth": 0,
              "ticks": ""
             }
            },
            "type": "scatterpolar"
           }
          ],
          "scatterpolargl": [
           {
            "marker": {
             "colorbar": {
              "outlinewidth": 0,
              "ticks": ""
             }
            },
            "type": "scatterpolargl"
           }
          ],
          "scatterternary": [
           {
            "marker": {
             "colorbar": {
              "outlinewidth": 0,
              "ticks": ""
             }
            },
            "type": "scatterternary"
           }
          ],
          "surface": [
           {
            "colorbar": {
             "outlinewidth": 0,
             "ticks": ""
            },
            "colorscale": [
             [
              0,
              "#0d0887"
             ],
             [
              0.1111111111111111,
              "#46039f"
             ],
             [
              0.2222222222222222,
              "#7201a8"
             ],
             [
              0.3333333333333333,
              "#9c179e"
             ],
             [
              0.4444444444444444,
              "#bd3786"
             ],
             [
              0.5555555555555556,
              "#d8576b"
             ],
             [
              0.6666666666666666,
              "#ed7953"
             ],
             [
              0.7777777777777778,
              "#fb9f3a"
             ],
             [
              0.8888888888888888,
              "#fdca26"
             ],
             [
              1,
              "#f0f921"
             ]
            ],
            "type": "surface"
           }
          ],
          "table": [
           {
            "cells": {
             "fill": {
              "color": "#EBF0F8"
             },
             "line": {
              "color": "white"
             }
            },
            "header": {
             "fill": {
              "color": "#C8D4E3"
             },
             "line": {
              "color": "white"
             }
            },
            "type": "table"
           }
          ]
         },
         "layout": {
          "annotationdefaults": {
           "arrowcolor": "#2a3f5f",
           "arrowhead": 0,
           "arrowwidth": 1
          },
          "autotypenumbers": "strict",
          "coloraxis": {
           "colorbar": {
            "outlinewidth": 0,
            "ticks": ""
           }
          },
          "colorscale": {
           "diverging": [
            [
             0,
             "#8e0152"
            ],
            [
             0.1,
             "#c51b7d"
            ],
            [
             0.2,
             "#de77ae"
            ],
            [
             0.3,
             "#f1b6da"
            ],
            [
             0.4,
             "#fde0ef"
            ],
            [
             0.5,
             "#f7f7f7"
            ],
            [
             0.6,
             "#e6f5d0"
            ],
            [
             0.7,
             "#b8e186"
            ],
            [
             0.8,
             "#7fbc41"
            ],
            [
             0.9,
             "#4d9221"
            ],
            [
             1,
             "#276419"
            ]
           ],
           "sequential": [
            [
             0,
             "#0d0887"
            ],
            [
             0.1111111111111111,
             "#46039f"
            ],
            [
             0.2222222222222222,
             "#7201a8"
            ],
            [
             0.3333333333333333,
             "#9c179e"
            ],
            [
             0.4444444444444444,
             "#bd3786"
            ],
            [
             0.5555555555555556,
             "#d8576b"
            ],
            [
             0.6666666666666666,
             "#ed7953"
            ],
            [
             0.7777777777777778,
             "#fb9f3a"
            ],
            [
             0.8888888888888888,
             "#fdca26"
            ],
            [
             1,
             "#f0f921"
            ]
           ],
           "sequentialminus": [
            [
             0,
             "#0d0887"
            ],
            [
             0.1111111111111111,
             "#46039f"
            ],
            [
             0.2222222222222222,
             "#7201a8"
            ],
            [
             0.3333333333333333,
             "#9c179e"
            ],
            [
             0.4444444444444444,
             "#bd3786"
            ],
            [
             0.5555555555555556,
             "#d8576b"
            ],
            [
             0.6666666666666666,
             "#ed7953"
            ],
            [
             0.7777777777777778,
             "#fb9f3a"
            ],
            [
             0.8888888888888888,
             "#fdca26"
            ],
            [
             1,
             "#f0f921"
            ]
           ]
          },
          "colorway": [
           "#636efa",
           "#EF553B",
           "#00cc96",
           "#ab63fa",
           "#FFA15A",
           "#19d3f3",
           "#FF6692",
           "#B6E880",
           "#FF97FF",
           "#FECB52"
          ],
          "font": {
           "color": "#2a3f5f"
          },
          "geo": {
           "bgcolor": "white",
           "lakecolor": "white",
           "landcolor": "#E5ECF6",
           "showlakes": true,
           "showland": true,
           "subunitcolor": "white"
          },
          "hoverlabel": {
           "align": "left"
          },
          "hovermode": "closest",
          "mapbox": {
           "style": "light"
          },
          "paper_bgcolor": "white",
          "plot_bgcolor": "#E5ECF6",
          "polar": {
           "angularaxis": {
            "gridcolor": "white",
            "linecolor": "white",
            "ticks": ""
           },
           "bgcolor": "#E5ECF6",
           "radialaxis": {
            "gridcolor": "white",
            "linecolor": "white",
            "ticks": ""
           }
          },
          "scene": {
           "xaxis": {
            "backgroundcolor": "#E5ECF6",
            "gridcolor": "white",
            "gridwidth": 2,
            "linecolor": "white",
            "showbackground": true,
            "ticks": "",
            "zerolinecolor": "white"
           },
           "yaxis": {
            "backgroundcolor": "#E5ECF6",
            "gridcolor": "white",
            "gridwidth": 2,
            "linecolor": "white",
            "showbackground": true,
            "ticks": "",
            "zerolinecolor": "white"
           },
           "zaxis": {
            "backgroundcolor": "#E5ECF6",
            "gridcolor": "white",
            "gridwidth": 2,
            "linecolor": "white",
            "showbackground": true,
            "ticks": "",
            "zerolinecolor": "white"
           }
          },
          "shapedefaults": {
           "line": {
            "color": "#2a3f5f"
           }
          },
          "ternary": {
           "aaxis": {
            "gridcolor": "white",
            "linecolor": "white",
            "ticks": ""
           },
           "baxis": {
            "gridcolor": "white",
            "linecolor": "white",
            "ticks": ""
           },
           "bgcolor": "#E5ECF6",
           "caxis": {
            "gridcolor": "white",
            "linecolor": "white",
            "ticks": ""
           }
          },
          "title": {
           "x": 0.05
          },
          "xaxis": {
           "automargin": true,
           "gridcolor": "white",
           "linecolor": "white",
           "ticks": "",
           "title": {
            "standoff": 15
           },
           "zerolinecolor": "white",
           "zerolinewidth": 2
          },
          "yaxis": {
           "automargin": true,
           "gridcolor": "white",
           "linecolor": "white",
           "ticks": "",
           "title": {
            "standoff": 15
           },
           "zerolinecolor": "white",
           "zerolinewidth": 2
          }
         }
        },
        "title": {
         "text": "AgglomerativeClustering",
         "x": 0.5
        }
       }
      },
      "text/html": [
       "<div>                            <div id=\"9b1a13df-f236-47c9-8187-86da88134534\" class=\"plotly-graph-div\" style=\"height:525px; width:100%;\"></div>            <script type=\"text/javascript\">                require([\"plotly\"], function(Plotly) {                    window.PLOTLYENV=window.PLOTLYENV || {};                                    if (document.getElementById(\"9b1a13df-f236-47c9-8187-86da88134534\")) {                    Plotly.newPlot(                        \"9b1a13df-f236-47c9-8187-86da88134534\",                        [{\"hovertemplate\":\"PCA1=%{x}\\u003cbr\\u003ePCA2=%{y}\\u003cbr\\u003ePCA3=%{z}\\u003cbr\\u003epreds=%{marker.color}\\u003cextra\\u003e\\u003c\\u002fextra\\u003e\",\"legendgroup\":\"\",\"marker\":{\"color\":[3,3,2,3,2,3,2,3,2,3,2,3,2,3,2,3,2,3,2,3,3,3,2,3,2,3,2,3,2,3,2,3,2,3,2,3,2,3,2,3,2,3,2,3,2,3,2,3,3,2,2,3,3,2,2,2,2,2,3,2,2,3,2,2,2,3,2,2,3,2,2,2,2,2,2,3,2,0,3,2,2,0,2,2,3,0,2,1,1,2,2,0,0,2,1,0,2,1,0,0,1,2,0,0,0,1,2,0,0,0,0,1,1,0,1,1,2,1,1,1,0,1,1,0,1,1,0,0,0,0,0,0,1,1,0,1,1,0,0,1,2,0,1,1,0,0,0,1,1,0,0,0,1,1,1,1,0,1,0,1,1,1,0,1,0,1,0,1,1,0,0,0,0,0,1,1,0,0,0,0,1,1,0,1,1,0,1,0,1,1,1,1,0,1,1,1,1,0,0,0],\"coloraxis\":\"coloraxis\",\"opacity\":0.5,\"symbol\":\"circle\",\"size\":3},\"mode\":\"markers\",\"name\":\"\",\"scene\":\"scene\",\"showlegend\":false,\"x\":[-2.3169645991165826,-2.2723914183889558,-2.4542232620083726,-2.3864614223698006,-2.3973767127662438,-2.3338464135648436,-2.3846579021732044,-2.268998694903726,-2.242365799675841,-2.2523766152042497,-2.214930218938996,-2.2153348329163003,-2.3004125739942034,-2.1590961685341123,-2.0740806759686876,-1.971079765489163,-2.1565839224873393,-1.9267698685331647,-1.9636254960366029,-2.011051974876462,-1.8696672259129945,-1.802184999803629,-2.026308594212342,-1.7641009378291523,-1.930983298458648,-1.6467664283628398,-1.8710081418881994,-1.653949700327038,-1.8095894475981948,-1.7109417220596648,-1.6685011191999188,-1.6675073278720187,-1.5480415277924644,-1.3817611289839653,-1.6635307405921012,-1.5310423495178218,-1.5942081924861657,-1.5065650738039444,-1.4680699975348068,-1.3777517127460004,-1.4727276021841846,-1.1629265206000583,-1.225691105535373,-1.3116397061827103,-1.367943975021651,-1.2683234311117106,-1.2952167314453669,-1.2393956548537806,-1.2359711042386825,-1.2281690397818263,-1.1930631379750656,-0.9811847263217206,-1.1004059575536023,-0.9871190917724788,-1.1256951741239818,-0.9529347735172612,-1.0722289914514374,-0.9456879396412141,-0.9403600097674677,-0.8323018316956906,-0.8487585601242429,-0.7251831657588641,-0.9518239572487792,-0.9048795528445337,-0.7351504439630743,-0.6169010529101001,-0.8250554452743927,-0.8696255778932603,-0.5824902526832216,-0.7668600968974281,-0.6469496634889318,-0.7529618411060661,-0.7363596165513394,-0.7180271899734966,-0.44651904273790904,-0.35555621090842787,-0.5435010528983356,-0.3672143123174434,-0.4715484711001682,-0.525323547237112,-0.3653917457256979,-0.3078683213989369,-0.37174817272307326,-0.4681541487891028,-0.3895456713196051,-0.28894143122920035,-0.3584483533655312,-0.27624054921956803,-0.2591884088302828,-0.29445628232801624,-0.28710765909289465,-0.019658981720388543,-0.039596917708760025,-0.1751209048214141,-0.1435586211152362,0.05246342510471815,-0.14778711344364373,-0.08893827051397277,0.054379781912345396,0.13433800688551767,0.0023611632606233266,-0.03653036581434023,0.10314322752115976,0.20208289986886546,0.16454111829757653,0.0686580447683991,0.015706288211100976,0.20827498115917742,0.18703948085583733,0.20802274463949993,0.2259295842835489,0.18367113973071197,0.1704332834591843,0.3854124481529074,0.270994317696578,0.2827483090614,0.19198315654679945,0.24900800723747296,0.2965655790072757,0.3232274463348425,0.5426327826718539,0.3591627701267638,0.43648743602052725,0.6372395963137402,0.4998031092518232,0.5364237783619946,0.6697830290057083,0.7411198664199806,0.637964035023837,0.7524194681942287,0.6870319003410351,0.7746263612217272,0.651173589552674,0.6825655709534993,0.8455339466957911,0.753140550960051,0.6614149133540099,0.9152688000867111,0.9278097865096195,0.8016243830396593,0.7336311103949984,1.0353580358578423,0.8793900172559499,0.9239388690828169,1.070224034424895,1.1502429128203913,1.0650227237250771,0.9882547376950515,0.9774124340009026,1.2066062698151658,1.1350901825835102,1.218258471820914,1.0024678435491015,1.076905434003752,1.016770882760669,1.1369049194749647,1.2075111097137323,1.14507943930807,1.2385216882262784,1.1651097398650716,1.113702362017565,1.2273552791218985,1.4044984760759944,1.309879830068228,1.4865903893141768,1.4150510909934968,1.550234333876208,1.490453500676365,1.463402231317326,1.6733836640293798,1.6242050618410764,1.7171011971334085,1.6547900534198288,1.7387851876240545,1.5160356696197808,1.6405715490766,1.6864447016946362,1.8141543208941275,1.8421849709702196,1.9737492014746179,1.880843468213258,1.9513291317599435,2.0548969593789312,2.01097249161248,1.9807474825107687,2.2253964257253944,2.017174329164424,2.2825800541910506,2.117829153617699,2.2005718559213094,2.1628964342254027,2.2197753115114884,2.6026461268699843,2.5190564166192915,2.633961754473943,2.7277333925346268,2.8345680996551725,3.0731128523921005,3.3319881383999417,3.405501568284711],\"y\":[-0.4541902503048635,-1.4741036374887448,-0.006922242803214672,-1.7499349872244003,-0.36934115852703464,-1.7716536534008673,0.73432384482708,-2.2008387993723537,2.7265008621419753,-1.26890987796171,2.581676479009006,-1.741298261298961,1.630470263084028,-1.6966123584051964,1.1307882663911568,-1.3662966972290127,-0.03469635502353243,-1.1176967238490214,1.446548710023705,-1.7109102903695945,0.4497304638982911,-1.0551416295091922,1.3100087798741364,-0.758455503903786,1.4668918519593632,-1.0944852198834911,0.5441330041034204,-0.23914265096244391,0.32524922270098006,-2.0040766998963835,2.5130245674833382,-1.728842566652813,2.1702458962433804,-1.8986161605053988,1.2251277217591316,-1.9393780262090297,0.8011247432893878,-1.281744785275509,0.2679299120837094,-1.8256656126621054,1.4586080114662472,-1.5984537627811273,1.0768495642281357,-0.908706402167676,0.85760266132078,-1.3600044543205232,0.18871007657707997,-0.7317772875901695,-0.49988516118582516,-0.40116383409937717,0.22119818289421841,-0.29850778787544086,-0.7183747025833721,0.9840039138598311,0.4581445724591364,0.8988351445368409,0.3752035047141801,1.8510109317282435,-0.8328219799192668,1.0639498374103218,1.635698747958376,-0.8513835418357397,1.1134110041902545,0.28632403013424823,1.4257075011637135,-1.0053345545636565,-0.015095375725055572,1.2705936836378953,-0.9556269673367785,-0.47698065458535926,1.6657033440151414,0.3964977795963828,0.8516449683287258,0.6653446187571322,1.3404322030438156,-0.47248034714205556,0.008937879948951448,0.37768005427724877,-1.0485585549833984,0.49949506209468086,1.136145622817281,0.09321345551305324,1.8956775484649289,0.29890798384188844,-1.2794792950735123,0.8263887602440452,0.3720503048891741,-1.1745206466609042,-0.715396417007896,0.44628105145956765,1.094616314497218,-0.5150416186944677,0.7514231498846814,0.11505012810900425,-0.3324096525966389,-0.5110537126415104,0.27406626912978665,-0.7915230171173552,0.9393557995900289,-0.6271003565633759,-0.7472425575116822,0.3480303418855492,1.4243253709459236,-0.4899416511925221,0.6172623709667051,-0.8717654276209409,1.1340685230556071,1.1311375858748725,1.9012567382299776,1.6696421507725565,1.5139530019852077,-1.2884643729365857,-0.03152047395727708,-0.5925636416920991,-1.176212556502171,-1.1800508279493749,1.1753433280548449,0.05925763642013249,0.5854473489628967,0.1634166015397552,-0.4616208821031435,0.024979512489606462,-0.3543922103293245,-0.8005829955910665,-0.4190148612294642,-1.3029855347558619,0.8898332080547783,-0.8559514507059965,2.3179910446314955,-0.42157327210047474,1.7800415576276585,-0.3720044543470582,-0.4511711195076347,-1.1407485921476466,0.5575905748395508,-1.691173414675034,1.2057014858457478,-0.661620641785536,0.3763444884285309,-0.9680631923054358,1.9016333355902124,-1.192426933524228,-0.45907089225691994,-1.513572521145711,0.6216391998396729,-1.4942517826716242,1.1163963146100382,-1.166112451205811,0.31824610260628333,-1.01084899907424,1.3772049496989478,-0.710846746367692,0.8649822882922206,-0.9221395674337167,1.1196703031129402,-1.8103101735847502,1.5084364515180257,-1.369183039718976,1.3608401540454689,-1.2357347014541564,1.058736305623666,-1.550429126129996,0.5174721518461708,-1.7165888005668308,1.4891056319373155,-0.987796334764919,1.2555188134332917,-1.6674149156895375,0.2923814747463183,-0.38158562652564115,1.34459136657873,-0.8980831211676427,1.2276062698904175,-0.9562560694496213,1.4554137044006132,-1.573149329910064,2.1800595960287428,-0.7860759101323677,2.259567142743358,-0.9474809287710433,0.21677632611169217,-1.4677859310805934,1.5960060053868321,-1.667989634460785,0.22937922782550418,-1.3755783420906524,1.2712776168495765,-0.7001708970738693,0.8185294779961897,-1.2389110172862057,0.31396310611618417,-1.0096520357479872,1.1529599019749484,-1.2929692027656097,1.1529794624714043,-1.1163291851385475,0.7390300083595333,-0.6449002008066583,0.8540215730420055,-0.9756426062301723],\"z\":[1.4542299721814966,1.7128783776879386,-0.7336279638376808,-0.29128010700567647,-0.6365638972108977,-0.2907959452676781,-0.9162751464527458,-0.18554779119708784,0.672605767603302,-0.41922782169019535,0.7098970746235664,-0.2973752077464568,-1.1330653504665082,-0.3223781009131814,1.0445776076841877,1.661931459494046,-0.7381182396134333,1.5931980538914832,0.9673089797549833,-0.32160857256898684,1.2004235295154853,1.5712531126940263,-1.0831634640536765,1.4973192828303594,-1.124413787940681,1.572000701902456,-0.9008647900815537,1.3590171750044004,-0.8540079311599149,-0.28081001545529605,0.6775900682863822,-0.3562776495275648,0.7496293026106761,1.7469996666722674,-1.0883218369021608,-0.3135224907757651,-0.9913417155098778,-0.4761096712848098,-0.8702875992541405,-0.3558224571333733,-1.1502563816963873,1.6575723837145466,0.9988474638503505,-0.5863761411406799,-1.018285659596743,-0.4802926904492558,-0.8524294492987997,-0.640663109879899,-0.6985234424496343,-0.7227126326708401,-0.8697885285884194,1.318233684409171,-0.6520177184108311,1.012436368627301,-0.9349017695192479,1.0215984359950399,-0.9171985855548345,0.7958449597453398,-0.6389720589009262,0.9745918635622608,0.8438473435994625,1.4273621625917883,-1.1023452696146032,-0.9054972461092151,0.8825788531458917,1.45714268259011,-0.843958010799148,-1.1482586667656989,1.442540983406044,-0.7396443038414103,0.8199773963475967,-0.951587844716798,-1.0585314537345092,-1.012394696075953,0.8777716151802429,1.3064831246038333,-0.8711846952523165,1.1017676303840855,-0.6248747724707698,-0.994642430490878,0.9218778278745747,1.1680822117463057,0.7365981169596434,-0.9504058171812769,-0.574034331306732,0.9875310460423098,-0.9705810146450475,-0.6092117899185161,-0.7180306815797287,-0.9988035105195596,-1.1502445340774095,1.2837925786475952,0.9864992350691179,-0.9320267065551059,-0.8268156968777981,1.2819295786919231,-0.9690478522266913,-0.7179845225287559,0.9309734851754291,1.301719123119469,-0.7399666081194954,-0.9952523821546029,0.8188045901911603,1.2661849808152668,1.0052733588496547,-0.7150602392048957,-1.1862511972220258,0.8745875769554532,0.6910776097742078,0.7469322590851725,0.7844595056305211,-0.6194492995823518,-0.9239022952999364,1.2719625267065608,-0.656008222651704,-0.6551357816375877,-1.2133778915749607,-0.9443286375463092,-1.0810036849416802,-0.9761341536992727,1.2324322231423355,-0.9535036293921223,-0.861214908817492,1.321265401484094,-0.8637983554966976,-0.6343036249474796,0.890029183449895,1.3278595728905955,0.5409112281836198,1.2143556688295267,0.6645551795363592,1.2007568112748457,-0.8660744964339417,-0.6874699304596689,0.941884403470697,-0.5541764819710538,-1.2745494440852712,1.2576853229716223,0.9807682527681602,-0.7378636506087863,-1.447478735047927,1.3836203241893288,-0.8799534681150314,-0.6108202688518789,0.9115533116674928,1.4481803670753812,0.8045261028757311,-0.7047457063050327,-1.081483877780382,1.3251012546650018,0.7281611660838927,1.2516612429872687,-1.2148954441964366,-0.7692224457468292,-1.2786175642217612,-0.5561582416444111,0.6839555065677464,-0.6670199609576771,0.7167293461967064,-0.7026967865649777,-1.2633919425662872,-0.6281361116602141,0.9064452055083349,-0.5907240604726168,0.6769935136224325,-0.7813881309833866,0.724958753083272,-0.6162988227897435,-1.1123778240762976,1.125084694522137,0.694625035040174,1.250262450083478,0.7187893635559259,1.2699932564424268,-1.4005339619924901,-0.65488829082332,0.49103020404745595,1.2130641029554052,0.4588516138758925,1.2478863190460008,-1.126024963870656,-0.7054135966563709,0.6004402375277115,-0.6615404009174346,-1.1340076299427675,1.3327601350605685,-1.3924762077528297,1.1539099731132754,-1.2956484261115808,-0.7807578603214125,-1.1760965184807448,-0.8441385019118375,0.6584469753512177,-0.7912412129068926,-1.418233464233462,-0.8558618207204519,-1.3304566622405534,1.0786867097181316,0.6745069646614251,1.1344153221547446],\"type\":\"scatter3d\"}],                        {\"template\":{\"data\":{\"histogram2dcontour\":[{\"type\":\"histogram2dcontour\",\"colorbar\":{\"outlinewidth\":0,\"ticks\":\"\"},\"colorscale\":[[0.0,\"#0d0887\"],[0.1111111111111111,\"#46039f\"],[0.2222222222222222,\"#7201a8\"],[0.3333333333333333,\"#9c179e\"],[0.4444444444444444,\"#bd3786\"],[0.5555555555555556,\"#d8576b\"],[0.6666666666666666,\"#ed7953\"],[0.7777777777777778,\"#fb9f3a\"],[0.8888888888888888,\"#fdca26\"],[1.0,\"#f0f921\"]]}],\"choropleth\":[{\"type\":\"choropleth\",\"colorbar\":{\"outlinewidth\":0,\"ticks\":\"\"}}],\"histogram2d\":[{\"type\":\"histogram2d\",\"colorbar\":{\"outlinewidth\":0,\"ticks\":\"\"},\"colorscale\":[[0.0,\"#0d0887\"],[0.1111111111111111,\"#46039f\"],[0.2222222222222222,\"#7201a8\"],[0.3333333333333333,\"#9c179e\"],[0.4444444444444444,\"#bd3786\"],[0.5555555555555556,\"#d8576b\"],[0.6666666666666666,\"#ed7953\"],[0.7777777777777778,\"#fb9f3a\"],[0.8888888888888888,\"#fdca26\"],[1.0,\"#f0f921\"]]}],\"heatmap\":[{\"type\":\"heatmap\",\"colorbar\":{\"outlinewidth\":0,\"ticks\":\"\"},\"colorscale\":[[0.0,\"#0d0887\"],[0.1111111111111111,\"#46039f\"],[0.2222222222222222,\"#7201a8\"],[0.3333333333333333,\"#9c179e\"],[0.4444444444444444,\"#bd3786\"],[0.5555555555555556,\"#d8576b\"],[0.6666666666666666,\"#ed7953\"],[0.7777777777777778,\"#fb9f3a\"],[0.8888888888888888,\"#fdca26\"],[1.0,\"#f0f921\"]]}],\"heatmapgl\":[{\"type\":\"heatmapgl\",\"colorbar\":{\"outlinewidth\":0,\"ticks\":\"\"},\"colorscale\":[[0.0,\"#0d0887\"],[0.1111111111111111,\"#46039f\"],[0.2222222222222222,\"#7201a8\"],[0.3333333333333333,\"#9c179e\"],[0.4444444444444444,\"#bd3786\"],[0.5555555555555556,\"#d8576b\"],[0.6666666666666666,\"#ed7953\"],[0.7777777777777778,\"#fb9f3a\"],[0.8888888888888888,\"#fdca26\"],[1.0,\"#f0f921\"]]}],\"contourcarpet\":[{\"type\":\"contourcarpet\",\"colorbar\":{\"outlinewidth\":0,\"ticks\":\"\"}}],\"contour\":[{\"type\":\"contour\",\"colorbar\":{\"outlinewidth\":0,\"ticks\":\"\"},\"colorscale\":[[0.0,\"#0d0887\"],[0.1111111111111111,\"#46039f\"],[0.2222222222222222,\"#7201a8\"],[0.3333333333333333,\"#9c179e\"],[0.4444444444444444,\"#bd3786\"],[0.5555555555555556,\"#d8576b\"],[0.6666666666666666,\"#ed7953\"],[0.7777777777777778,\"#fb9f3a\"],[0.8888888888888888,\"#fdca26\"],[1.0,\"#f0f921\"]]}],\"surface\":[{\"type\":\"surface\",\"colorbar\":{\"outlinewidth\":0,\"ticks\":\"\"},\"colorscale\":[[0.0,\"#0d0887\"],[0.1111111111111111,\"#46039f\"],[0.2222222222222222,\"#7201a8\"],[0.3333333333333333,\"#9c179e\"],[0.4444444444444444,\"#bd3786\"],[0.5555555555555556,\"#d8576b\"],[0.6666666666666666,\"#ed7953\"],[0.7777777777777778,\"#fb9f3a\"],[0.8888888888888888,\"#fdca26\"],[1.0,\"#f0f921\"]]}],\"mesh3d\":[{\"type\":\"mesh3d\",\"colorbar\":{\"outlinewidth\":0,\"ticks\":\"\"}}],\"scatter\":[{\"fillpattern\":{\"fillmode\":\"overlay\",\"size\":10,\"solidity\":0.2},\"type\":\"scatter\"}],\"parcoords\":[{\"type\":\"parcoords\",\"line\":{\"colorbar\":{\"outlinewidth\":0,\"ticks\":\"\"}}}],\"scatterpolargl\":[{\"type\":\"scatterpolargl\",\"marker\":{\"colorbar\":{\"outlinewidth\":0,\"ticks\":\"\"}}}],\"bar\":[{\"error_x\":{\"color\":\"#2a3f5f\"},\"error_y\":{\"color\":\"#2a3f5f\"},\"marker\":{\"line\":{\"color\":\"#E5ECF6\",\"width\":0.5},\"pattern\":{\"fillmode\":\"overlay\",\"size\":10,\"solidity\":0.2}},\"type\":\"bar\"}],\"scattergeo\":[{\"type\":\"scattergeo\",\"marker\":{\"colorbar\":{\"outlinewidth\":0,\"ticks\":\"\"}}}],\"scatterpolar\":[{\"type\":\"scatterpolar\",\"marker\":{\"colorbar\":{\"outlinewidth\":0,\"ticks\":\"\"}}}],\"histogram\":[{\"marker\":{\"pattern\":{\"fillmode\":\"overlay\",\"size\":10,\"solidity\":0.2}},\"type\":\"histogram\"}],\"scattergl\":[{\"type\":\"scattergl\",\"marker\":{\"colorbar\":{\"outlinewidth\":0,\"ticks\":\"\"}}}],\"scatter3d\":[{\"type\":\"scatter3d\",\"line\":{\"colorbar\":{\"outlinewidth\":0,\"ticks\":\"\"}},\"marker\":{\"colorbar\":{\"outlinewidth\":0,\"ticks\":\"\"}}}],\"scattermapbox\":[{\"type\":\"scattermapbox\",\"marker\":{\"colorbar\":{\"outlinewidth\":0,\"ticks\":\"\"}}}],\"scatterternary\":[{\"type\":\"scatterternary\",\"marker\":{\"colorbar\":{\"outlinewidth\":0,\"ticks\":\"\"}}}],\"scattercarpet\":[{\"type\":\"scattercarpet\",\"marker\":{\"colorbar\":{\"outlinewidth\":0,\"ticks\":\"\"}}}],\"carpet\":[{\"aaxis\":{\"endlinecolor\":\"#2a3f5f\",\"gridcolor\":\"white\",\"linecolor\":\"white\",\"minorgridcolor\":\"white\",\"startlinecolor\":\"#2a3f5f\"},\"baxis\":{\"endlinecolor\":\"#2a3f5f\",\"gridcolor\":\"white\",\"linecolor\":\"white\",\"minorgridcolor\":\"white\",\"startlinecolor\":\"#2a3f5f\"},\"type\":\"carpet\"}],\"table\":[{\"cells\":{\"fill\":{\"color\":\"#EBF0F8\"},\"line\":{\"color\":\"white\"}},\"header\":{\"fill\":{\"color\":\"#C8D4E3\"},\"line\":{\"color\":\"white\"}},\"type\":\"table\"}],\"barpolar\":[{\"marker\":{\"line\":{\"color\":\"#E5ECF6\",\"width\":0.5},\"pattern\":{\"fillmode\":\"overlay\",\"size\":10,\"solidity\":0.2}},\"type\":\"barpolar\"}],\"pie\":[{\"automargin\":true,\"type\":\"pie\"}]},\"layout\":{\"autotypenumbers\":\"strict\",\"colorway\":[\"#636efa\",\"#EF553B\",\"#00cc96\",\"#ab63fa\",\"#FFA15A\",\"#19d3f3\",\"#FF6692\",\"#B6E880\",\"#FF97FF\",\"#FECB52\"],\"font\":{\"color\":\"#2a3f5f\"},\"hovermode\":\"closest\",\"hoverlabel\":{\"align\":\"left\"},\"paper_bgcolor\":\"white\",\"plot_bgcolor\":\"#E5ECF6\",\"polar\":{\"bgcolor\":\"#E5ECF6\",\"angularaxis\":{\"gridcolor\":\"white\",\"linecolor\":\"white\",\"ticks\":\"\"},\"radialaxis\":{\"gridcolor\":\"white\",\"linecolor\":\"white\",\"ticks\":\"\"}},\"ternary\":{\"bgcolor\":\"#E5ECF6\",\"aaxis\":{\"gridcolor\":\"white\",\"linecolor\":\"white\",\"ticks\":\"\"},\"baxis\":{\"gridcolor\":\"white\",\"linecolor\":\"white\",\"ticks\":\"\"},\"caxis\":{\"gridcolor\":\"white\",\"linecolor\":\"white\",\"ticks\":\"\"}},\"coloraxis\":{\"colorbar\":{\"outlinewidth\":0,\"ticks\":\"\"}},\"colorscale\":{\"sequential\":[[0.0,\"#0d0887\"],[0.1111111111111111,\"#46039f\"],[0.2222222222222222,\"#7201a8\"],[0.3333333333333333,\"#9c179e\"],[0.4444444444444444,\"#bd3786\"],[0.5555555555555556,\"#d8576b\"],[0.6666666666666666,\"#ed7953\"],[0.7777777777777778,\"#fb9f3a\"],[0.8888888888888888,\"#fdca26\"],[1.0,\"#f0f921\"]],\"sequentialminus\":[[0.0,\"#0d0887\"],[0.1111111111111111,\"#46039f\"],[0.2222222222222222,\"#7201a8\"],[0.3333333333333333,\"#9c179e\"],[0.4444444444444444,\"#bd3786\"],[0.5555555555555556,\"#d8576b\"],[0.6666666666666666,\"#ed7953\"],[0.7777777777777778,\"#fb9f3a\"],[0.8888888888888888,\"#fdca26\"],[1.0,\"#f0f921\"]],\"diverging\":[[0,\"#8e0152\"],[0.1,\"#c51b7d\"],[0.2,\"#de77ae\"],[0.3,\"#f1b6da\"],[0.4,\"#fde0ef\"],[0.5,\"#f7f7f7\"],[0.6,\"#e6f5d0\"],[0.7,\"#b8e186\"],[0.8,\"#7fbc41\"],[0.9,\"#4d9221\"],[1,\"#276419\"]]},\"xaxis\":{\"gridcolor\":\"white\",\"linecolor\":\"white\",\"ticks\":\"\",\"title\":{\"standoff\":15},\"zerolinecolor\":\"white\",\"automargin\":true,\"zerolinewidth\":2},\"yaxis\":{\"gridcolor\":\"white\",\"linecolor\":\"white\",\"ticks\":\"\",\"title\":{\"standoff\":15},\"zerolinecolor\":\"white\",\"automargin\":true,\"zerolinewidth\":2},\"scene\":{\"xaxis\":{\"backgroundcolor\":\"#E5ECF6\",\"gridcolor\":\"white\",\"linecolor\":\"white\",\"showbackground\":true,\"ticks\":\"\",\"zerolinecolor\":\"white\",\"gridwidth\":2},\"yaxis\":{\"backgroundcolor\":\"#E5ECF6\",\"gridcolor\":\"white\",\"linecolor\":\"white\",\"showbackground\":true,\"ticks\":\"\",\"zerolinecolor\":\"white\",\"gridwidth\":2},\"zaxis\":{\"backgroundcolor\":\"#E5ECF6\",\"gridcolor\":\"white\",\"linecolor\":\"white\",\"showbackground\":true,\"ticks\":\"\",\"zerolinecolor\":\"white\",\"gridwidth\":2}},\"shapedefaults\":{\"line\":{\"color\":\"#2a3f5f\"}},\"annotationdefaults\":{\"arrowcolor\":\"#2a3f5f\",\"arrowhead\":0,\"arrowwidth\":1},\"geo\":{\"bgcolor\":\"white\",\"landcolor\":\"#E5ECF6\",\"subunitcolor\":\"white\",\"showland\":true,\"showlakes\":true,\"lakecolor\":\"white\"},\"title\":{\"x\":0.05},\"mapbox\":{\"style\":\"light\"}}},\"scene\":{\"domain\":{\"x\":[0.0,1.0],\"y\":[0.0,1.0]},\"xaxis\":{\"title\":{\"text\":\"PCA1\"}},\"yaxis\":{\"title\":{\"text\":\"PCA2\"}},\"zaxis\":{\"title\":{\"text\":\"PCA3\"}}},\"coloraxis\":{\"colorbar\":{\"title\":{\"text\":\"preds\"}},\"colorscale\":[[0.0,\"#0d0887\"],[0.1111111111111111,\"#46039f\"],[0.2222222222222222,\"#7201a8\"],[0.3333333333333333,\"#9c179e\"],[0.4444444444444444,\"#bd3786\"],[0.5555555555555556,\"#d8576b\"],[0.6666666666666666,\"#ed7953\"],[0.7777777777777778,\"#fb9f3a\"],[0.8888888888888888,\"#fdca26\"],[1.0,\"#f0f921\"]]},\"legend\":{\"tracegroupgap\":0},\"margin\":{\"t\":60},\"title\":{\"text\":\"AgglomerativeClustering\",\"x\":0.5}},                        {\"responsive\": true}                    ).then(function(){\n",
       "                            \n",
       "var gd = document.getElementById('9b1a13df-f236-47c9-8187-86da88134534');\n",
       "var x = new MutationObserver(function (mutations, observer) {{\n",
       "        var display = window.getComputedStyle(gd).display;\n",
       "        if (!display || display === 'none') {{\n",
       "            console.log([gd, 'removed!']);\n",
       "            Plotly.purge(gd);\n",
       "            observer.disconnect();\n",
       "        }}\n",
       "}});\n",
       "\n",
       "// Listen for the removal of the full notebook cells\n",
       "var notebookContainer = gd.closest('#notebook-container');\n",
       "if (notebookContainer) {{\n",
       "    x.observe(notebookContainer, {childList: true});\n",
       "}}\n",
       "\n",
       "// Listen for the clearing of the current output cell\n",
       "var outputEl = gd.closest('.output');\n",
       "if (outputEl) {{\n",
       "    x.observe(outputEl, {childList: true});\n",
       "}}\n",
       "\n",
       "                        })                };                });            </script>        </div>"
      ]
     },
     "metadata": {},
     "output_type": "display_data"
    }
   ],
   "source": [
    "cluster_agg = AgglomerativeClustering(n_clusters=4)\n",
    "cluster_agg.fit(PCA_data1)\n",
    "visual_cluster(PCA_data1, cluster_agg.labels_, title=\"AgglomerativeClustering\")"
   ]
  },
  {
   "cell_type": "code",
   "execution_count": null,
   "id": "df3d1884-65e0-4e11-aa9f-3dd99a65b3f8",
   "metadata": {},
   "outputs": [],
   "source": []
  }
 ],
 "metadata": {
  "kernelspec": {
   "display_name": "Python 3 (ipykernel)",
   "language": "python",
   "name": "python3"
  },
  "language_info": {
   "codemirror_mode": {
    "name": "ipython",
    "version": 3
   },
   "file_extension": ".py",
   "mimetype": "text/x-python",
   "name": "python",
   "nbconvert_exporter": "python",
   "pygments_lexer": "ipython3",
   "version": "3.10.8"
  }
 },
 "nbformat": 4,
 "nbformat_minor": 5
}
